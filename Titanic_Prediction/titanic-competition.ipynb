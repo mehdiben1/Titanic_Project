{
 "cells": [
  {
   "cell_type": "code",
   "execution_count": 1,
   "id": "9b28964d",
   "metadata": {
    "_cell_guid": "b1076dfc-b9ad-4769-8c92-a6c4dae69d19",
    "_uuid": "8f2839f25d086af736a60e9eeb907d3b93b6e0e5",
    "execution": {
     "iopub.execute_input": "2024-03-14T18:10:36.129438Z",
     "iopub.status.busy": "2024-03-14T18:10:36.128984Z",
     "iopub.status.idle": "2024-03-14T18:10:38.463529Z",
     "shell.execute_reply": "2024-03-14T18:10:38.462403Z"
    },
    "papermill": {
     "duration": 2.359532,
     "end_time": "2024-03-14T18:10:38.466066",
     "exception": false,
     "start_time": "2024-03-14T18:10:36.106534",
     "status": "completed"
    },
    "tags": []
   },
   "outputs": [
    {
     "name": "stdout",
     "output_type": "stream",
     "text": [
      "/kaggle/input/titanic/train.csv\n",
      "/kaggle/input/titanic/test.csv\n",
      "/kaggle/input/titanic/gender_submission.csv\n"
     ]
    }
   ],
   "source": [
    "# This Python 3 environment comes with many helpful analytics libraries installed\n",
    "# It is defined by the kaggle/python Docker image: https://github.com/kaggle/docker-python\n",
    "# For example, here's several helpful packages to load\n",
    "\n",
    "import numpy as np # linear algebra\n",
    "import pandas as pd # data processing, CSV file I/O (e.g. pd.read_csv)\n",
    "import matplotlib.pyplot as plt\n",
    "import seaborn as sns\n",
    "import warnings\n",
    "warnings.filterwarnings('ignore')\n",
    "\n",
    "# Input data files are available in the read-only \"../input/\" directory\n",
    "# For example, running this (by clicking run or pressing Shift+Enter) will list all files under the input directory\n",
    "\n",
    "import os\n",
    "for dirname, _, filenames in os.walk('/kaggle/input'):\n",
    "    for filename in filenames:\n",
    "        print(os.path.join(dirname, filename))\n",
    "\n",
    "# You can write up to 20GB to the current directory (/kaggle/working/) that gets preserved as output when you create a version using \"Save & Run All\" \n",
    "# You can also write temporary files to /kaggle/temp/, but they won't be saved outside of the current session"
   ]
  },
  {
   "cell_type": "markdown",
   "id": "0da295eb",
   "metadata": {
    "papermill": {
     "duration": 0.01921,
     "end_time": "2024-03-14T18:10:38.503785",
     "exception": false,
     "start_time": "2024-03-14T18:10:38.484575",
     "status": "completed"
    },
    "tags": []
   },
   "source": [
    "# Lead and Check the datasets:"
   ]
  },
  {
   "cell_type": "code",
   "execution_count": 2,
   "id": "71db319e",
   "metadata": {
    "execution": {
     "iopub.execute_input": "2024-03-14T18:10:38.542662Z",
     "iopub.status.busy": "2024-03-14T18:10:38.541646Z",
     "iopub.status.idle": "2024-03-14T18:10:38.572272Z",
     "shell.execute_reply": "2024-03-14T18:10:38.571090Z"
    },
    "papermill": {
     "duration": 0.052884,
     "end_time": "2024-03-14T18:10:38.574924",
     "exception": false,
     "start_time": "2024-03-14T18:10:38.522040",
     "status": "completed"
    },
    "tags": []
   },
   "outputs": [],
   "source": [
    "train = pd.read_csv(\"/kaggle/input/titanic/train.csv\")\n",
    "test= pd.read_csv(\"/kaggle/input/titanic/test.csv\")"
   ]
  },
  {
   "cell_type": "code",
   "execution_count": 3,
   "id": "b66ee605",
   "metadata": {
    "execution": {
     "iopub.execute_input": "2024-03-14T18:10:38.613971Z",
     "iopub.status.busy": "2024-03-14T18:10:38.613530Z",
     "iopub.status.idle": "2024-03-14T18:10:38.636914Z",
     "shell.execute_reply": "2024-03-14T18:10:38.635640Z"
    },
    "papermill": {
     "duration": 0.045585,
     "end_time": "2024-03-14T18:10:38.639229",
     "exception": false,
     "start_time": "2024-03-14T18:10:38.593644",
     "status": "completed"
    },
    "tags": []
   },
   "outputs": [
    {
     "data": {
      "text/html": [
       "<div>\n",
       "<style scoped>\n",
       "    .dataframe tbody tr th:only-of-type {\n",
       "        vertical-align: middle;\n",
       "    }\n",
       "\n",
       "    .dataframe tbody tr th {\n",
       "        vertical-align: top;\n",
       "    }\n",
       "\n",
       "    .dataframe thead th {\n",
       "        text-align: right;\n",
       "    }\n",
       "</style>\n",
       "<table border=\"1\" class=\"dataframe\">\n",
       "  <thead>\n",
       "    <tr style=\"text-align: right;\">\n",
       "      <th></th>\n",
       "      <th>PassengerId</th>\n",
       "      <th>Survived</th>\n",
       "      <th>Pclass</th>\n",
       "      <th>Name</th>\n",
       "      <th>Sex</th>\n",
       "      <th>Age</th>\n",
       "      <th>SibSp</th>\n",
       "      <th>Parch</th>\n",
       "      <th>Ticket</th>\n",
       "      <th>Fare</th>\n",
       "      <th>Cabin</th>\n",
       "      <th>Embarked</th>\n",
       "    </tr>\n",
       "  </thead>\n",
       "  <tbody>\n",
       "    <tr>\n",
       "      <th>0</th>\n",
       "      <td>1</td>\n",
       "      <td>0</td>\n",
       "      <td>3</td>\n",
       "      <td>Braund, Mr. Owen Harris</td>\n",
       "      <td>male</td>\n",
       "      <td>22.0</td>\n",
       "      <td>1</td>\n",
       "      <td>0</td>\n",
       "      <td>A/5 21171</td>\n",
       "      <td>7.2500</td>\n",
       "      <td>NaN</td>\n",
       "      <td>S</td>\n",
       "    </tr>\n",
       "    <tr>\n",
       "      <th>1</th>\n",
       "      <td>2</td>\n",
       "      <td>1</td>\n",
       "      <td>1</td>\n",
       "      <td>Cumings, Mrs. John Bradley (Florence Briggs Th...</td>\n",
       "      <td>female</td>\n",
       "      <td>38.0</td>\n",
       "      <td>1</td>\n",
       "      <td>0</td>\n",
       "      <td>PC 17599</td>\n",
       "      <td>71.2833</td>\n",
       "      <td>C85</td>\n",
       "      <td>C</td>\n",
       "    </tr>\n",
       "    <tr>\n",
       "      <th>2</th>\n",
       "      <td>3</td>\n",
       "      <td>1</td>\n",
       "      <td>3</td>\n",
       "      <td>Heikkinen, Miss. Laina</td>\n",
       "      <td>female</td>\n",
       "      <td>26.0</td>\n",
       "      <td>0</td>\n",
       "      <td>0</td>\n",
       "      <td>STON/O2. 3101282</td>\n",
       "      <td>7.9250</td>\n",
       "      <td>NaN</td>\n",
       "      <td>S</td>\n",
       "    </tr>\n",
       "    <tr>\n",
       "      <th>3</th>\n",
       "      <td>4</td>\n",
       "      <td>1</td>\n",
       "      <td>1</td>\n",
       "      <td>Futrelle, Mrs. Jacques Heath (Lily May Peel)</td>\n",
       "      <td>female</td>\n",
       "      <td>35.0</td>\n",
       "      <td>1</td>\n",
       "      <td>0</td>\n",
       "      <td>113803</td>\n",
       "      <td>53.1000</td>\n",
       "      <td>C123</td>\n",
       "      <td>S</td>\n",
       "    </tr>\n",
       "    <tr>\n",
       "      <th>4</th>\n",
       "      <td>5</td>\n",
       "      <td>0</td>\n",
       "      <td>3</td>\n",
       "      <td>Allen, Mr. William Henry</td>\n",
       "      <td>male</td>\n",
       "      <td>35.0</td>\n",
       "      <td>0</td>\n",
       "      <td>0</td>\n",
       "      <td>373450</td>\n",
       "      <td>8.0500</td>\n",
       "      <td>NaN</td>\n",
       "      <td>S</td>\n",
       "    </tr>\n",
       "  </tbody>\n",
       "</table>\n",
       "</div>"
      ],
      "text/plain": [
       "   PassengerId  Survived  Pclass  \\\n",
       "0            1         0       3   \n",
       "1            2         1       1   \n",
       "2            3         1       3   \n",
       "3            4         1       1   \n",
       "4            5         0       3   \n",
       "\n",
       "                                                Name     Sex   Age  SibSp  \\\n",
       "0                            Braund, Mr. Owen Harris    male  22.0      1   \n",
       "1  Cumings, Mrs. John Bradley (Florence Briggs Th...  female  38.0      1   \n",
       "2                             Heikkinen, Miss. Laina  female  26.0      0   \n",
       "3       Futrelle, Mrs. Jacques Heath (Lily May Peel)  female  35.0      1   \n",
       "4                           Allen, Mr. William Henry    male  35.0      0   \n",
       "\n",
       "   Parch            Ticket     Fare Cabin Embarked  \n",
       "0      0         A/5 21171   7.2500   NaN        S  \n",
       "1      0          PC 17599  71.2833   C85        C  \n",
       "2      0  STON/O2. 3101282   7.9250   NaN        S  \n",
       "3      0            113803  53.1000  C123        S  \n",
       "4      0            373450   8.0500   NaN        S  "
      ]
     },
     "execution_count": 3,
     "metadata": {},
     "output_type": "execute_result"
    }
   ],
   "source": [
    "train.head()"
   ]
  },
  {
   "cell_type": "code",
   "execution_count": 4,
   "id": "1d68f3bf",
   "metadata": {
    "execution": {
     "iopub.execute_input": "2024-03-14T18:10:38.678490Z",
     "iopub.status.busy": "2024-03-14T18:10:38.678035Z",
     "iopub.status.idle": "2024-03-14T18:10:38.694206Z",
     "shell.execute_reply": "2024-03-14T18:10:38.693139Z"
    },
    "papermill": {
     "duration": 0.038694,
     "end_time": "2024-03-14T18:10:38.696469",
     "exception": false,
     "start_time": "2024-03-14T18:10:38.657775",
     "status": "completed"
    },
    "tags": []
   },
   "outputs": [
    {
     "data": {
      "text/html": [
       "<div>\n",
       "<style scoped>\n",
       "    .dataframe tbody tr th:only-of-type {\n",
       "        vertical-align: middle;\n",
       "    }\n",
       "\n",
       "    .dataframe tbody tr th {\n",
       "        vertical-align: top;\n",
       "    }\n",
       "\n",
       "    .dataframe thead th {\n",
       "        text-align: right;\n",
       "    }\n",
       "</style>\n",
       "<table border=\"1\" class=\"dataframe\">\n",
       "  <thead>\n",
       "    <tr style=\"text-align: right;\">\n",
       "      <th></th>\n",
       "      <th>PassengerId</th>\n",
       "      <th>Pclass</th>\n",
       "      <th>Name</th>\n",
       "      <th>Sex</th>\n",
       "      <th>Age</th>\n",
       "      <th>SibSp</th>\n",
       "      <th>Parch</th>\n",
       "      <th>Ticket</th>\n",
       "      <th>Fare</th>\n",
       "      <th>Cabin</th>\n",
       "      <th>Embarked</th>\n",
       "    </tr>\n",
       "  </thead>\n",
       "  <tbody>\n",
       "    <tr>\n",
       "      <th>0</th>\n",
       "      <td>892</td>\n",
       "      <td>3</td>\n",
       "      <td>Kelly, Mr. James</td>\n",
       "      <td>male</td>\n",
       "      <td>34.5</td>\n",
       "      <td>0</td>\n",
       "      <td>0</td>\n",
       "      <td>330911</td>\n",
       "      <td>7.8292</td>\n",
       "      <td>NaN</td>\n",
       "      <td>Q</td>\n",
       "    </tr>\n",
       "    <tr>\n",
       "      <th>1</th>\n",
       "      <td>893</td>\n",
       "      <td>3</td>\n",
       "      <td>Wilkes, Mrs. James (Ellen Needs)</td>\n",
       "      <td>female</td>\n",
       "      <td>47.0</td>\n",
       "      <td>1</td>\n",
       "      <td>0</td>\n",
       "      <td>363272</td>\n",
       "      <td>7.0000</td>\n",
       "      <td>NaN</td>\n",
       "      <td>S</td>\n",
       "    </tr>\n",
       "    <tr>\n",
       "      <th>2</th>\n",
       "      <td>894</td>\n",
       "      <td>2</td>\n",
       "      <td>Myles, Mr. Thomas Francis</td>\n",
       "      <td>male</td>\n",
       "      <td>62.0</td>\n",
       "      <td>0</td>\n",
       "      <td>0</td>\n",
       "      <td>240276</td>\n",
       "      <td>9.6875</td>\n",
       "      <td>NaN</td>\n",
       "      <td>Q</td>\n",
       "    </tr>\n",
       "    <tr>\n",
       "      <th>3</th>\n",
       "      <td>895</td>\n",
       "      <td>3</td>\n",
       "      <td>Wirz, Mr. Albert</td>\n",
       "      <td>male</td>\n",
       "      <td>27.0</td>\n",
       "      <td>0</td>\n",
       "      <td>0</td>\n",
       "      <td>315154</td>\n",
       "      <td>8.6625</td>\n",
       "      <td>NaN</td>\n",
       "      <td>S</td>\n",
       "    </tr>\n",
       "    <tr>\n",
       "      <th>4</th>\n",
       "      <td>896</td>\n",
       "      <td>3</td>\n",
       "      <td>Hirvonen, Mrs. Alexander (Helga E Lindqvist)</td>\n",
       "      <td>female</td>\n",
       "      <td>22.0</td>\n",
       "      <td>1</td>\n",
       "      <td>1</td>\n",
       "      <td>3101298</td>\n",
       "      <td>12.2875</td>\n",
       "      <td>NaN</td>\n",
       "      <td>S</td>\n",
       "    </tr>\n",
       "  </tbody>\n",
       "</table>\n",
       "</div>"
      ],
      "text/plain": [
       "   PassengerId  Pclass                                          Name     Sex  \\\n",
       "0          892       3                              Kelly, Mr. James    male   \n",
       "1          893       3              Wilkes, Mrs. James (Ellen Needs)  female   \n",
       "2          894       2                     Myles, Mr. Thomas Francis    male   \n",
       "3          895       3                              Wirz, Mr. Albert    male   \n",
       "4          896       3  Hirvonen, Mrs. Alexander (Helga E Lindqvist)  female   \n",
       "\n",
       "    Age  SibSp  Parch   Ticket     Fare Cabin Embarked  \n",
       "0  34.5      0      0   330911   7.8292   NaN        Q  \n",
       "1  47.0      1      0   363272   7.0000   NaN        S  \n",
       "2  62.0      0      0   240276   9.6875   NaN        Q  \n",
       "3  27.0      0      0   315154   8.6625   NaN        S  \n",
       "4  22.0      1      1  3101298  12.2875   NaN        S  "
      ]
     },
     "execution_count": 4,
     "metadata": {},
     "output_type": "execute_result"
    }
   ],
   "source": [
    "test.head()"
   ]
  },
  {
   "cell_type": "markdown",
   "id": "019c429d",
   "metadata": {
    "papermill": {
     "duration": 0.018106,
     "end_time": "2024-03-14T18:10:38.733209",
     "exception": false,
     "start_time": "2024-03-14T18:10:38.715103",
     "status": "completed"
    },
    "tags": []
   },
   "source": [
    "# Data Exploration:"
   ]
  },
  {
   "cell_type": "markdown",
   "id": "fd87f428",
   "metadata": {
    "papermill": {
     "duration": 0.017961,
     "end_time": "2024-03-14T18:10:38.769759",
     "exception": false,
     "start_time": "2024-03-14T18:10:38.751798",
     "status": "completed"
    },
    "tags": []
   },
   "source": [
    "## 1. A general look at the data:"
   ]
  },
  {
   "cell_type": "markdown",
   "id": "ca09c4c7",
   "metadata": {
    "papermill": {
     "duration": 0.018111,
     "end_time": "2024-03-14T18:10:38.806338",
     "exception": false,
     "start_time": "2024-03-14T18:10:38.788227",
     "status": "completed"
    },
    "tags": []
   },
   "source": [
    "### a)- Training set:"
   ]
  },
  {
   "cell_type": "code",
   "execution_count": 5,
   "id": "c0944fa9",
   "metadata": {
    "execution": {
     "iopub.execute_input": "2024-03-14T18:10:38.845289Z",
     "iopub.status.busy": "2024-03-14T18:10:38.844863Z",
     "iopub.status.idle": "2024-03-14T18:10:38.872068Z",
     "shell.execute_reply": "2024-03-14T18:10:38.870602Z"
    },
    "papermill": {
     "duration": 0.049478,
     "end_time": "2024-03-14T18:10:38.874261",
     "exception": false,
     "start_time": "2024-03-14T18:10:38.824783",
     "status": "completed"
    },
    "tags": []
   },
   "outputs": [
    {
     "name": "stdout",
     "output_type": "stream",
     "text": [
      "<class 'pandas.core.frame.DataFrame'>\n",
      "RangeIndex: 891 entries, 0 to 890\n",
      "Data columns (total 12 columns):\n",
      " #   Column       Non-Null Count  Dtype  \n",
      "---  ------       --------------  -----  \n",
      " 0   PassengerId  891 non-null    int64  \n",
      " 1   Survived     891 non-null    int64  \n",
      " 2   Pclass       891 non-null    int64  \n",
      " 3   Name         891 non-null    object \n",
      " 4   Sex          891 non-null    object \n",
      " 5   Age          714 non-null    float64\n",
      " 6   SibSp        891 non-null    int64  \n",
      " 7   Parch        891 non-null    int64  \n",
      " 8   Ticket       891 non-null    object \n",
      " 9   Fare         891 non-null    float64\n",
      " 10  Cabin        204 non-null    object \n",
      " 11  Embarked     889 non-null    object \n",
      "dtypes: float64(2), int64(5), object(5)\n",
      "memory usage: 83.7+ KB\n"
     ]
    }
   ],
   "source": [
    "train.info()"
   ]
  },
  {
   "cell_type": "code",
   "execution_count": 6,
   "id": "df64a459",
   "metadata": {
    "execution": {
     "iopub.execute_input": "2024-03-14T18:10:38.914960Z",
     "iopub.status.busy": "2024-03-14T18:10:38.914210Z",
     "iopub.status.idle": "2024-03-14T18:10:38.925354Z",
     "shell.execute_reply": "2024-03-14T18:10:38.924422Z"
    },
    "papermill": {
     "duration": 0.034417,
     "end_time": "2024-03-14T18:10:38.927675",
     "exception": false,
     "start_time": "2024-03-14T18:10:38.893258",
     "status": "completed"
    },
    "tags": []
   },
   "outputs": [
    {
     "data": {
      "text/plain": [
       "Cabin          0.771044\n",
       "Age            0.198653\n",
       "Embarked       0.002245\n",
       "PassengerId    0.000000\n",
       "Survived       0.000000\n",
       "Pclass         0.000000\n",
       "Name           0.000000\n",
       "Sex            0.000000\n",
       "SibSp          0.000000\n",
       "Parch          0.000000\n",
       "Ticket         0.000000\n",
       "Fare           0.000000\n",
       "dtype: float64"
      ]
     },
     "execution_count": 6,
     "metadata": {},
     "output_type": "execute_result"
    }
   ],
   "source": [
    "(train.isna().sum()/len(train)).sort_values(ascending = False)"
   ]
  },
  {
   "cell_type": "code",
   "execution_count": 7,
   "id": "daa6fefa",
   "metadata": {
    "execution": {
     "iopub.execute_input": "2024-03-14T18:10:39.058363Z",
     "iopub.status.busy": "2024-03-14T18:10:39.057916Z",
     "iopub.status.idle": "2024-03-14T18:10:39.067702Z",
     "shell.execute_reply": "2024-03-14T18:10:39.066540Z"
    },
    "papermill": {
     "duration": 0.123373,
     "end_time": "2024-03-14T18:10:39.070068",
     "exception": false,
     "start_time": "2024-03-14T18:10:38.946695",
     "status": "completed"
    },
    "tags": []
   },
   "outputs": [
    {
     "data": {
      "text/plain": [
       "0"
      ]
     },
     "execution_count": 7,
     "metadata": {},
     "output_type": "execute_result"
    }
   ],
   "source": [
    "train.duplicated().sum()"
   ]
  },
  {
   "cell_type": "markdown",
   "id": "a427a50d",
   "metadata": {
    "papermill": {
     "duration": 0.019503,
     "end_time": "2024-03-14T18:10:39.108996",
     "exception": false,
     "start_time": "2024-03-14T18:10:39.089493",
     "status": "completed"
    },
    "tags": []
   },
   "source": [
    "### b)- Test set:"
   ]
  },
  {
   "cell_type": "code",
   "execution_count": 8,
   "id": "8383fe48",
   "metadata": {
    "execution": {
     "iopub.execute_input": "2024-03-14T18:10:39.149720Z",
     "iopub.status.busy": "2024-03-14T18:10:39.148914Z",
     "iopub.status.idle": "2024-03-14T18:10:39.161464Z",
     "shell.execute_reply": "2024-03-14T18:10:39.159932Z"
    },
    "papermill": {
     "duration": 0.035654,
     "end_time": "2024-03-14T18:10:39.163977",
     "exception": false,
     "start_time": "2024-03-14T18:10:39.128323",
     "status": "completed"
    },
    "tags": []
   },
   "outputs": [
    {
     "name": "stdout",
     "output_type": "stream",
     "text": [
      "<class 'pandas.core.frame.DataFrame'>\n",
      "RangeIndex: 418 entries, 0 to 417\n",
      "Data columns (total 11 columns):\n",
      " #   Column       Non-Null Count  Dtype  \n",
      "---  ------       --------------  -----  \n",
      " 0   PassengerId  418 non-null    int64  \n",
      " 1   Pclass       418 non-null    int64  \n",
      " 2   Name         418 non-null    object \n",
      " 3   Sex          418 non-null    object \n",
      " 4   Age          332 non-null    float64\n",
      " 5   SibSp        418 non-null    int64  \n",
      " 6   Parch        418 non-null    int64  \n",
      " 7   Ticket       418 non-null    object \n",
      " 8   Fare         417 non-null    float64\n",
      " 9   Cabin        91 non-null     object \n",
      " 10  Embarked     418 non-null    object \n",
      "dtypes: float64(2), int64(4), object(5)\n",
      "memory usage: 36.0+ KB\n"
     ]
    }
   ],
   "source": [
    "test.info()"
   ]
  },
  {
   "cell_type": "code",
   "execution_count": 9,
   "id": "a18e7e57",
   "metadata": {
    "execution": {
     "iopub.execute_input": "2024-03-14T18:10:39.205186Z",
     "iopub.status.busy": "2024-03-14T18:10:39.204238Z",
     "iopub.status.idle": "2024-03-14T18:10:39.214586Z",
     "shell.execute_reply": "2024-03-14T18:10:39.213526Z"
    },
    "papermill": {
     "duration": 0.033363,
     "end_time": "2024-03-14T18:10:39.216717",
     "exception": false,
     "start_time": "2024-03-14T18:10:39.183354",
     "status": "completed"
    },
    "tags": []
   },
   "outputs": [
    {
     "data": {
      "text/plain": [
       "Cabin          0.782297\n",
       "Age            0.205742\n",
       "Fare           0.002392\n",
       "PassengerId    0.000000\n",
       "Pclass         0.000000\n",
       "Name           0.000000\n",
       "Sex            0.000000\n",
       "SibSp          0.000000\n",
       "Parch          0.000000\n",
       "Ticket         0.000000\n",
       "Embarked       0.000000\n",
       "dtype: float64"
      ]
     },
     "execution_count": 9,
     "metadata": {},
     "output_type": "execute_result"
    }
   ],
   "source": [
    "(test.isna().sum()/len(test)).sort_values(ascending = False)"
   ]
  },
  {
   "cell_type": "code",
   "execution_count": 10,
   "id": "f687add2",
   "metadata": {
    "execution": {
     "iopub.execute_input": "2024-03-14T18:10:39.258878Z",
     "iopub.status.busy": "2024-03-14T18:10:39.258051Z",
     "iopub.status.idle": "2024-03-14T18:10:39.267040Z",
     "shell.execute_reply": "2024-03-14T18:10:39.266031Z"
    },
    "papermill": {
     "duration": 0.032441,
     "end_time": "2024-03-14T18:10:39.269241",
     "exception": false,
     "start_time": "2024-03-14T18:10:39.236800",
     "status": "completed"
    },
    "tags": []
   },
   "outputs": [
    {
     "data": {
      "text/plain": [
       "0"
      ]
     },
     "execution_count": 10,
     "metadata": {},
     "output_type": "execute_result"
    }
   ],
   "source": [
    "test.duplicated().sum()"
   ]
  },
  {
   "cell_type": "markdown",
   "id": "ddcfdc0e",
   "metadata": {
    "papermill": {
     "duration": 0.020139,
     "end_time": "2024-03-14T18:10:39.308890",
     "exception": false,
     "start_time": "2024-03-14T18:10:39.288751",
     "status": "completed"
    },
    "tags": []
   },
   "source": [
    "## 2)- Explore columns with quantitative (numerical) data:"
   ]
  },
  {
   "cell_type": "markdown",
   "id": "7e8133bc",
   "metadata": {
    "papermill": {
     "duration": 0.019764,
     "end_time": "2024-03-14T18:10:39.349088",
     "exception": false,
     "start_time": "2024-03-14T18:10:39.329324",
     "status": "completed"
    },
    "tags": []
   },
   "source": [
    "### a)- Training set:"
   ]
  },
  {
   "cell_type": "code",
   "execution_count": 11,
   "id": "6a38035b",
   "metadata": {
    "execution": {
     "iopub.execute_input": "2024-03-14T18:10:39.391162Z",
     "iopub.status.busy": "2024-03-14T18:10:39.390715Z",
     "iopub.status.idle": "2024-03-14T18:10:39.413208Z",
     "shell.execute_reply": "2024-03-14T18:10:39.411960Z"
    },
    "papermill": {
     "duration": 0.046473,
     "end_time": "2024-03-14T18:10:39.415710",
     "exception": false,
     "start_time": "2024-03-14T18:10:39.369237",
     "status": "completed"
    },
    "tags": []
   },
   "outputs": [
    {
     "data": {
      "text/html": [
       "<div>\n",
       "<style scoped>\n",
       "    .dataframe tbody tr th:only-of-type {\n",
       "        vertical-align: middle;\n",
       "    }\n",
       "\n",
       "    .dataframe tbody tr th {\n",
       "        vertical-align: top;\n",
       "    }\n",
       "\n",
       "    .dataframe thead th {\n",
       "        text-align: right;\n",
       "    }\n",
       "</style>\n",
       "<table border=\"1\" class=\"dataframe\">\n",
       "  <thead>\n",
       "    <tr style=\"text-align: right;\">\n",
       "      <th></th>\n",
       "      <th>Age</th>\n",
       "      <th>Fare</th>\n",
       "    </tr>\n",
       "  </thead>\n",
       "  <tbody>\n",
       "    <tr>\n",
       "      <th>count</th>\n",
       "      <td>714.000000</td>\n",
       "      <td>891.000000</td>\n",
       "    </tr>\n",
       "    <tr>\n",
       "      <th>mean</th>\n",
       "      <td>29.699118</td>\n",
       "      <td>32.204208</td>\n",
       "    </tr>\n",
       "    <tr>\n",
       "      <th>std</th>\n",
       "      <td>14.526497</td>\n",
       "      <td>49.693429</td>\n",
       "    </tr>\n",
       "    <tr>\n",
       "      <th>min</th>\n",
       "      <td>0.420000</td>\n",
       "      <td>0.000000</td>\n",
       "    </tr>\n",
       "    <tr>\n",
       "      <th>25%</th>\n",
       "      <td>20.125000</td>\n",
       "      <td>7.910400</td>\n",
       "    </tr>\n",
       "    <tr>\n",
       "      <th>50%</th>\n",
       "      <td>28.000000</td>\n",
       "      <td>14.454200</td>\n",
       "    </tr>\n",
       "    <tr>\n",
       "      <th>75%</th>\n",
       "      <td>38.000000</td>\n",
       "      <td>31.000000</td>\n",
       "    </tr>\n",
       "    <tr>\n",
       "      <th>max</th>\n",
       "      <td>80.000000</td>\n",
       "      <td>512.329200</td>\n",
       "    </tr>\n",
       "  </tbody>\n",
       "</table>\n",
       "</div>"
      ],
      "text/plain": [
       "              Age        Fare\n",
       "count  714.000000  891.000000\n",
       "mean    29.699118   32.204208\n",
       "std     14.526497   49.693429\n",
       "min      0.420000    0.000000\n",
       "25%     20.125000    7.910400\n",
       "50%     28.000000   14.454200\n",
       "75%     38.000000   31.000000\n",
       "max     80.000000  512.329200"
      ]
     },
     "execution_count": 11,
     "metadata": {},
     "output_type": "execute_result"
    }
   ],
   "source": [
    "train[[\"Age\", \"Fare\"]].describe()"
   ]
  },
  {
   "cell_type": "code",
   "execution_count": 12,
   "id": "4cd6fa4d",
   "metadata": {
    "execution": {
     "iopub.execute_input": "2024-03-14T18:10:39.458312Z",
     "iopub.status.busy": "2024-03-14T18:10:39.457437Z",
     "iopub.status.idle": "2024-03-14T18:10:40.174034Z",
     "shell.execute_reply": "2024-03-14T18:10:40.173079Z"
    },
    "papermill": {
     "duration": 0.740578,
     "end_time": "2024-03-14T18:10:40.176326",
     "exception": false,
     "start_time": "2024-03-14T18:10:39.435748",
     "status": "completed"
    },
    "tags": []
   },
   "outputs": [
    {
     "data": {
      "image/png": "[encoded data removed]",
      "text/plain": [
       "<Figure size 1600x600 with 2 Axes>"
      ]
     },
     "metadata": {},
     "output_type": "display_data"
    }
   ],
   "source": [
    "#Histogram:\n",
    "fig, axs = plt.subplots(1,2,figsize=(16,6), gridspec_kw={'wspace': 0.2})\n",
    "sns.histplot(train['Age'], ax = axs[0])\n",
    "sns.histplot(train['Fare'], ax = axs[1])\n",
    "plt.show()"
   ]
  },
  {
   "cell_type": "code",
   "execution_count": 13,
   "id": "e3d085c6",
   "metadata": {
    "execution": {
     "iopub.execute_input": "2024-03-14T18:10:40.219724Z",
     "iopub.status.busy": "2024-03-14T18:10:40.218587Z",
     "iopub.status.idle": "2024-03-14T18:10:40.499411Z",
     "shell.execute_reply": "2024-03-14T18:10:40.498478Z"
    },
    "papermill": {
     "duration": 0.305128,
     "end_time": "2024-03-14T18:10:40.501899",
     "exception": false,
     "start_time": "2024-03-14T18:10:40.196771",
     "status": "completed"
    },
    "tags": []
   },
   "outputs": [
    {
     "data": {
      "image/png": "[encoded data removed]",
      "text/plain": [
       "<Figure size 1600x600 with 2 Axes>"
      ]
     },
     "metadata": {},
     "output_type": "display_data"
    }
   ],
   "source": [
    "fig, axs = plt.subplots(1,2,figsize=(16,6), gridspec_kw={'wspace': 0.1})\n",
    "sns.boxplot(x = train['Age'], ax = axs[0])\n",
    "sns.boxplot(x = train['Fare'], ax = axs[1])\n",
    "plt.show()"
   ]
  },
  {
   "cell_type": "markdown",
   "id": "f0083172",
   "metadata": {
    "papermill": {
     "duration": 0.020055,
     "end_time": "2024-03-14T18:10:40.542536",
     "exception": false,
     "start_time": "2024-03-14T18:10:40.522481",
     "status": "completed"
    },
    "tags": []
   },
   "source": [
    "**Let's dive deeper and see the rows that contain outliers using the interquartile range (IQR) method.**"
   ]
  },
  {
   "cell_type": "code",
   "execution_count": 14,
   "id": "e98aba32",
   "metadata": {
    "execution": {
     "iopub.execute_input": "2024-03-14T18:10:40.585790Z",
     "iopub.status.busy": "2024-03-14T18:10:40.585340Z",
     "iopub.status.idle": "2024-03-14T18:10:40.593878Z",
     "shell.execute_reply": "2024-03-14T18:10:40.592784Z"
    },
    "papermill": {
     "duration": 0.03279,
     "end_time": "2024-03-14T18:10:40.596000",
     "exception": false,
     "start_time": "2024-03-14T18:10:40.563210",
     "status": "completed"
    },
    "tags": []
   },
   "outputs": [],
   "source": [
    "# Age:\n",
    "Age_Q1 = train.Age.quantile(0.25)\n",
    "Age_Q3 = train.Age.quantile(0.75)\n",
    "Age_IQR = Age_Q3 - Age_Q1\n",
    "Age_lower_extreme = Age_Q1 - 1.5*Age_IQR\n",
    "Age_upper_extreme = Age_Q3 + 1.5*Age_IQR"
   ]
  },
  {
   "cell_type": "code",
   "execution_count": 15,
   "id": "11ce6f0b",
   "metadata": {
    "execution": {
     "iopub.execute_input": "2024-03-14T18:10:40.639422Z",
     "iopub.status.busy": "2024-03-14T18:10:40.638973Z",
     "iopub.status.idle": "2024-03-14T18:10:40.660084Z",
     "shell.execute_reply": "2024-03-14T18:10:40.659227Z"
    },
    "papermill": {
     "duration": 0.045356,
     "end_time": "2024-03-14T18:10:40.661946",
     "exception": false,
     "start_time": "2024-03-14T18:10:40.616590",
     "status": "completed"
    },
    "tags": []
   },
   "outputs": [
    {
     "name": "stdout",
     "output_type": "stream",
     "text": [
      "the shape is: (11, 12)\n",
      "--------------------\n"
     ]
    },
    {
     "data": {
      "text/html": [
       "<div>\n",
       "<style scoped>\n",
       "    .dataframe tbody tr th:only-of-type {\n",
       "        vertical-align: middle;\n",
       "    }\n",
       "\n",
       "    .dataframe tbody tr th {\n",
       "        vertical-align: top;\n",
       "    }\n",
       "\n",
       "    .dataframe thead th {\n",
       "        text-align: right;\n",
       "    }\n",
       "</style>\n",
       "<table border=\"1\" class=\"dataframe\">\n",
       "  <thead>\n",
       "    <tr style=\"text-align: right;\">\n",
       "      <th></th>\n",
       "      <th>PassengerId</th>\n",
       "      <th>Survived</th>\n",
       "      <th>Pclass</th>\n",
       "      <th>Name</th>\n",
       "      <th>Sex</th>\n",
       "      <th>Age</th>\n",
       "      <th>SibSp</th>\n",
       "      <th>Parch</th>\n",
       "      <th>Ticket</th>\n",
       "      <th>Fare</th>\n",
       "      <th>Cabin</th>\n",
       "      <th>Embarked</th>\n",
       "    </tr>\n",
       "  </thead>\n",
       "  <tbody>\n",
       "    <tr>\n",
       "      <th>33</th>\n",
       "      <td>34</td>\n",
       "      <td>0</td>\n",
       "      <td>2</td>\n",
       "      <td>Wheadon, Mr. Edward H</td>\n",
       "      <td>male</td>\n",
       "      <td>66.0</td>\n",
       "      <td>0</td>\n",
       "      <td>0</td>\n",
       "      <td>C.A. 24579</td>\n",
       "      <td>10.5000</td>\n",
       "      <td>NaN</td>\n",
       "      <td>S</td>\n",
       "    </tr>\n",
       "    <tr>\n",
       "      <th>54</th>\n",
       "      <td>55</td>\n",
       "      <td>0</td>\n",
       "      <td>1</td>\n",
       "      <td>Ostby, Mr. Engelhart Cornelius</td>\n",
       "      <td>male</td>\n",
       "      <td>65.0</td>\n",
       "      <td>0</td>\n",
       "      <td>1</td>\n",
       "      <td>113509</td>\n",
       "      <td>61.9792</td>\n",
       "      <td>B30</td>\n",
       "      <td>C</td>\n",
       "    </tr>\n",
       "    <tr>\n",
       "      <th>96</th>\n",
       "      <td>97</td>\n",
       "      <td>0</td>\n",
       "      <td>1</td>\n",
       "      <td>Goldschmidt, Mr. George B</td>\n",
       "      <td>male</td>\n",
       "      <td>71.0</td>\n",
       "      <td>0</td>\n",
       "      <td>0</td>\n",
       "      <td>PC 17754</td>\n",
       "      <td>34.6542</td>\n",
       "      <td>A5</td>\n",
       "      <td>C</td>\n",
       "    </tr>\n",
       "    <tr>\n",
       "      <th>116</th>\n",
       "      <td>117</td>\n",
       "      <td>0</td>\n",
       "      <td>3</td>\n",
       "      <td>Connors, Mr. Patrick</td>\n",
       "      <td>male</td>\n",
       "      <td>70.5</td>\n",
       "      <td>0</td>\n",
       "      <td>0</td>\n",
       "      <td>370369</td>\n",
       "      <td>7.7500</td>\n",
       "      <td>NaN</td>\n",
       "      <td>Q</td>\n",
       "    </tr>\n",
       "    <tr>\n",
       "      <th>280</th>\n",
       "      <td>281</td>\n",
       "      <td>0</td>\n",
       "      <td>3</td>\n",
       "      <td>Duane, Mr. Frank</td>\n",
       "      <td>male</td>\n",
       "      <td>65.0</td>\n",
       "      <td>0</td>\n",
       "      <td>0</td>\n",
       "      <td>336439</td>\n",
       "      <td>7.7500</td>\n",
       "      <td>NaN</td>\n",
       "      <td>Q</td>\n",
       "    </tr>\n",
       "    <tr>\n",
       "      <th>456</th>\n",
       "      <td>457</td>\n",
       "      <td>0</td>\n",
       "      <td>1</td>\n",
       "      <td>Millet, Mr. Francis Davis</td>\n",
       "      <td>male</td>\n",
       "      <td>65.0</td>\n",
       "      <td>0</td>\n",
       "      <td>0</td>\n",
       "      <td>13509</td>\n",
       "      <td>26.5500</td>\n",
       "      <td>E38</td>\n",
       "      <td>S</td>\n",
       "    </tr>\n",
       "    <tr>\n",
       "      <th>493</th>\n",
       "      <td>494</td>\n",
       "      <td>0</td>\n",
       "      <td>1</td>\n",
       "      <td>Artagaveytia, Mr. Ramon</td>\n",
       "      <td>male</td>\n",
       "      <td>71.0</td>\n",
       "      <td>0</td>\n",
       "      <td>0</td>\n",
       "      <td>PC 17609</td>\n",
       "      <td>49.5042</td>\n",
       "      <td>NaN</td>\n",
       "      <td>C</td>\n",
       "    </tr>\n",
       "    <tr>\n",
       "      <th>630</th>\n",
       "      <td>631</td>\n",
       "      <td>1</td>\n",
       "      <td>1</td>\n",
       "      <td>Barkworth, Mr. Algernon Henry Wilson</td>\n",
       "      <td>male</td>\n",
       "      <td>80.0</td>\n",
       "      <td>0</td>\n",
       "      <td>0</td>\n",
       "      <td>27042</td>\n",
       "      <td>30.0000</td>\n",
       "      <td>A23</td>\n",
       "      <td>S</td>\n",
       "    </tr>\n",
       "    <tr>\n",
       "      <th>672</th>\n",
       "      <td>673</td>\n",
       "      <td>0</td>\n",
       "      <td>2</td>\n",
       "      <td>Mitchell, Mr. Henry Michael</td>\n",
       "      <td>male</td>\n",
       "      <td>70.0</td>\n",
       "      <td>0</td>\n",
       "      <td>0</td>\n",
       "      <td>C.A. 24580</td>\n",
       "      <td>10.5000</td>\n",
       "      <td>NaN</td>\n",
       "      <td>S</td>\n",
       "    </tr>\n",
       "    <tr>\n",
       "      <th>745</th>\n",
       "      <td>746</td>\n",
       "      <td>0</td>\n",
       "      <td>1</td>\n",
       "      <td>Crosby, Capt. Edward Gifford</td>\n",
       "      <td>male</td>\n",
       "      <td>70.0</td>\n",
       "      <td>1</td>\n",
       "      <td>1</td>\n",
       "      <td>WE/P 5735</td>\n",
       "      <td>71.0000</td>\n",
       "      <td>B22</td>\n",
       "      <td>S</td>\n",
       "    </tr>\n",
       "    <tr>\n",
       "      <th>851</th>\n",
       "      <td>852</td>\n",
       "      <td>0</td>\n",
       "      <td>3</td>\n",
       "      <td>Svensson, Mr. Johan</td>\n",
       "      <td>male</td>\n",
       "      <td>74.0</td>\n",
       "      <td>0</td>\n",
       "      <td>0</td>\n",
       "      <td>347060</td>\n",
       "      <td>7.7750</td>\n",
       "      <td>NaN</td>\n",
       "      <td>S</td>\n",
       "    </tr>\n",
       "  </tbody>\n",
       "</table>\n",
       "</div>"
      ],
      "text/plain": [
       "     PassengerId  Survived  Pclass                                  Name  \\\n",
       "33            34         0       2                 Wheadon, Mr. Edward H   \n",
       "54            55         0       1        Ostby, Mr. Engelhart Cornelius   \n",
       "96            97         0       1             Goldschmidt, Mr. George B   \n",
       "116          117         0       3                  Connors, Mr. Patrick   \n",
       "280          281         0       3                      Duane, Mr. Frank   \n",
       "456          457         0       1             Millet, Mr. Francis Davis   \n",
       "493          494         0       1               Artagaveytia, Mr. Ramon   \n",
       "630          631         1       1  Barkworth, Mr. Algernon Henry Wilson   \n",
       "672          673         0       2           Mitchell, Mr. Henry Michael   \n",
       "745          746         0       1          Crosby, Capt. Edward Gifford   \n",
       "851          852         0       3                   Svensson, Mr. Johan   \n",
       "\n",
       "      Sex   Age  SibSp  Parch      Ticket     Fare Cabin Embarked  \n",
       "33   male  66.0      0      0  C.A. 24579  10.5000   NaN        S  \n",
       "54   male  65.0      0      1      113509  61.9792   B30        C  \n",
       "96   male  71.0      0      0    PC 17754  34.6542    A5        C  \n",
       "116  male  70.5      0      0      370369   7.7500   NaN        Q  \n",
       "280  male  65.0      0      0      336439   7.7500   NaN        Q  \n",
       "456  male  65.0      0      0       13509  26.5500   E38        S  \n",
       "493  male  71.0      0      0    PC 17609  49.5042   NaN        C  \n",
       "630  male  80.0      0      0       27042  30.0000   A23        S  \n",
       "672  male  70.0      0      0  C.A. 24580  10.5000   NaN        S  \n",
       "745  male  70.0      1      1   WE/P 5735  71.0000   B22        S  \n",
       "851  male  74.0      0      0      347060   7.7750   NaN        S  "
      ]
     },
     "execution_count": 15,
     "metadata": {},
     "output_type": "execute_result"
    }
   ],
   "source": [
    "#To see rows that contain outliers uing the interquartile range (IQR) method:\n",
    "outlier_age = train[(train.Age<Age_lower_extreme)|(train.Age>Age_upper_extreme)]\n",
    "print(\"the shape is:\" ,outlier_age.shape)\n",
    "print(\"-\" * 20)\n",
    "outlier_age.head(11)"
   ]
  },
  {
   "cell_type": "code",
   "execution_count": 16,
   "id": "25b9cbea",
   "metadata": {
    "execution": {
     "iopub.execute_input": "2024-03-14T18:10:40.706424Z",
     "iopub.status.busy": "2024-03-14T18:10:40.705215Z",
     "iopub.status.idle": "2024-03-14T18:10:40.712650Z",
     "shell.execute_reply": "2024-03-14T18:10:40.711854Z"
    },
    "papermill": {
     "duration": 0.031623,
     "end_time": "2024-03-14T18:10:40.714661",
     "exception": false,
     "start_time": "2024-03-14T18:10:40.683038",
     "status": "completed"
    },
    "tags": []
   },
   "outputs": [],
   "source": [
    "# Fare:\n",
    "Fare_Q1 = train.Fare.quantile(0.25)\n",
    "Fare_Q3 = train.Fare.quantile(0.75)\n",
    "Fare_IQR = Fare_Q3 - Fare_Q1\n",
    "Fare_lower_extreme = Fare_Q1 - 1.5*Fare_IQR\n",
    "Fare_upper_extreme = Fare_Q3 + 1.5*Fare_IQR"
   ]
  },
  {
   "cell_type": "code",
   "execution_count": 17,
   "id": "f48bea35",
   "metadata": {
    "execution": {
     "iopub.execute_input": "2024-03-14T18:10:40.758921Z",
     "iopub.status.busy": "2024-03-14T18:10:40.757735Z",
     "iopub.status.idle": "2024-03-14T18:10:40.777415Z",
     "shell.execute_reply": "2024-03-14T18:10:40.776288Z"
    },
    "papermill": {
     "duration": 0.044001,
     "end_time": "2024-03-14T18:10:40.779537",
     "exception": false,
     "start_time": "2024-03-14T18:10:40.735536",
     "status": "completed"
    },
    "tags": []
   },
   "outputs": [
    {
     "name": "stdout",
     "output_type": "stream",
     "text": [
      "the shape is: (116, 12)\n",
      "--------------------\n"
     ]
    },
    {
     "data": {
      "text/html": [
       "<div>\n",
       "<style scoped>\n",
       "    .dataframe tbody tr th:only-of-type {\n",
       "        vertical-align: middle;\n",
       "    }\n",
       "\n",
       "    .dataframe tbody tr th {\n",
       "        vertical-align: top;\n",
       "    }\n",
       "\n",
       "    .dataframe thead th {\n",
       "        text-align: right;\n",
       "    }\n",
       "</style>\n",
       "<table border=\"1\" class=\"dataframe\">\n",
       "  <thead>\n",
       "    <tr style=\"text-align: right;\">\n",
       "      <th></th>\n",
       "      <th>PassengerId</th>\n",
       "      <th>Survived</th>\n",
       "      <th>Pclass</th>\n",
       "      <th>Name</th>\n",
       "      <th>Sex</th>\n",
       "      <th>Age</th>\n",
       "      <th>SibSp</th>\n",
       "      <th>Parch</th>\n",
       "      <th>Ticket</th>\n",
       "      <th>Fare</th>\n",
       "      <th>Cabin</th>\n",
       "      <th>Embarked</th>\n",
       "    </tr>\n",
       "  </thead>\n",
       "  <tbody>\n",
       "    <tr>\n",
       "      <th>1</th>\n",
       "      <td>2</td>\n",
       "      <td>1</td>\n",
       "      <td>1</td>\n",
       "      <td>Cumings, Mrs. John Bradley (Florence Briggs Th...</td>\n",
       "      <td>female</td>\n",
       "      <td>38.0</td>\n",
       "      <td>1</td>\n",
       "      <td>0</td>\n",
       "      <td>PC 17599</td>\n",
       "      <td>71.2833</td>\n",
       "      <td>C85</td>\n",
       "      <td>C</td>\n",
       "    </tr>\n",
       "    <tr>\n",
       "      <th>27</th>\n",
       "      <td>28</td>\n",
       "      <td>0</td>\n",
       "      <td>1</td>\n",
       "      <td>Fortune, Mr. Charles Alexander</td>\n",
       "      <td>male</td>\n",
       "      <td>19.0</td>\n",
       "      <td>3</td>\n",
       "      <td>2</td>\n",
       "      <td>19950</td>\n",
       "      <td>263.0000</td>\n",
       "      <td>C23 C25 C27</td>\n",
       "      <td>S</td>\n",
       "    </tr>\n",
       "    <tr>\n",
       "      <th>31</th>\n",
       "      <td>32</td>\n",
       "      <td>1</td>\n",
       "      <td>1</td>\n",
       "      <td>Spencer, Mrs. William Augustus (Marie Eugenie)</td>\n",
       "      <td>female</td>\n",
       "      <td>NaN</td>\n",
       "      <td>1</td>\n",
       "      <td>0</td>\n",
       "      <td>PC 17569</td>\n",
       "      <td>146.5208</td>\n",
       "      <td>B78</td>\n",
       "      <td>C</td>\n",
       "    </tr>\n",
       "    <tr>\n",
       "      <th>34</th>\n",
       "      <td>35</td>\n",
       "      <td>0</td>\n",
       "      <td>1</td>\n",
       "      <td>Meyer, Mr. Edgar Joseph</td>\n",
       "      <td>male</td>\n",
       "      <td>28.0</td>\n",
       "      <td>1</td>\n",
       "      <td>0</td>\n",
       "      <td>PC 17604</td>\n",
       "      <td>82.1708</td>\n",
       "      <td>NaN</td>\n",
       "      <td>C</td>\n",
       "    </tr>\n",
       "    <tr>\n",
       "      <th>52</th>\n",
       "      <td>53</td>\n",
       "      <td>1</td>\n",
       "      <td>1</td>\n",
       "      <td>Harper, Mrs. Henry Sleeper (Myna Haxtun)</td>\n",
       "      <td>female</td>\n",
       "      <td>49.0</td>\n",
       "      <td>1</td>\n",
       "      <td>0</td>\n",
       "      <td>PC 17572</td>\n",
       "      <td>76.7292</td>\n",
       "      <td>D33</td>\n",
       "      <td>C</td>\n",
       "    </tr>\n",
       "  </tbody>\n",
       "</table>\n",
       "</div>"
      ],
      "text/plain": [
       "    PassengerId  Survived  Pclass  \\\n",
       "1             2         1       1   \n",
       "27           28         0       1   \n",
       "31           32         1       1   \n",
       "34           35         0       1   \n",
       "52           53         1       1   \n",
       "\n",
       "                                                 Name     Sex   Age  SibSp  \\\n",
       "1   Cumings, Mrs. John Bradley (Florence Briggs Th...  female  38.0      1   \n",
       "27                     Fortune, Mr. Charles Alexander    male  19.0      3   \n",
       "31     Spencer, Mrs. William Augustus (Marie Eugenie)  female   NaN      1   \n",
       "34                            Meyer, Mr. Edgar Joseph    male  28.0      1   \n",
       "52           Harper, Mrs. Henry Sleeper (Myna Haxtun)  female  49.0      1   \n",
       "\n",
       "    Parch    Ticket      Fare        Cabin Embarked  \n",
       "1       0  PC 17599   71.2833          C85        C  \n",
       "27      2     19950  263.0000  C23 C25 C27        S  \n",
       "31      0  PC 17569  146.5208          B78        C  \n",
       "34      0  PC 17604   82.1708          NaN        C  \n",
       "52      0  PC 17572   76.7292          D33        C  "
      ]
     },
     "execution_count": 17,
     "metadata": {},
     "output_type": "execute_result"
    }
   ],
   "source": [
    "#To see rows that contain outliers uing the interquartile range (IQR) method:\n",
    "outlier_Fare = train[(train.Fare<Fare_lower_extreme)|(train.Fare>Fare_upper_extreme)]\n",
    "print(\"the shape is:\",outlier_Fare.shape)\n",
    "print(\"-\" * 20)\n",
    "(outlier_Fare.head())"
   ]
  },
  {
   "cell_type": "markdown",
   "id": "58aa393e",
   "metadata": {
    "papermill": {
     "duration": 0.020969,
     "end_time": "2024-03-14T18:10:40.822267",
     "exception": false,
     "start_time": "2024-03-14T18:10:40.801298",
     "status": "completed"
    },
    "tags": []
   },
   "source": [
    "### b)- test set:"
   ]
  },
  {
   "cell_type": "code",
   "execution_count": 18,
   "id": "48d822c3",
   "metadata": {
    "execution": {
     "iopub.execute_input": "2024-03-14T18:10:40.867085Z",
     "iopub.status.busy": "2024-03-14T18:10:40.866619Z",
     "iopub.status.idle": "2024-03-14T18:10:40.885499Z",
     "shell.execute_reply": "2024-03-14T18:10:40.884368Z"
    },
    "papermill": {
     "duration": 0.04444,
     "end_time": "2024-03-14T18:10:40.887854",
     "exception": false,
     "start_time": "2024-03-14T18:10:40.843414",
     "status": "completed"
    },
    "tags": []
   },
   "outputs": [
    {
     "data": {
      "text/html": [
       "<div>\n",
       "<style scoped>\n",
       "    .dataframe tbody tr th:only-of-type {\n",
       "        vertical-align: middle;\n",
       "    }\n",
       "\n",
       "    .dataframe tbody tr th {\n",
       "        vertical-align: top;\n",
       "    }\n",
       "\n",
       "    .dataframe thead th {\n",
       "        text-align: right;\n",
       "    }\n",
       "</style>\n",
       "<table border=\"1\" class=\"dataframe\">\n",
       "  <thead>\n",
       "    <tr style=\"text-align: right;\">\n",
       "      <th></th>\n",
       "      <th>Age</th>\n",
       "      <th>Fare</th>\n",
       "    </tr>\n",
       "  </thead>\n",
       "  <tbody>\n",
       "    <tr>\n",
       "      <th>count</th>\n",
       "      <td>332.000000</td>\n",
       "      <td>417.000000</td>\n",
       "    </tr>\n",
       "    <tr>\n",
       "      <th>mean</th>\n",
       "      <td>30.272590</td>\n",
       "      <td>35.627188</td>\n",
       "    </tr>\n",
       "    <tr>\n",
       "      <th>std</th>\n",
       "      <td>14.181209</td>\n",
       "      <td>55.907576</td>\n",
       "    </tr>\n",
       "    <tr>\n",
       "      <th>min</th>\n",
       "      <td>0.170000</td>\n",
       "      <td>0.000000</td>\n",
       "    </tr>\n",
       "    <tr>\n",
       "      <th>25%</th>\n",
       "      <td>21.000000</td>\n",
       "      <td>7.895800</td>\n",
       "    </tr>\n",
       "    <tr>\n",
       "      <th>50%</th>\n",
       "      <td>27.000000</td>\n",
       "      <td>14.454200</td>\n",
       "    </tr>\n",
       "    <tr>\n",
       "      <th>75%</th>\n",
       "      <td>39.000000</td>\n",
       "      <td>31.500000</td>\n",
       "    </tr>\n",
       "    <tr>\n",
       "      <th>max</th>\n",
       "      <td>76.000000</td>\n",
       "      <td>512.329200</td>\n",
       "    </tr>\n",
       "  </tbody>\n",
       "</table>\n",
       "</div>"
      ],
      "text/plain": [
       "              Age        Fare\n",
       "count  332.000000  417.000000\n",
       "mean    30.272590   35.627188\n",
       "std     14.181209   55.907576\n",
       "min      0.170000    0.000000\n",
       "25%     21.000000    7.895800\n",
       "50%     27.000000   14.454200\n",
       "75%     39.000000   31.500000\n",
       "max     76.000000  512.329200"
      ]
     },
     "execution_count": 18,
     "metadata": {},
     "output_type": "execute_result"
    }
   ],
   "source": [
    "test[[\"Age\", \"Fare\"]].describe()"
   ]
  },
  {
   "cell_type": "code",
   "execution_count": 19,
   "id": "eeeb084a",
   "metadata": {
    "execution": {
     "iopub.execute_input": "2024-03-14T18:10:40.933782Z",
     "iopub.status.busy": "2024-03-14T18:10:40.933032Z",
     "iopub.status.idle": "2024-03-14T18:10:41.475332Z",
     "shell.execute_reply": "2024-03-14T18:10:41.474238Z"
    },
    "papermill": {
     "duration": 0.568922,
     "end_time": "2024-03-14T18:10:41.478811",
     "exception": false,
     "start_time": "2024-03-14T18:10:40.909889",
     "status": "completed"
    },
    "tags": []
   },
   "outputs": [
    {
     "data": {
      "image/png": "[encoded data removed]",
      "text/plain": [
       "<Figure size 1600x600 with 2 Axes>"
      ]
     },
     "metadata": {},
     "output_type": "display_data"
    }
   ],
   "source": [
    "# Histogram:\n",
    "fig, axs = plt.subplots(1,2,figsize=(16,6), gridspec_kw={'wspace': 0.2})\n",
    "sns.histplot(test['Age'], ax = axs[0])\n",
    "sns.histplot(test['Fare'], ax = axs[1])\n",
    "plt.show()"
   ]
  },
  {
   "cell_type": "code",
   "execution_count": 20,
   "id": "0afa5e06",
   "metadata": {
    "execution": {
     "iopub.execute_input": "2024-03-14T18:10:41.530311Z",
     "iopub.status.busy": "2024-03-14T18:10:41.529888Z",
     "iopub.status.idle": "2024-03-14T18:10:41.789612Z",
     "shell.execute_reply": "2024-03-14T18:10:41.788373Z"
    },
    "papermill": {
     "duration": 0.28838,
     "end_time": "2024-03-14T18:10:41.792271",
     "exception": false,
     "start_time": "2024-03-14T18:10:41.503891",
     "status": "completed"
    },
    "tags": []
   },
   "outputs": [
    {
     "data": {
      "image/png": "[encoded data removed]",
      "text/plain": [
       "<Figure size 1600x600 with 2 Axes>"
      ]
     },
     "metadata": {},
     "output_type": "display_data"
    }
   ],
   "source": [
    "# Boxplot:\n",
    "fig, axs = plt.subplots(1,2,figsize=(16,6), gridspec_kw={'wspace': 0.1})\n",
    "sns.boxplot(x = test['Age'], ax = axs[0])\n",
    "sns.boxplot(x = test['Fare'], ax = axs[1])\n",
    "plt.show()"
   ]
  },
  {
   "cell_type": "code",
   "execution_count": 21,
   "id": "42107727",
   "metadata": {
    "execution": {
     "iopub.execute_input": "2024-03-14T18:10:41.839590Z",
     "iopub.status.busy": "2024-03-14T18:10:41.838761Z",
     "iopub.status.idle": "2024-03-14T18:10:41.847897Z",
     "shell.execute_reply": "2024-03-14T18:10:41.846793Z"
    },
    "papermill": {
     "duration": 0.035481,
     "end_time": "2024-03-14T18:10:41.850324",
     "exception": false,
     "start_time": "2024-03-14T18:10:41.814843",
     "status": "completed"
    },
    "tags": []
   },
   "outputs": [],
   "source": [
    "# test_Age:\n",
    "Age_Q1 = test.Age.quantile(0.25)\n",
    "Age_Q3 = test.Age.quantile(0.75)\n",
    "Age_IQR = Age_Q3 - Age_Q1\n",
    "Age_lower_extreme = Age_Q1 - 1.5*Age_IQR\n",
    "Age_upper_extreme = Age_Q3 + 1.5*Age_IQR"
   ]
  },
  {
   "cell_type": "code",
   "execution_count": 22,
   "id": "5901bda7",
   "metadata": {
    "execution": {
     "iopub.execute_input": "2024-03-14T18:10:41.897304Z",
     "iopub.status.busy": "2024-03-14T18:10:41.896853Z",
     "iopub.status.idle": "2024-03-14T18:10:41.914069Z",
     "shell.execute_reply": "2024-03-14T18:10:41.912847Z"
    },
    "papermill": {
     "duration": 0.043433,
     "end_time": "2024-03-14T18:10:41.916180",
     "exception": false,
     "start_time": "2024-03-14T18:10:41.872747",
     "status": "completed"
    },
    "tags": []
   },
   "outputs": [
    {
     "name": "stdout",
     "output_type": "stream",
     "text": [
      "the shape is: (2, 11)\n",
      "--------------------\n"
     ]
    },
    {
     "data": {
      "text/html": [
       "<div>\n",
       "<style scoped>\n",
       "    .dataframe tbody tr th:only-of-type {\n",
       "        vertical-align: middle;\n",
       "    }\n",
       "\n",
       "    .dataframe tbody tr th {\n",
       "        vertical-align: top;\n",
       "    }\n",
       "\n",
       "    .dataframe thead th {\n",
       "        text-align: right;\n",
       "    }\n",
       "</style>\n",
       "<table border=\"1\" class=\"dataframe\">\n",
       "  <thead>\n",
       "    <tr style=\"text-align: right;\">\n",
       "      <th></th>\n",
       "      <th>PassengerId</th>\n",
       "      <th>Pclass</th>\n",
       "      <th>Name</th>\n",
       "      <th>Sex</th>\n",
       "      <th>Age</th>\n",
       "      <th>SibSp</th>\n",
       "      <th>Parch</th>\n",
       "      <th>Ticket</th>\n",
       "      <th>Fare</th>\n",
       "      <th>Cabin</th>\n",
       "      <th>Embarked</th>\n",
       "    </tr>\n",
       "  </thead>\n",
       "  <tbody>\n",
       "    <tr>\n",
       "      <th>81</th>\n",
       "      <td>973</td>\n",
       "      <td>1</td>\n",
       "      <td>Straus, Mr. Isidor</td>\n",
       "      <td>male</td>\n",
       "      <td>67.0</td>\n",
       "      <td>1</td>\n",
       "      <td>0</td>\n",
       "      <td>PC 17483</td>\n",
       "      <td>221.7792</td>\n",
       "      <td>C55 C57</td>\n",
       "      <td>S</td>\n",
       "    </tr>\n",
       "    <tr>\n",
       "      <th>96</th>\n",
       "      <td>988</td>\n",
       "      <td>1</td>\n",
       "      <td>Cavendish, Mrs. Tyrell William (Julia Florence...</td>\n",
       "      <td>female</td>\n",
       "      <td>76.0</td>\n",
       "      <td>1</td>\n",
       "      <td>0</td>\n",
       "      <td>19877</td>\n",
       "      <td>78.8500</td>\n",
       "      <td>C46</td>\n",
       "      <td>S</td>\n",
       "    </tr>\n",
       "  </tbody>\n",
       "</table>\n",
       "</div>"
      ],
      "text/plain": [
       "    PassengerId  Pclass                                               Name  \\\n",
       "81          973       1                                 Straus, Mr. Isidor   \n",
       "96          988       1  Cavendish, Mrs. Tyrell William (Julia Florence...   \n",
       "\n",
       "       Sex   Age  SibSp  Parch    Ticket      Fare    Cabin Embarked  \n",
       "81    male  67.0      1      0  PC 17483  221.7792  C55 C57        S  \n",
       "96  female  76.0      1      0     19877   78.8500      C46        S  "
      ]
     },
     "execution_count": 22,
     "metadata": {},
     "output_type": "execute_result"
    }
   ],
   "source": [
    "#To see rows that contain outliers uing the interquartile range (IQR) method:\n",
    "outlier_age = test[(test.Age<Age_lower_extreme)|(test.Age>Age_upper_extreme)]\n",
    "print(\"the shape is:\" ,outlier_age.shape)\n",
    "print(\"-\" * 20)\n",
    "outlier_age.head(11)"
   ]
  },
  {
   "cell_type": "code",
   "execution_count": 23,
   "id": "2263d3a9",
   "metadata": {
    "execution": {
     "iopub.execute_input": "2024-03-14T18:10:41.962944Z",
     "iopub.status.busy": "2024-03-14T18:10:41.962502Z",
     "iopub.status.idle": "2024-03-14T18:10:41.971132Z",
     "shell.execute_reply": "2024-03-14T18:10:41.970235Z"
    },
    "papermill": {
     "duration": 0.034788,
     "end_time": "2024-03-14T18:10:41.973317",
     "exception": false,
     "start_time": "2024-03-14T18:10:41.938529",
     "status": "completed"
    },
    "tags": []
   },
   "outputs": [],
   "source": [
    "# Fare:\n",
    "Fare_Q1 = test.Fare.quantile(0.25)\n",
    "Fare_Q3 = test.Fare.quantile(0.75)\n",
    "Fare_IQR = Fare_Q3 - Fare_Q1\n",
    "Fare_lower_extreme = Fare_Q1 - 1.5*Fare_IQR\n",
    "Fare_upper_extreme = Fare_Q3 + 1.5*Fare_IQR"
   ]
  },
  {
   "cell_type": "code",
   "execution_count": 24,
   "id": "6fc0d825",
   "metadata": {
    "execution": {
     "iopub.execute_input": "2024-03-14T18:10:42.021521Z",
     "iopub.status.busy": "2024-03-14T18:10:42.020594Z",
     "iopub.status.idle": "2024-03-14T18:10:42.039751Z",
     "shell.execute_reply": "2024-03-14T18:10:42.038608Z"
    },
    "papermill": {
     "duration": 0.046856,
     "end_time": "2024-03-14T18:10:42.042682",
     "exception": false,
     "start_time": "2024-03-14T18:10:41.995826",
     "status": "completed"
    },
    "tags": []
   },
   "outputs": [
    {
     "name": "stdout",
     "output_type": "stream",
     "text": [
      "the shape is: (55, 11)\n",
      "--------------------\n"
     ]
    },
    {
     "data": {
      "text/html": [
       "<div>\n",
       "<style scoped>\n",
       "    .dataframe tbody tr th:only-of-type {\n",
       "        vertical-align: middle;\n",
       "    }\n",
       "\n",
       "    .dataframe tbody tr th {\n",
       "        vertical-align: top;\n",
       "    }\n",
       "\n",
       "    .dataframe thead th {\n",
       "        text-align: right;\n",
       "    }\n",
       "</style>\n",
       "<table border=\"1\" class=\"dataframe\">\n",
       "  <thead>\n",
       "    <tr style=\"text-align: right;\">\n",
       "      <th></th>\n",
       "      <th>PassengerId</th>\n",
       "      <th>Pclass</th>\n",
       "      <th>Name</th>\n",
       "      <th>Sex</th>\n",
       "      <th>Age</th>\n",
       "      <th>SibSp</th>\n",
       "      <th>Parch</th>\n",
       "      <th>Ticket</th>\n",
       "      <th>Fare</th>\n",
       "      <th>Cabin</th>\n",
       "      <th>Embarked</th>\n",
       "    </tr>\n",
       "  </thead>\n",
       "  <tbody>\n",
       "    <tr>\n",
       "      <th>12</th>\n",
       "      <td>904</td>\n",
       "      <td>1</td>\n",
       "      <td>Snyder, Mrs. John Pillsbury (Nelle Stevenson)</td>\n",
       "      <td>female</td>\n",
       "      <td>23.0</td>\n",
       "      <td>1</td>\n",
       "      <td>0</td>\n",
       "      <td>21228</td>\n",
       "      <td>82.2667</td>\n",
       "      <td>B45</td>\n",
       "      <td>S</td>\n",
       "    </tr>\n",
       "    <tr>\n",
       "      <th>24</th>\n",
       "      <td>916</td>\n",
       "      <td>1</td>\n",
       "      <td>Ryerson, Mrs. Arthur Larned (Emily Maria Borie)</td>\n",
       "      <td>female</td>\n",
       "      <td>48.0</td>\n",
       "      <td>1</td>\n",
       "      <td>3</td>\n",
       "      <td>PC 17608</td>\n",
       "      <td>262.3750</td>\n",
       "      <td>B57 B59 B63 B66</td>\n",
       "      <td>C</td>\n",
       "    </tr>\n",
       "    <tr>\n",
       "      <th>48</th>\n",
       "      <td>940</td>\n",
       "      <td>1</td>\n",
       "      <td>Bucknell, Mrs. William Robert (Emma Eliza Ward)</td>\n",
       "      <td>female</td>\n",
       "      <td>60.0</td>\n",
       "      <td>0</td>\n",
       "      <td>0</td>\n",
       "      <td>11813</td>\n",
       "      <td>76.2917</td>\n",
       "      <td>D15</td>\n",
       "      <td>C</td>\n",
       "    </tr>\n",
       "    <tr>\n",
       "      <th>53</th>\n",
       "      <td>945</td>\n",
       "      <td>1</td>\n",
       "      <td>Fortune, Miss. Ethel Flora</td>\n",
       "      <td>female</td>\n",
       "      <td>28.0</td>\n",
       "      <td>3</td>\n",
       "      <td>2</td>\n",
       "      <td>19950</td>\n",
       "      <td>263.0000</td>\n",
       "      <td>C23 C25 C27</td>\n",
       "      <td>S</td>\n",
       "    </tr>\n",
       "    <tr>\n",
       "      <th>59</th>\n",
       "      <td>951</td>\n",
       "      <td>1</td>\n",
       "      <td>Chaudanson, Miss. Victorine</td>\n",
       "      <td>female</td>\n",
       "      <td>36.0</td>\n",
       "      <td>0</td>\n",
       "      <td>0</td>\n",
       "      <td>PC 17608</td>\n",
       "      <td>262.3750</td>\n",
       "      <td>B61</td>\n",
       "      <td>C</td>\n",
       "    </tr>\n",
       "  </tbody>\n",
       "</table>\n",
       "</div>"
      ],
      "text/plain": [
       "    PassengerId  Pclass                                             Name  \\\n",
       "12          904       1    Snyder, Mrs. John Pillsbury (Nelle Stevenson)   \n",
       "24          916       1  Ryerson, Mrs. Arthur Larned (Emily Maria Borie)   \n",
       "48          940       1  Bucknell, Mrs. William Robert (Emma Eliza Ward)   \n",
       "53          945       1                       Fortune, Miss. Ethel Flora   \n",
       "59          951       1                      Chaudanson, Miss. Victorine   \n",
       "\n",
       "       Sex   Age  SibSp  Parch    Ticket      Fare            Cabin Embarked  \n",
       "12  female  23.0      1      0     21228   82.2667              B45        S  \n",
       "24  female  48.0      1      3  PC 17608  262.3750  B57 B59 B63 B66        C  \n",
       "48  female  60.0      0      0     11813   76.2917              D15        C  \n",
       "53  female  28.0      3      2     19950  263.0000      C23 C25 C27        S  \n",
       "59  female  36.0      0      0  PC 17608  262.3750              B61        C  "
      ]
     },
     "execution_count": 24,
     "metadata": {},
     "output_type": "execute_result"
    }
   ],
   "source": [
    "#To see rows that contain outliers uing the interquartile range (IQR) method:\n",
    "outlier_Fare = test[(test.Fare<Fare_lower_extreme)|(test.Fare>Fare_upper_extreme)]\n",
    "print(\"the shape is:\",outlier_Fare.shape)\n",
    "print(\"-\" * 20)\n",
    "(outlier_Fare.head())"
   ]
  },
  {
   "cell_type": "markdown",
   "id": "1f629e56",
   "metadata": {
    "papermill": {
     "duration": 0.022732,
     "end_time": "2024-03-14T18:10:42.088804",
     "exception": false,
     "start_time": "2024-03-14T18:10:42.066072",
     "status": "completed"
    },
    "tags": []
   },
   "source": [
    "## 3)- Explore columns with qualitative (categorical) data:"
   ]
  },
  {
   "cell_type": "markdown",
   "id": "8afb309d",
   "metadata": {
    "papermill": {
     "duration": 0.022869,
     "end_time": "2024-03-14T18:10:42.134476",
     "exception": false,
     "start_time": "2024-03-14T18:10:42.111607",
     "status": "completed"
    },
    "tags": []
   },
   "source": [
    "### a)- Train set:"
   ]
  },
  {
   "cell_type": "code",
   "execution_count": 25,
   "id": "4d02c08e",
   "metadata": {
    "execution": {
     "iopub.execute_input": "2024-03-14T18:10:42.182744Z",
     "iopub.status.busy": "2024-03-14T18:10:42.181563Z",
     "iopub.status.idle": "2024-03-14T18:10:42.440384Z",
     "shell.execute_reply": "2024-03-14T18:10:42.438677Z"
    },
    "papermill": {
     "duration": 0.287759,
     "end_time": "2024-03-14T18:10:42.444988",
     "exception": false,
     "start_time": "2024-03-14T18:10:42.157229",
     "status": "completed"
    },
    "tags": []
   },
   "outputs": [
    {
     "data": {
      "image/png": "[encoded data removed]",
      "text/plain": [
       "<Figure size 1000x500 with 2 Axes>"
      ]
     },
     "metadata": {},
     "output_type": "display_data"
    }
   ],
   "source": [
    "#  \"Survived\" and \"Sex\"\n",
    "fig, axs = plt.subplots(1,2,figsize=(10,5), gridspec_kw={'wspace': 0.3})\n",
    "sns.countplot(x='Survived', data = train, palette = 'tab10', ax = axs[0])\n",
    "sns.countplot(x='Sex', data = train, palette = 'tab10', ax = axs[1])\n",
    "plt.show()"
   ]
  },
  {
   "cell_type": "code",
   "execution_count": 26,
   "id": "46c6affb",
   "metadata": {
    "execution": {
     "iopub.execute_input": "2024-03-14T18:10:42.512634Z",
     "iopub.status.busy": "2024-03-14T18:10:42.511592Z",
     "iopub.status.idle": "2024-03-14T18:10:43.134412Z",
     "shell.execute_reply": "2024-03-14T18:10:43.133169Z"
    },
    "papermill": {
     "duration": 0.661874,
     "end_time": "2024-03-14T18:10:43.136995",
     "exception": false,
     "start_time": "2024-03-14T18:10:42.475121",
     "status": "completed"
    },
    "tags": []
   },
   "outputs": [
    {
     "data": {
      "image/png": "[encoded data removed]",
      "text/plain": [
       "<Figure size 1600x800 with 4 Axes>"
      ]
     },
     "metadata": {},
     "output_type": "display_data"
    }
   ],
   "source": [
    "# \"SibSp\", \"Embarked\", \"Pclass\" and \"Parch\"\n",
    "fig, axs = plt.subplots(2,2,figsize=(16,8), gridspec_kw={'wspace': 0.3})\n",
    "sns.countplot(x= 'SibSp',data = train,  ax = axs[0,0])\n",
    "sns.countplot(x='Embarked', data=train, ax = axs[0,1])\n",
    "sns.countplot(x='Pclass', data=train, ax=axs[1, 0])\n",
    "sns.countplot(x='Parch', data = train, ax=axs[1, 1])\n",
    "plt.show()"
   ]
  },
  {
   "cell_type": "markdown",
   "id": "e8d6a321",
   "metadata": {
    "papermill": {
     "duration": 0.027771,
     "end_time": "2024-03-14T18:10:43.193095",
     "exception": false,
     "start_time": "2024-03-14T18:10:43.165324",
     "status": "completed"
    },
    "tags": []
   },
   "source": [
    "### b)- Test set:"
   ]
  },
  {
   "cell_type": "code",
   "execution_count": 27,
   "id": "7ae26d03",
   "metadata": {
    "execution": {
     "iopub.execute_input": "2024-03-14T18:10:43.246319Z",
     "iopub.status.busy": "2024-03-14T18:10:43.245100Z",
     "iopub.status.idle": "2024-03-14T18:10:43.422623Z",
     "shell.execute_reply": "2024-03-14T18:10:43.421074Z"
    },
    "papermill": {
     "duration": 0.20838,
     "end_time": "2024-03-14T18:10:43.425682",
     "exception": false,
     "start_time": "2024-03-14T18:10:43.217302",
     "status": "completed"
    },
    "tags": []
   },
   "outputs": [
    {
     "data": {
      "image/png": "[encoded data removed]",
      "text/plain": [
       "<Figure size 640x480 with 1 Axes>"
      ]
     },
     "metadata": {},
     "output_type": "display_data"
    }
   ],
   "source": [
    "#\"Sex\"\n",
    "sns.countplot(x='Sex', data = test, palette = 'tab10')\n",
    "plt.show()"
   ]
  },
  {
   "cell_type": "code",
   "execution_count": 28,
   "id": "b1ef3777",
   "metadata": {
    "execution": {
     "iopub.execute_input": "2024-03-14T18:10:43.477824Z",
     "iopub.status.busy": "2024-03-14T18:10:43.476720Z",
     "iopub.status.idle": "2024-03-14T18:10:44.086299Z",
     "shell.execute_reply": "2024-03-14T18:10:44.085099Z"
    },
    "papermill": {
     "duration": 0.638057,
     "end_time": "2024-03-14T18:10:44.089190",
     "exception": false,
     "start_time": "2024-03-14T18:10:43.451133",
     "status": "completed"
    },
    "tags": []
   },
   "outputs": [
    {
     "data": {
      "image/png": "[encoded data removed]",
      "text/plain": [
       "<Figure size 1600x800 with 4 Axes>"
      ]
     },
     "metadata": {},
     "output_type": "display_data"
    }
   ],
   "source": [
    "# \"SibSp\", \"Embarked\", \"Pclass\" and \"Parch\"\n",
    "fig, axs = plt.subplots(2,2,figsize=(16,8), gridspec_kw={'wspace': 0.3})\n",
    "sns.countplot(x= 'SibSp',data = test,  ax = axs[0,0])\n",
    "sns.countplot(x='Embarked', data=test, ax = axs[0,1])\n",
    "sns.countplot(x='Pclass', data=test, ax=axs[1, 0])\n",
    "sns.countplot(x='Parch', data = test, ax=axs[1, 1])\n",
    "plt.show()"
   ]
  },
  {
   "cell_type": "markdown",
   "id": "05ccd94d",
   "metadata": {
    "papermill": {
     "duration": 0.024474,
     "end_time": "2024-03-14T18:10:44.138802",
     "exception": false,
     "start_time": "2024-03-14T18:10:44.114328",
     "status": "completed"
    },
    "tags": []
   },
   "source": [
    "# Data Cleaning:"
   ]
  },
  {
   "cell_type": "markdown",
   "id": "82269235",
   "metadata": {
    "papermill": {
     "duration": 0.02469,
     "end_time": "2024-03-14T18:10:44.188309",
     "exception": false,
     "start_time": "2024-03-14T18:10:44.163619",
     "status": "completed"
    },
    "tags": []
   },
   "source": [
    "**Based on the results of \"Data Exploration\", we will:**\n",
    "* Drop the \"Cabin\" column from the training and test sets. This column has more than 70% missing values in both sets.\n",
    "* Fill the \"Age\" and \"Fare\" columns with the median value. The descriptive statistics and histograms indicated a right-skewed distribution for these variables, which mean we can not use the mean in this case.\n",
    "* Fill the \"Embarked\" column with the mode value.\n"
   ]
  },
  {
   "cell_type": "code",
   "execution_count": 29,
   "id": "76561043",
   "metadata": {
    "execution": {
     "iopub.execute_input": "2024-03-14T18:10:44.241239Z",
     "iopub.status.busy": "2024-03-14T18:10:44.240472Z",
     "iopub.status.idle": "2024-03-14T18:10:44.248884Z",
     "shell.execute_reply": "2024-03-14T18:10:44.248079Z"
    },
    "papermill": {
     "duration": 0.037794,
     "end_time": "2024-03-14T18:10:44.251116",
     "exception": false,
     "start_time": "2024-03-14T18:10:44.213322",
     "status": "completed"
    },
    "tags": []
   },
   "outputs": [],
   "source": [
    "train = train.drop(['Cabin'], axis = 1)\n",
    "test = test.drop(['Cabin'], axis = 1)"
   ]
  },
  {
   "cell_type": "code",
   "execution_count": 30,
   "id": "68f3b55e",
   "metadata": {
    "execution": {
     "iopub.execute_input": "2024-03-14T18:10:44.303427Z",
     "iopub.status.busy": "2024-03-14T18:10:44.302645Z",
     "iopub.status.idle": "2024-03-14T18:10:44.310595Z",
     "shell.execute_reply": "2024-03-14T18:10:44.309757Z"
    },
    "papermill": {
     "duration": 0.037748,
     "end_time": "2024-03-14T18:10:44.313313",
     "exception": false,
     "start_time": "2024-03-14T18:10:44.275565",
     "status": "completed"
    },
    "tags": []
   },
   "outputs": [],
   "source": [
    "# Filling the column age with the median:\n",
    "train[\"Age\"].fillna(train['Age'].median(), inplace = True)\n",
    "test[\"Age\"].fillna(test['Age'].median(), inplace = True)"
   ]
  },
  {
   "cell_type": "code",
   "execution_count": 31,
   "id": "498697a8",
   "metadata": {
    "execution": {
     "iopub.execute_input": "2024-03-14T18:10:44.365854Z",
     "iopub.status.busy": "2024-03-14T18:10:44.365353Z",
     "iopub.status.idle": "2024-03-14T18:10:44.371658Z",
     "shell.execute_reply": "2024-03-14T18:10:44.370595Z"
    },
    "papermill": {
     "duration": 0.034643,
     "end_time": "2024-03-14T18:10:44.373787",
     "exception": false,
     "start_time": "2024-03-14T18:10:44.339144",
     "status": "completed"
    },
    "tags": []
   },
   "outputs": [],
   "source": [
    "# Filling the column Fare with the median:\n",
    "test[\"Fare\"].fillna(test['Fare'].median(), inplace = True)"
   ]
  },
  {
   "cell_type": "code",
   "execution_count": 32,
   "id": "f58e6be1",
   "metadata": {
    "execution": {
     "iopub.execute_input": "2024-03-14T18:10:44.426818Z",
     "iopub.status.busy": "2024-03-14T18:10:44.425551Z",
     "iopub.status.idle": "2024-03-14T18:10:44.434727Z",
     "shell.execute_reply": "2024-03-14T18:10:44.433561Z"
    },
    "papermill": {
     "duration": 0.038219,
     "end_time": "2024-03-14T18:10:44.437134",
     "exception": false,
     "start_time": "2024-03-14T18:10:44.398915",
     "status": "completed"
    },
    "tags": []
   },
   "outputs": [],
   "source": [
    "# Filling the column \"Embarked\" with the mode:\n",
    "train['Embarked'].fillna(train['Embarked'].mode()[0], inplace = True)\n",
    "test['Embarked'].fillna(test['Embarked'].mode()[0], inplace = True)"
   ]
  },
  {
   "cell_type": "markdown",
   "id": "1c81f398",
   "metadata": {
    "papermill": {
     "duration": 0.025102,
     "end_time": "2024-03-14T18:10:44.487369",
     "exception": false,
     "start_time": "2024-03-14T18:10:44.462267",
     "status": "completed"
    },
    "tags": []
   },
   "source": [
    "# Data Preprocessing:"
   ]
  },
  {
   "cell_type": "markdown",
   "id": "3f1de0e0",
   "metadata": {
    "papermill": {
     "duration": 0.024226,
     "end_time": "2024-03-14T18:10:44.536442",
     "exception": false,
     "start_time": "2024-03-14T18:10:44.512216",
     "status": "completed"
    },
    "tags": []
   },
   "source": [
    "**In this step we will:**\n",
    "* Convert the categorical columns 'Embarked'and 'Sex'into numerical representations.\n",
    "* Drop unnecessary columns."
   ]
  },
  {
   "cell_type": "markdown",
   "id": "417d45b3",
   "metadata": {
    "papermill": {
     "duration": 0.024329,
     "end_time": "2024-03-14T18:10:44.585397",
     "exception": false,
     "start_time": "2024-03-14T18:10:44.561068",
     "status": "completed"
    },
    "tags": []
   },
   "source": [
    "### a)- Train set:"
   ]
  },
  {
   "cell_type": "markdown",
   "id": "803f49b3",
   "metadata": {
    "papermill": {
     "duration": 0.02433,
     "end_time": "2024-03-14T18:10:44.634314",
     "exception": false,
     "start_time": "2024-03-14T18:10:44.609984",
     "status": "completed"
    },
    "tags": []
   },
   "source": [
    "**Convert the categorical columns 'Embarked'and 'Sex' into numerical representations.**"
   ]
  },
  {
   "cell_type": "code",
   "execution_count": 33,
   "id": "e98e103b",
   "metadata": {
    "execution": {
     "iopub.execute_input": "2024-03-14T18:10:44.685455Z",
     "iopub.status.busy": "2024-03-14T18:10:44.685040Z",
     "iopub.status.idle": "2024-03-14T18:10:44.693250Z",
     "shell.execute_reply": "2024-03-14T18:10:44.692307Z"
    },
    "papermill": {
     "duration": 0.036251,
     "end_time": "2024-03-14T18:10:44.695237",
     "exception": false,
     "start_time": "2024-03-14T18:10:44.658986",
     "status": "completed"
    },
    "tags": []
   },
   "outputs": [],
   "source": [
    "emb = pd.get_dummies(train['Embarked']).astype(int)\n",
    "sex = pd.get_dummies(train['Sex'], drop_first = True).astype(int)"
   ]
  },
  {
   "cell_type": "code",
   "execution_count": 34,
   "id": "da44e58d",
   "metadata": {
    "execution": {
     "iopub.execute_input": "2024-03-14T18:10:44.746666Z",
     "iopub.status.busy": "2024-03-14T18:10:44.745760Z",
     "iopub.status.idle": "2024-03-14T18:10:44.752702Z",
     "shell.execute_reply": "2024-03-14T18:10:44.751791Z"
    },
    "papermill": {
     "duration": 0.035038,
     "end_time": "2024-03-14T18:10:44.755042",
     "exception": false,
     "start_time": "2024-03-14T18:10:44.720004",
     "status": "completed"
    },
    "tags": []
   },
   "outputs": [],
   "source": [
    "train = pd.concat([train, sex, emb] , axis = 1) "
   ]
  },
  {
   "cell_type": "code",
   "execution_count": 35,
   "id": "ef4a1d9d",
   "metadata": {
    "execution": {
     "iopub.execute_input": "2024-03-14T18:10:44.808210Z",
     "iopub.status.busy": "2024-03-14T18:10:44.807747Z",
     "iopub.status.idle": "2024-03-14T18:10:44.813532Z",
     "shell.execute_reply": "2024-03-14T18:10:44.812406Z"
    },
    "papermill": {
     "duration": 0.034776,
     "end_time": "2024-03-14T18:10:44.815718",
     "exception": false,
     "start_time": "2024-03-14T18:10:44.780942",
     "status": "completed"
    },
    "tags": []
   },
   "outputs": [],
   "source": [
    "train.rename(columns = {'male':'Gender'}, inplace = True)"
   ]
  },
  {
   "cell_type": "markdown",
   "id": "4c40bf3e",
   "metadata": {
    "papermill": {
     "duration": 0.024469,
     "end_time": "2024-03-14T18:10:44.865329",
     "exception": false,
     "start_time": "2024-03-14T18:10:44.840860",
     "status": "completed"
    },
    "tags": []
   },
   "source": [
    "**Delete unnecessary columns:**"
   ]
  },
  {
   "cell_type": "code",
   "execution_count": 36,
   "id": "e3888771",
   "metadata": {
    "execution": {
     "iopub.execute_input": "2024-03-14T18:10:44.917082Z",
     "iopub.status.busy": "2024-03-14T18:10:44.916617Z",
     "iopub.status.idle": "2024-03-14T18:10:44.923510Z",
     "shell.execute_reply": "2024-03-14T18:10:44.922328Z"
    },
    "papermill": {
     "duration": 0.035788,
     "end_time": "2024-03-14T18:10:44.925786",
     "exception": false,
     "start_time": "2024-03-14T18:10:44.889998",
     "status": "completed"
    },
    "tags": []
   },
   "outputs": [],
   "source": [
    "train.drop(['Name', 'Sex', 'Ticket', 'Embarked'],axis = 1, inplace = True) "
   ]
  },
  {
   "cell_type": "code",
   "execution_count": 37,
   "id": "4e2b92bb",
   "metadata": {
    "execution": {
     "iopub.execute_input": "2024-03-14T18:10:44.978418Z",
     "iopub.status.busy": "2024-03-14T18:10:44.977225Z",
     "iopub.status.idle": "2024-03-14T18:10:44.993236Z",
     "shell.execute_reply": "2024-03-14T18:10:44.992086Z"
    },
    "papermill": {
     "duration": 0.044245,
     "end_time": "2024-03-14T18:10:44.995395",
     "exception": false,
     "start_time": "2024-03-14T18:10:44.951150",
     "status": "completed"
    },
    "tags": []
   },
   "outputs": [
    {
     "data": {
      "text/html": [
       "<div>\n",
       "<style scoped>\n",
       "    .dataframe tbody tr th:only-of-type {\n",
       "        vertical-align: middle;\n",
       "    }\n",
       "\n",
       "    .dataframe tbody tr th {\n",
       "        vertical-align: top;\n",
       "    }\n",
       "\n",
       "    .dataframe thead th {\n",
       "        text-align: right;\n",
       "    }\n",
       "</style>\n",
       "<table border=\"1\" class=\"dataframe\">\n",
       "  <thead>\n",
       "    <tr style=\"text-align: right;\">\n",
       "      <th></th>\n",
       "      <th>PassengerId</th>\n",
       "      <th>Survived</th>\n",
       "      <th>Pclass</th>\n",
       "      <th>Age</th>\n",
       "      <th>SibSp</th>\n",
       "      <th>Parch</th>\n",
       "      <th>Fare</th>\n",
       "      <th>Gender</th>\n",
       "      <th>C</th>\n",
       "      <th>Q</th>\n",
       "      <th>S</th>\n",
       "    </tr>\n",
       "  </thead>\n",
       "  <tbody>\n",
       "    <tr>\n",
       "      <th>0</th>\n",
       "      <td>1</td>\n",
       "      <td>0</td>\n",
       "      <td>3</td>\n",
       "      <td>22.0</td>\n",
       "      <td>1</td>\n",
       "      <td>0</td>\n",
       "      <td>7.2500</td>\n",
       "      <td>1</td>\n",
       "      <td>0</td>\n",
       "      <td>0</td>\n",
       "      <td>1</td>\n",
       "    </tr>\n",
       "    <tr>\n",
       "      <th>1</th>\n",
       "      <td>2</td>\n",
       "      <td>1</td>\n",
       "      <td>1</td>\n",
       "      <td>38.0</td>\n",
       "      <td>1</td>\n",
       "      <td>0</td>\n",
       "      <td>71.2833</td>\n",
       "      <td>0</td>\n",
       "      <td>1</td>\n",
       "      <td>0</td>\n",
       "      <td>0</td>\n",
       "    </tr>\n",
       "    <tr>\n",
       "      <th>2</th>\n",
       "      <td>3</td>\n",
       "      <td>1</td>\n",
       "      <td>3</td>\n",
       "      <td>26.0</td>\n",
       "      <td>0</td>\n",
       "      <td>0</td>\n",
       "      <td>7.9250</td>\n",
       "      <td>0</td>\n",
       "      <td>0</td>\n",
       "      <td>0</td>\n",
       "      <td>1</td>\n",
       "    </tr>\n",
       "    <tr>\n",
       "      <th>3</th>\n",
       "      <td>4</td>\n",
       "      <td>1</td>\n",
       "      <td>1</td>\n",
       "      <td>35.0</td>\n",
       "      <td>1</td>\n",
       "      <td>0</td>\n",
       "      <td>53.1000</td>\n",
       "      <td>0</td>\n",
       "      <td>0</td>\n",
       "      <td>0</td>\n",
       "      <td>1</td>\n",
       "    </tr>\n",
       "    <tr>\n",
       "      <th>4</th>\n",
       "      <td>5</td>\n",
       "      <td>0</td>\n",
       "      <td>3</td>\n",
       "      <td>35.0</td>\n",
       "      <td>0</td>\n",
       "      <td>0</td>\n",
       "      <td>8.0500</td>\n",
       "      <td>1</td>\n",
       "      <td>0</td>\n",
       "      <td>0</td>\n",
       "      <td>1</td>\n",
       "    </tr>\n",
       "  </tbody>\n",
       "</table>\n",
       "</div>"
      ],
      "text/plain": [
       "   PassengerId  Survived  Pclass   Age  SibSp  Parch     Fare  Gender  C  Q  S\n",
       "0            1         0       3  22.0      1      0   7.2500       1  0  0  1\n",
       "1            2         1       1  38.0      1      0  71.2833       0  1  0  0\n",
       "2            3         1       3  26.0      0      0   7.9250       0  0  0  1\n",
       "3            4         1       1  35.0      1      0  53.1000       0  0  0  1\n",
       "4            5         0       3  35.0      0      0   8.0500       1  0  0  1"
      ]
     },
     "execution_count": 37,
     "metadata": {},
     "output_type": "execute_result"
    }
   ],
   "source": [
    "train.head()"
   ]
  },
  {
   "cell_type": "markdown",
   "id": "4efb0c1b",
   "metadata": {
    "papermill": {
     "duration": 0.02481,
     "end_time": "2024-03-14T18:10:45.046190",
     "exception": false,
     "start_time": "2024-03-14T18:10:45.021380",
     "status": "completed"
    },
    "tags": []
   },
   "source": [
    "### b)- Test set:"
   ]
  },
  {
   "cell_type": "markdown",
   "id": "641deb80",
   "metadata": {
    "papermill": {
     "duration": 0.025036,
     "end_time": "2024-03-14T18:10:45.096124",
     "exception": false,
     "start_time": "2024-03-14T18:10:45.071088",
     "status": "completed"
    },
    "tags": []
   },
   "source": [
    "**Encode the categorical columns 'Embarked', 'Sex', and 'Title'**"
   ]
  },
  {
   "cell_type": "code",
   "execution_count": 38,
   "id": "078601e7",
   "metadata": {
    "execution": {
     "iopub.execute_input": "2024-03-14T18:10:45.149549Z",
     "iopub.status.busy": "2024-03-14T18:10:45.149128Z",
     "iopub.status.idle": "2024-03-14T18:10:45.156926Z",
     "shell.execute_reply": "2024-03-14T18:10:45.155733Z"
    },
    "papermill": {
     "duration": 0.037234,
     "end_time": "2024-03-14T18:10:45.159029",
     "exception": false,
     "start_time": "2024-03-14T18:10:45.121795",
     "status": "completed"
    },
    "tags": []
   },
   "outputs": [],
   "source": [
    "test_emb = pd.get_dummies(test['Embarked']).astype(int)\n",
    "test_sex = pd.get_dummies(test['Sex'], drop_first = True).astype(int)"
   ]
  },
  {
   "cell_type": "code",
   "execution_count": 39,
   "id": "2e510047",
   "metadata": {
    "execution": {
     "iopub.execute_input": "2024-03-14T18:10:45.211560Z",
     "iopub.status.busy": "2024-03-14T18:10:45.211135Z",
     "iopub.status.idle": "2024-03-14T18:10:45.216604Z",
     "shell.execute_reply": "2024-03-14T18:10:45.215685Z"
    },
    "papermill": {
     "duration": 0.033978,
     "end_time": "2024-03-14T18:10:45.218550",
     "exception": false,
     "start_time": "2024-03-14T18:10:45.184572",
     "status": "completed"
    },
    "tags": []
   },
   "outputs": [],
   "source": [
    "test = pd.concat([test, test_sex, test_emb], axis = 1) "
   ]
  },
  {
   "cell_type": "code",
   "execution_count": 40,
   "id": "e607fe17",
   "metadata": {
    "execution": {
     "iopub.execute_input": "2024-03-14T18:10:45.270293Z",
     "iopub.status.busy": "2024-03-14T18:10:45.269819Z",
     "iopub.status.idle": "2024-03-14T18:10:45.275693Z",
     "shell.execute_reply": "2024-03-14T18:10:45.274597Z"
    },
    "papermill": {
     "duration": 0.034575,
     "end_time": "2024-03-14T18:10:45.278098",
     "exception": false,
     "start_time": "2024-03-14T18:10:45.243523",
     "status": "completed"
    },
    "tags": []
   },
   "outputs": [],
   "source": [
    "test.rename(columns = {'male':'Gender'}, inplace = True)"
   ]
  },
  {
   "cell_type": "markdown",
   "id": "7a2fd948",
   "metadata": {
    "papermill": {
     "duration": 0.025572,
     "end_time": "2024-03-14T18:10:45.328808",
     "exception": false,
     "start_time": "2024-03-14T18:10:45.303236",
     "status": "completed"
    },
    "tags": []
   },
   "source": [
    "**Drop unnecessary columns.**"
   ]
  },
  {
   "cell_type": "code",
   "execution_count": 41,
   "id": "7f1ef4a6",
   "metadata": {
    "execution": {
     "iopub.execute_input": "2024-03-14T18:10:45.382282Z",
     "iopub.status.busy": "2024-03-14T18:10:45.381835Z",
     "iopub.status.idle": "2024-03-14T18:10:45.388133Z",
     "shell.execute_reply": "2024-03-14T18:10:45.387186Z"
    },
    "papermill": {
     "duration": 0.035468,
     "end_time": "2024-03-14T18:10:45.390135",
     "exception": false,
     "start_time": "2024-03-14T18:10:45.354667",
     "status": "completed"
    },
    "tags": []
   },
   "outputs": [],
   "source": [
    "test.drop([ 'Name', 'Sex', 'Ticket', 'Embarked'],axis = 1, inplace = True) "
   ]
  },
  {
   "cell_type": "code",
   "execution_count": 42,
   "id": "af258ced",
   "metadata": {
    "execution": {
     "iopub.execute_input": "2024-03-14T18:10:45.444879Z",
     "iopub.status.busy": "2024-03-14T18:10:45.443966Z",
     "iopub.status.idle": "2024-03-14T18:10:45.458803Z",
     "shell.execute_reply": "2024-03-14T18:10:45.457727Z"
    },
    "papermill": {
     "duration": 0.045241,
     "end_time": "2024-03-14T18:10:45.460898",
     "exception": false,
     "start_time": "2024-03-14T18:10:45.415657",
     "status": "completed"
    },
    "tags": []
   },
   "outputs": [
    {
     "data": {
      "text/html": [
       "<div>\n",
       "<style scoped>\n",
       "    .dataframe tbody tr th:only-of-type {\n",
       "        vertical-align: middle;\n",
       "    }\n",
       "\n",
       "    .dataframe tbody tr th {\n",
       "        vertical-align: top;\n",
       "    }\n",
       "\n",
       "    .dataframe thead th {\n",
       "        text-align: right;\n",
       "    }\n",
       "</style>\n",
       "<table border=\"1\" class=\"dataframe\">\n",
       "  <thead>\n",
       "    <tr style=\"text-align: right;\">\n",
       "      <th></th>\n",
       "      <th>PassengerId</th>\n",
       "      <th>Pclass</th>\n",
       "      <th>Age</th>\n",
       "      <th>SibSp</th>\n",
       "      <th>Parch</th>\n",
       "      <th>Fare</th>\n",
       "      <th>Gender</th>\n",
       "      <th>C</th>\n",
       "      <th>Q</th>\n",
       "      <th>S</th>\n",
       "    </tr>\n",
       "  </thead>\n",
       "  <tbody>\n",
       "    <tr>\n",
       "      <th>0</th>\n",
       "      <td>892</td>\n",
       "      <td>3</td>\n",
       "      <td>34.5</td>\n",
       "      <td>0</td>\n",
       "      <td>0</td>\n",
       "      <td>7.8292</td>\n",
       "      <td>1</td>\n",
       "      <td>0</td>\n",
       "      <td>1</td>\n",
       "      <td>0</td>\n",
       "    </tr>\n",
       "    <tr>\n",
       "      <th>1</th>\n",
       "      <td>893</td>\n",
       "      <td>3</td>\n",
       "      <td>47.0</td>\n",
       "      <td>1</td>\n",
       "      <td>0</td>\n",
       "      <td>7.0000</td>\n",
       "      <td>0</td>\n",
       "      <td>0</td>\n",
       "      <td>0</td>\n",
       "      <td>1</td>\n",
       "    </tr>\n",
       "    <tr>\n",
       "      <th>2</th>\n",
       "      <td>894</td>\n",
       "      <td>2</td>\n",
       "      <td>62.0</td>\n",
       "      <td>0</td>\n",
       "      <td>0</td>\n",
       "      <td>9.6875</td>\n",
       "      <td>1</td>\n",
       "      <td>0</td>\n",
       "      <td>1</td>\n",
       "      <td>0</td>\n",
       "    </tr>\n",
       "    <tr>\n",
       "      <th>3</th>\n",
       "      <td>895</td>\n",
       "      <td>3</td>\n",
       "      <td>27.0</td>\n",
       "      <td>0</td>\n",
       "      <td>0</td>\n",
       "      <td>8.6625</td>\n",
       "      <td>1</td>\n",
       "      <td>0</td>\n",
       "      <td>0</td>\n",
       "      <td>1</td>\n",
       "    </tr>\n",
       "    <tr>\n",
       "      <th>4</th>\n",
       "      <td>896</td>\n",
       "      <td>3</td>\n",
       "      <td>22.0</td>\n",
       "      <td>1</td>\n",
       "      <td>1</td>\n",
       "      <td>12.2875</td>\n",
       "      <td>0</td>\n",
       "      <td>0</td>\n",
       "      <td>0</td>\n",
       "      <td>1</td>\n",
       "    </tr>\n",
       "  </tbody>\n",
       "</table>\n",
       "</div>"
      ],
      "text/plain": [
       "   PassengerId  Pclass   Age  SibSp  Parch     Fare  Gender  C  Q  S\n",
       "0          892       3  34.5      0      0   7.8292       1  0  1  0\n",
       "1          893       3  47.0      1      0   7.0000       0  0  0  1\n",
       "2          894       2  62.0      0      0   9.6875       1  0  1  0\n",
       "3          895       3  27.0      0      0   8.6625       1  0  0  1\n",
       "4          896       3  22.0      1      1  12.2875       0  0  0  1"
      ]
     },
     "execution_count": 42,
     "metadata": {},
     "output_type": "execute_result"
    }
   ],
   "source": [
    "test.head()"
   ]
  },
  {
   "cell_type": "markdown",
   "id": "9c30ba38",
   "metadata": {
    "papermill": {
     "duration": 0.024852,
     "end_time": "2024-03-14T18:10:45.511242",
     "exception": false,
     "start_time": "2024-03-14T18:10:45.486390",
     "status": "completed"
    },
    "tags": []
   },
   "source": [
    "# Modelling:"
   ]
  },
  {
   "cell_type": "markdown",
   "id": "fef78426",
   "metadata": {
    "papermill": {
     "duration": 0.02549,
     "end_time": "2024-03-14T18:10:45.561992",
     "exception": false,
     "start_time": "2024-03-14T18:10:45.536502",
     "status": "completed"
    },
    "tags": []
   },
   "source": [
    "#### Models:\n",
    "I will test the following models with the training set.\n",
    "\n",
    "* Logistic Regression\n",
    "* Support Vector Machines\n",
    "* Decision Tree Classifier\n",
    "* Random Forest Classifier\n",
    "* KNN or k-Nearest Neighbors\n",
    "\n",
    "For each model, we set the model, fit it with 80% of our training data, predict for 20% of the training data and check the accuracy."
   ]
  },
  {
   "cell_type": "code",
   "execution_count": 43,
   "id": "5dd46c57",
   "metadata": {
    "execution": {
     "iopub.execute_input": "2024-03-14T18:10:45.615104Z",
     "iopub.status.busy": "2024-03-14T18:10:45.614350Z",
     "iopub.status.idle": "2024-03-14T18:10:46.055782Z",
     "shell.execute_reply": "2024-03-14T18:10:46.054615Z"
    },
    "papermill": {
     "duration": 0.470987,
     "end_time": "2024-03-14T18:10:46.058392",
     "exception": false,
     "start_time": "2024-03-14T18:10:45.587405",
     "status": "completed"
    },
    "tags": []
   },
   "outputs": [],
   "source": [
    "from sklearn.model_selection import train_test_split\n",
    "from sklearn.model_selection import GridSearchCV\n",
    "\n",
    "# dividing into train and test sets\n",
    "X = train.drop(['Survived', 'PassengerId'], axis=1)\n",
    "y = train[\"Survived\"]"
   ]
  },
  {
   "cell_type": "code",
   "execution_count": 44,
   "id": "872318de",
   "metadata": {
    "execution": {
     "iopub.execute_input": "2024-03-14T18:10:46.118840Z",
     "iopub.status.busy": "2024-03-14T18:10:46.117963Z",
     "iopub.status.idle": "2024-03-14T18:10:46.134441Z",
     "shell.execute_reply": "2024-03-14T18:10:46.133120Z"
    },
    "papermill": {
     "duration": 0.047512,
     "end_time": "2024-03-14T18:10:46.137695",
     "exception": false,
     "start_time": "2024-03-14T18:10:46.090183",
     "status": "completed"
    },
    "tags": []
   },
   "outputs": [],
   "source": [
    "# Train test split\n",
    "x_train, x_val, y_train, y_val = train_test_split(X, y, test_size = 0.20, random_state = 42, stratify = y)"
   ]
  },
  {
   "cell_type": "code",
   "execution_count": 45,
   "id": "19578085",
   "metadata": {
    "execution": {
     "iopub.execute_input": "2024-03-14T18:10:46.192952Z",
     "iopub.status.busy": "2024-03-14T18:10:46.191553Z",
     "iopub.status.idle": "2024-03-14T18:10:46.199477Z",
     "shell.execute_reply": "2024-03-14T18:10:46.198052Z"
    },
    "papermill": {
     "duration": 0.037025,
     "end_time": "2024-03-14T18:10:46.201752",
     "exception": false,
     "start_time": "2024-03-14T18:10:46.164727",
     "status": "completed"
    },
    "tags": []
   },
   "outputs": [
    {
     "name": "stdout",
     "output_type": "stream",
     "text": [
      "X_train (712, 9)\n",
      "X_validation (179, 9)\n",
      "y_train (712,)\n",
      "y_validation (179,)\n"
     ]
    }
   ],
   "source": [
    "print(\"X_train\",x_train.shape)\n",
    "print(\"X_validation\",x_val.shape)\n",
    "print(\"y_train\",y_train.shape)\n",
    "print(\"y_validation\",y_val.shape)"
   ]
  },
  {
   "cell_type": "code",
   "execution_count": 46,
   "id": "7fef6349",
   "metadata": {
    "execution": {
     "iopub.execute_input": "2024-03-14T18:10:46.256272Z",
     "iopub.status.busy": "2024-03-14T18:10:46.254885Z",
     "iopub.status.idle": "2024-03-14T18:10:46.536281Z",
     "shell.execute_reply": "2024-03-14T18:10:46.535238Z"
    },
    "papermill": {
     "duration": 0.311057,
     "end_time": "2024-03-14T18:10:46.539087",
     "exception": false,
     "start_time": "2024-03-14T18:10:46.228030",
     "status": "completed"
    },
    "tags": []
   },
   "outputs": [],
   "source": [
    "# Import the models:\n",
    "from sklearn.linear_model import LogisticRegression\n",
    "from sklearn.svm import SVC\n",
    "from sklearn.ensemble import RandomForestClassifier\n",
    "from sklearn.neighbors import KNeighborsClassifier\n",
    "from sklearn.tree import DecisionTreeClassifier"
   ]
  },
  {
   "cell_type": "code",
   "execution_count": 47,
   "id": "8b0d95f7",
   "metadata": {
    "execution": {
     "iopub.execute_input": "2024-03-14T18:10:46.599076Z",
     "iopub.status.busy": "2024-03-14T18:10:46.598220Z",
     "iopub.status.idle": "2024-03-14T18:10:46.605722Z",
     "shell.execute_reply": "2024-03-14T18:10:46.604120Z"
    },
    "papermill": {
     "duration": 0.041899,
     "end_time": "2024-03-14T18:10:46.608223",
     "exception": false,
     "start_time": "2024-03-14T18:10:46.566324",
     "status": "completed"
    },
    "tags": []
   },
   "outputs": [],
   "source": [
    "# Import the evaluation metrics:\n",
    "from sklearn.metrics import accuracy_score,f1_score, confusion_matrix, classification_report, roc_auc_score"
   ]
  },
  {
   "cell_type": "markdown",
   "id": "50584638",
   "metadata": {
    "papermill": {
     "duration": 0.02517,
     "end_time": "2024-03-14T18:10:46.659298",
     "exception": false,
     "start_time": "2024-03-14T18:10:46.634128",
     "status": "completed"
    },
    "tags": []
   },
   "source": [
    "### 1. Logistic regression:"
   ]
  },
  {
   "cell_type": "code",
   "execution_count": 48,
   "id": "9ada1c63",
   "metadata": {
    "execution": {
     "iopub.execute_input": "2024-03-14T18:10:46.713630Z",
     "iopub.status.busy": "2024-03-14T18:10:46.712785Z",
     "iopub.status.idle": "2024-03-14T18:10:46.729780Z",
     "shell.execute_reply": "2024-03-14T18:10:46.728532Z"
    },
    "papermill": {
     "duration": 0.047462,
     "end_time": "2024-03-14T18:10:46.732509",
     "exception": false,
     "start_time": "2024-03-14T18:10:46.685047",
     "status": "completed"
    },
    "tags": []
   },
   "outputs": [],
   "source": [
    "logreg = LogisticRegression(solver = 'liblinear', penalty= 'l1')\n",
    "logreg.fit(x_train, y_train)\n",
    "y_pred = logreg.predict(x_val)"
   ]
  },
  {
   "cell_type": "code",
   "execution_count": 49,
   "id": "3fdab054",
   "metadata": {
    "execution": {
     "iopub.execute_input": "2024-03-14T18:10:46.787119Z",
     "iopub.status.busy": "2024-03-14T18:10:46.786196Z",
     "iopub.status.idle": "2024-03-14T18:10:46.801169Z",
     "shell.execute_reply": "2024-03-14T18:10:46.799475Z"
    },
    "papermill": {
     "duration": 0.045368,
     "end_time": "2024-03-14T18:10:46.803754",
     "exception": false,
     "start_time": "2024-03-14T18:10:46.758386",
     "status": "completed"
    },
    "tags": []
   },
   "outputs": [
    {
     "name": "stdout",
     "output_type": "stream",
     "text": [
      "              precision    recall  f1-score   support\n",
      "\n",
      "           0       0.81      0.88      0.84       110\n",
      "           1       0.78      0.67      0.72        69\n",
      "\n",
      "    accuracy                           0.80       179\n",
      "   macro avg       0.79      0.77      0.78       179\n",
      "weighted avg       0.80      0.80      0.80       179\n",
      "\n"
     ]
    }
   ],
   "source": [
    "print(classification_report(y_val, y_pred))"
   ]
  },
  {
   "cell_type": "markdown",
   "id": "3ff7942b",
   "metadata": {
    "papermill": {
     "duration": 0.025311,
     "end_time": "2024-03-14T18:10:46.855172",
     "exception": false,
     "start_time": "2024-03-14T18:10:46.829861",
     "status": "completed"
    },
    "tags": []
   },
   "source": [
    "### 2. Decision Tree Classifier:"
   ]
  },
  {
   "cell_type": "code",
   "execution_count": 50,
   "id": "2b65fca3",
   "metadata": {
    "execution": {
     "iopub.execute_input": "2024-03-14T18:10:46.909501Z",
     "iopub.status.busy": "2024-03-14T18:10:46.908581Z",
     "iopub.status.idle": "2024-03-14T18:10:49.444877Z",
     "shell.execute_reply": "2024-03-14T18:10:49.443388Z"
    },
    "papermill": {
     "duration": 2.567175,
     "end_time": "2024-03-14T18:10:49.448054",
     "exception": false,
     "start_time": "2024-03-14T18:10:46.880879",
     "status": "completed"
    },
    "tags": []
   },
   "outputs": [
    {
     "data": {
      "text/html": [
       "<style>#sk-container-id-1 {color: black;background-color: white;}#sk-container-id-1 pre{padding: 0;}#sk-container-id-1 div.sk-toggleable {background-color: white;}#sk-container-id-1 label.sk-toggleable__label {cursor: pointer;display: block;width: 100%;margin-bottom: 0;padding: 0.3em;box-sizing: border-box;text-align: center;}#sk-container-id-1 label.sk-toggleable__label-arrow:before {content: \"▸\";float: left;margin-right: 0.25em;color: #696969;}#sk-container-id-1 label.sk-toggleable__label-arrow:hover:before {color: black;}#sk-container-id-1 div.sk-estimator:hover label.sk-toggleable__label-arrow:before {color: black;}#sk-container-id-1 div.sk-toggleable__content {max-height: 0;max-width: 0;overflow: hidden;text-align: left;background-color: #f0f8ff;}#sk-container-id-1 div.sk-toggleable__content pre {margin: 0.2em;color: black;border-radius: 0.25em;background-color: #f0f8ff;}#sk-container-id-1 input.sk-toggleable__control:checked~div.sk-toggleable__content {max-height: 200px;max-width: 100%;overflow: auto;}#sk-container-id-1 input.sk-toggleable__control:checked~label.sk-toggleable__label-arrow:before {content: \"▾\";}#sk-container-id-1 div.sk-estimator input.sk-toggleable__control:checked~label.sk-toggleable__label {background-color: #d4ebff;}#sk-container-id-1 div.sk-label input.sk-toggleable__control:checked~label.sk-toggleable__label {background-color: #d4ebff;}#sk-container-id-1 input.sk-hidden--visually {border: 0;clip: rect(1px 1px 1px 1px);clip: rect(1px, 1px, 1px, 1px);height: 1px;margin: -1px;overflow: hidden;padding: 0;position: absolute;width: 1px;}#sk-container-id-1 div.sk-estimator {font-family: monospace;background-color: #f0f8ff;border: 1px dotted black;border-radius: 0.25em;box-sizing: border-box;margin-bottom: 0.5em;}#sk-container-id-1 div.sk-estimator:hover {background-color: #d4ebff;}#sk-container-id-1 div.sk-parallel-item::after {content: \"\";width: 100%;border-bottom: 1px solid gray;flex-grow: 1;}#sk-container-id-1 div.sk-label:hover label.sk-toggleable__label {background-color: #d4ebff;}#sk-container-id-1 div.sk-serial::before {content: \"\";position: absolute;border-left: 1px solid gray;box-sizing: border-box;top: 0;bottom: 0;left: 50%;z-index: 0;}#sk-container-id-1 div.sk-serial {display: flex;flex-direction: column;align-items: center;background-color: white;padding-right: 0.2em;padding-left: 0.2em;position: relative;}#sk-container-id-1 div.sk-item {position: relative;z-index: 1;}#sk-container-id-1 div.sk-parallel {display: flex;align-items: stretch;justify-content: center;background-color: white;position: relative;}#sk-container-id-1 div.sk-item::before, #sk-container-id-1 div.sk-parallel-item::before {content: \"\";position: absolute;border-left: 1px solid gray;box-sizing: border-box;top: 0;bottom: 0;left: 50%;z-index: -1;}#sk-container-id-1 div.sk-parallel-item {display: flex;flex-direction: column;z-index: 1;position: relative;background-color: white;}#sk-container-id-1 div.sk-parallel-item:first-child::after {align-self: flex-end;width: 50%;}#sk-container-id-1 div.sk-parallel-item:last-child::after {align-self: flex-start;width: 50%;}#sk-container-id-1 div.sk-parallel-item:only-child::after {width: 0;}#sk-container-id-1 div.sk-dashed-wrapped {border: 1px dashed gray;margin: 0 0.4em 0.5em 0.4em;box-sizing: border-box;padding-bottom: 0.4em;background-color: white;}#sk-container-id-1 div.sk-label label {font-family: monospace;font-weight: bold;display: inline-block;line-height: 1.2em;}#sk-container-id-1 div.sk-label-container {text-align: center;}#sk-container-id-1 div.sk-container {/* jupyter's `normalize.less` sets `[hidden] { display: none; }` but bootstrap.min.css set `[hidden] { display: none !important; }` so we also need the `!important` here to be able to override the default hidden behavior on the sphinx rendered scikit-learn.org. See: https://github.com/scikit-learn/scikit-learn/issues/21755 */display: inline-block !important;position: relative;}#sk-container-id-1 div.sk-text-repr-fallback {display: none;}</style><div id=\"sk-container-id-1\" class=\"sk-top-container\"><div class=\"sk-text-repr-fallback\"><pre>DecisionTreeClassifier(max_depth=10, min_samples_split=10, random_state=42)</pre><b>In a Jupyter environment, please rerun this cell to show the HTML representation or trust the notebook. <br />On GitHub, the HTML representation is unable to render, please try loading this page with nbviewer.org.</b></div><div class=\"sk-container\" hidden><div class=\"sk-item\"><div class=\"sk-estimator sk-toggleable\"><input class=\"sk-toggleable__control sk-hidden--visually\" id=\"sk-estimator-id-1\" type=\"checkbox\" checked><label for=\"sk-estimator-id-1\" class=\"sk-toggleable__label sk-toggleable__label-arrow\">DecisionTreeClassifier</label><div class=\"sk-toggleable__content\"><pre>DecisionTreeClassifier(max_depth=10, min_samples_split=10, random_state=42)</pre></div></div></div></div></div>"
      ],
      "text/plain": [
       "DecisionTreeClassifier(max_depth=10, min_samples_split=10, random_state=42)"
      ]
     },
     "execution_count": 50,
     "metadata": {},
     "output_type": "execute_result"
    }
   ],
   "source": [
    "tree_para = {'max_depth' : [1, 2,5, 10,15, 20, 50], 'min_samples_split' : [2, 10, 20, 30, 40, 50, 100]}\n",
    "score = {'accuracy', 'f1', 'recall'}\n",
    "tuned_dt = DecisionTreeClassifier(random_state = 42)\n",
    "clf = GridSearchCV(tuned_dt, tree_para, scoring = score, cv = 5, refit = 'accuracy')\n",
    "clf.fit(x_train, y_train)\n",
    "clf.best_estimator_"
   ]
  },
  {
   "cell_type": "code",
   "execution_count": 51,
   "id": "44d37d9b",
   "metadata": {
    "execution": {
     "iopub.execute_input": "2024-03-14T18:10:49.502704Z",
     "iopub.status.busy": "2024-03-14T18:10:49.501986Z",
     "iopub.status.idle": "2024-03-14T18:10:49.513165Z",
     "shell.execute_reply": "2024-03-14T18:10:49.512231Z"
    },
    "papermill": {
     "duration": 0.041393,
     "end_time": "2024-03-14T18:10:49.515743",
     "exception": false,
     "start_time": "2024-03-14T18:10:49.474350",
     "status": "completed"
    },
    "tags": []
   },
   "outputs": [],
   "source": [
    "dt = DecisionTreeClassifier(max_depth=10, min_samples_split=50, random_state=42)\n",
    "dt.fit(x_train, y_train)\n",
    "y_pred_2 = dt.predict(x_val)"
   ]
  },
  {
   "cell_type": "code",
   "execution_count": 52,
   "id": "9bbddde9",
   "metadata": {
    "execution": {
     "iopub.execute_input": "2024-03-14T18:10:49.569903Z",
     "iopub.status.busy": "2024-03-14T18:10:49.569201Z",
     "iopub.status.idle": "2024-03-14T18:10:49.582768Z",
     "shell.execute_reply": "2024-03-14T18:10:49.581440Z"
    },
    "papermill": {
     "duration": 0.043579,
     "end_time": "2024-03-14T18:10:49.585219",
     "exception": false,
     "start_time": "2024-03-14T18:10:49.541640",
     "status": "completed"
    },
    "tags": []
   },
   "outputs": [
    {
     "name": "stdout",
     "output_type": "stream",
     "text": [
      "              precision    recall  f1-score   support\n",
      "\n",
      "           0       0.78      0.85      0.82       110\n",
      "           1       0.73      0.62      0.67        69\n",
      "\n",
      "    accuracy                           0.77       179\n",
      "   macro avg       0.76      0.74      0.74       179\n",
      "weighted avg       0.76      0.77      0.76       179\n",
      "\n"
     ]
    }
   ],
   "source": [
    "print(classification_report(y_val, y_pred_2))"
   ]
  },
  {
   "cell_type": "markdown",
   "id": "ce2e7ebb",
   "metadata": {
    "papermill": {
     "duration": 0.026068,
     "end_time": "2024-03-14T18:10:49.637323",
     "exception": false,
     "start_time": "2024-03-14T18:10:49.611255",
     "status": "completed"
    },
    "tags": []
   },
   "source": [
    "### 3. Random Forest Classifier:"
   ]
  },
  {
   "cell_type": "code",
   "execution_count": 53,
   "id": "93c52e7b",
   "metadata": {
    "execution": {
     "iopub.execute_input": "2024-03-14T18:10:49.691406Z",
     "iopub.status.busy": "2024-03-14T18:10:49.690680Z",
     "iopub.status.idle": "2024-03-14T18:10:49.923128Z",
     "shell.execute_reply": "2024-03-14T18:10:49.922099Z"
    },
    "papermill": {
     "duration": 0.263311,
     "end_time": "2024-03-14T18:10:49.926616",
     "exception": false,
     "start_time": "2024-03-14T18:10:49.663305",
     "status": "completed"
    },
    "tags": []
   },
   "outputs": [],
   "source": [
    "rf = RandomForestClassifier()\n",
    "rf.fit(x_train, y_train)\n",
    "y_pred_3 = rf.predict(x_val)"
   ]
  },
  {
   "cell_type": "code",
   "execution_count": 54,
   "id": "a97b2cad",
   "metadata": {
    "execution": {
     "iopub.execute_input": "2024-03-14T18:10:49.981159Z",
     "iopub.status.busy": "2024-03-14T18:10:49.980690Z",
     "iopub.status.idle": "2024-03-14T18:10:49.995747Z",
     "shell.execute_reply": "2024-03-14T18:10:49.994359Z"
    },
    "papermill": {
     "duration": 0.045033,
     "end_time": "2024-03-14T18:10:49.998287",
     "exception": false,
     "start_time": "2024-03-14T18:10:49.953254",
     "status": "completed"
    },
    "tags": []
   },
   "outputs": [
    {
     "name": "stdout",
     "output_type": "stream",
     "text": [
      "              precision    recall  f1-score   support\n",
      "\n",
      "           0       0.82      0.88      0.85       110\n",
      "           1       0.79      0.70      0.74        69\n",
      "\n",
      "    accuracy                           0.81       179\n",
      "   macro avg       0.80      0.79      0.79       179\n",
      "weighted avg       0.81      0.81      0.81       179\n",
      "\n"
     ]
    }
   ],
   "source": [
    "print(classification_report(y_val, y_pred_3))"
   ]
  },
  {
   "cell_type": "markdown",
   "id": "1fdea466",
   "metadata": {
    "papermill": {
     "duration": 0.025916,
     "end_time": "2024-03-14T18:10:50.050844",
     "exception": false,
     "start_time": "2024-03-14T18:10:50.024928",
     "status": "completed"
    },
    "tags": []
   },
   "source": [
    "### 4. Knn:"
   ]
  },
  {
   "cell_type": "code",
   "execution_count": 55,
   "id": "1b75c8e1",
   "metadata": {
    "execution": {
     "iopub.execute_input": "2024-03-14T18:10:50.108695Z",
     "iopub.status.busy": "2024-03-14T18:10:50.107626Z",
     "iopub.status.idle": "2024-03-14T18:10:51.533966Z",
     "shell.execute_reply": "2024-03-14T18:10:51.532766Z"
    },
    "papermill": {
     "duration": 1.459302,
     "end_time": "2024-03-14T18:10:51.537226",
     "exception": false,
     "start_time": "2024-03-14T18:10:50.077924",
     "status": "completed"
    },
    "tags": []
   },
   "outputs": [],
   "source": [
    "# create empty dic to store our train and test accuracies\n",
    "train_accuracies = {}\n",
    "test_accuracies = {}\n",
    "neighbors = np.arange(1, 26) # array contain ranges of k values\n",
    "for neighbor in neighbors: # we use for loop to repete our previous workflow,building several models using a different number of neighbors.\n",
    "   knn = KNeighborsClassifier(n_neighbors = neighbor)\n",
    "   knn.fit(x_train, y_train)\n",
    "   train_accuracies[neighbor] = knn.score(x_train, y_train)\n",
    "   test_accuracies[neighbor] = knn.score(x_val, y_val)"
   ]
  },
  {
   "cell_type": "code",
   "execution_count": 56,
   "id": "e346465c",
   "metadata": {
    "execution": {
     "iopub.execute_input": "2024-03-14T18:10:51.591704Z",
     "iopub.status.busy": "2024-03-14T18:10:51.591236Z",
     "iopub.status.idle": "2024-03-14T18:10:51.888192Z",
     "shell.execute_reply": "2024-03-14T18:10:51.887070Z"
    },
    "papermill": {
     "duration": 0.326898,
     "end_time": "2024-03-14T18:10:51.890474",
     "exception": false,
     "start_time": "2024-03-14T18:10:51.563576",
     "status": "completed"
    },
    "tags": []
   },
   "outputs": [
    {
     "data": {
      "image/png": "[encoded data removed]",
      "text/plain": [
       "<Figure size 800x600 with 1 Axes>"
      ]
     },
     "metadata": {},
     "output_type": "display_data"
    }
   ],
   "source": [
    "plt.figure(figsize=(8, 6))\n",
    "plt.title(\"KNN: Varying Number of Neighbors\")\n",
    "plt.plot(neighbors, train_accuracies.values(), label=\"Training Accuracy\")\n",
    "plt.plot(neighbors, test_accuracies.values(), label=\"Testing Accuracy\")\n",
    "plt.legend()\n",
    "plt.xlabel(\"Number of Neighbors\")\n",
    "plt.ylabel(\"Accuracy\")\n",
    "plt.show()"
   ]
  },
  {
   "cell_type": "code",
   "execution_count": 57,
   "id": "c45d0b85",
   "metadata": {
    "execution": {
     "iopub.execute_input": "2024-03-14T18:10:51.947405Z",
     "iopub.status.busy": "2024-03-14T18:10:51.946911Z",
     "iopub.status.idle": "2024-03-14T18:10:51.969576Z",
     "shell.execute_reply": "2024-03-14T18:10:51.968356Z"
    },
    "papermill": {
     "duration": 0.054172,
     "end_time": "2024-03-14T18:10:51.972552",
     "exception": false,
     "start_time": "2024-03-14T18:10:51.918380",
     "status": "completed"
    },
    "tags": []
   },
   "outputs": [],
   "source": [
    "knn = KNeighborsClassifier(n_neighbors  = 10)\n",
    "knn.fit(x_train, y_train)\n",
    "y_pred_4 = knn.predict(x_val)"
   ]
  },
  {
   "cell_type": "code",
   "execution_count": 58,
   "id": "10f4b30c",
   "metadata": {
    "execution": {
     "iopub.execute_input": "2024-03-14T18:10:52.030122Z",
     "iopub.status.busy": "2024-03-14T18:10:52.029634Z",
     "iopub.status.idle": "2024-03-14T18:10:52.044455Z",
     "shell.execute_reply": "2024-03-14T18:10:52.043301Z"
    },
    "papermill": {
     "duration": 0.046218,
     "end_time": "2024-03-14T18:10:52.046997",
     "exception": false,
     "start_time": "2024-03-14T18:10:52.000779",
     "status": "completed"
    },
    "tags": []
   },
   "outputs": [
    {
     "name": "stdout",
     "output_type": "stream",
     "text": [
      "              precision    recall  f1-score   support\n",
      "\n",
      "           0       0.72      0.85      0.78       110\n",
      "           1       0.65      0.46      0.54        69\n",
      "\n",
      "    accuracy                           0.70       179\n",
      "   macro avg       0.68      0.65      0.66       179\n",
      "weighted avg       0.69      0.70      0.69       179\n",
      "\n"
     ]
    }
   ],
   "source": [
    "print(classification_report(y_val, y_pred_4))"
   ]
  },
  {
   "cell_type": "markdown",
   "id": "9c4f2cca",
   "metadata": {
    "papermill": {
     "duration": 0.026776,
     "end_time": "2024-03-14T18:10:52.101027",
     "exception": false,
     "start_time": "2024-03-14T18:10:52.074251",
     "status": "completed"
    },
    "tags": []
   },
   "source": [
    "### 5. SVC:"
   ]
  },
  {
   "cell_type": "code",
   "execution_count": 59,
   "id": "34851554",
   "metadata": {
    "execution": {
     "iopub.execute_input": "2024-03-14T18:10:52.156999Z",
     "iopub.status.busy": "2024-03-14T18:10:52.156578Z",
     "iopub.status.idle": "2024-03-14T18:11:00.974038Z",
     "shell.execute_reply": "2024-03-14T18:11:00.972681Z"
    },
    "papermill": {
     "duration": 8.849166,
     "end_time": "2024-03-14T18:11:00.977232",
     "exception": false,
     "start_time": "2024-03-14T18:10:52.128066",
     "status": "completed"
    },
    "tags": []
   },
   "outputs": [],
   "source": [
    "svc = SVC(kernel='linear')\n",
    "svc.fit(x_train, y_train)\n",
    "y_pred_5 = svc.predict(x_val)"
   ]
  },
  {
   "cell_type": "code",
   "execution_count": 60,
   "id": "65f42280",
   "metadata": {
    "execution": {
     "iopub.execute_input": "2024-03-14T18:11:01.035881Z",
     "iopub.status.busy": "2024-03-14T18:11:01.034968Z",
     "iopub.status.idle": "2024-03-14T18:11:01.051070Z",
     "shell.execute_reply": "2024-03-14T18:11:01.050060Z"
    },
    "papermill": {
     "duration": 0.047955,
     "end_time": "2024-03-14T18:11:01.053243",
     "exception": false,
     "start_time": "2024-03-14T18:11:01.005288",
     "status": "completed"
    },
    "tags": []
   },
   "outputs": [
    {
     "name": "stdout",
     "output_type": "stream",
     "text": [
      "              precision    recall  f1-score   support\n",
      "\n",
      "           0       0.80      0.85      0.82       110\n",
      "           1       0.74      0.65      0.69        69\n",
      "\n",
      "    accuracy                           0.78       179\n",
      "   macro avg       0.77      0.75      0.76       179\n",
      "weighted avg       0.77      0.78      0.77       179\n",
      "\n"
     ]
    }
   ],
   "source": [
    "print(classification_report(y_val, y_pred_5))"
   ]
  },
  {
   "cell_type": "markdown",
   "id": "9b4a7b19",
   "metadata": {
    "papermill": {
     "duration": 0.026889,
     "end_time": "2024-03-14T18:11:01.108320",
     "exception": false,
     "start_time": "2024-03-14T18:11:01.081431",
     "status": "completed"
    },
    "tags": []
   },
   "source": [
    "**Let's compare the accuracies and f1_ score of each model!**"
   ]
  },
  {
   "cell_type": "markdown",
   "id": "46e374f3",
   "metadata": {
    "papermill": {
     "duration": 0.026939,
     "end_time": "2024-03-14T18:11:01.162528",
     "exception": false,
     "start_time": "2024-03-14T18:11:01.135589",
     "status": "completed"
    },
    "tags": []
   },
   "source": [
    "* Accuracies:"
   ]
  },
  {
   "cell_type": "code",
   "execution_count": 61,
   "id": "b7164458",
   "metadata": {
    "execution": {
     "iopub.execute_input": "2024-03-14T18:11:01.219873Z",
     "iopub.status.busy": "2024-03-14T18:11:01.219055Z",
     "iopub.status.idle": "2024-03-14T18:11:01.229236Z",
     "shell.execute_reply": "2024-03-14T18:11:01.227984Z"
    },
    "papermill": {
     "duration": 0.042557,
     "end_time": "2024-03-14T18:11:01.232024",
     "exception": false,
     "start_time": "2024-03-14T18:11:01.189467",
     "status": "completed"
    },
    "tags": []
   },
   "outputs": [],
   "source": [
    "acc_logreg = round(accuracy_score(y_pred, y_val), 4)\n",
    "acc_dt = round(accuracy_score(y_pred_2, y_val), 4)\n",
    "acc_rf = round(accuracy_score(y_pred_3, y_val), 4)\n",
    "acc_knn = round(accuracy_score(y_pred_4, y_val), 4)\n",
    "acc_svc = round(accuracy_score(y_pred_5, y_val), 4)"
   ]
  },
  {
   "cell_type": "markdown",
   "id": "511d889b",
   "metadata": {
    "papermill": {
     "duration": 0.027162,
     "end_time": "2024-03-14T18:11:01.286419",
     "exception": false,
     "start_time": "2024-03-14T18:11:01.259257",
     "status": "completed"
    },
    "tags": []
   },
   "source": [
    "* F1_Score:"
   ]
  },
  {
   "cell_type": "code",
   "execution_count": 62,
   "id": "8a999f3b",
   "metadata": {
    "execution": {
     "iopub.execute_input": "2024-03-14T18:11:01.343809Z",
     "iopub.status.busy": "2024-03-14T18:11:01.343371Z",
     "iopub.status.idle": "2024-03-14T18:11:01.361113Z",
     "shell.execute_reply": "2024-03-14T18:11:01.360082Z"
    },
    "papermill": {
     "duration": 0.05021,
     "end_time": "2024-03-14T18:11:01.364438",
     "exception": false,
     "start_time": "2024-03-14T18:11:01.314228",
     "status": "completed"
    },
    "tags": []
   },
   "outputs": [],
   "source": [
    "f1_logreg = round(f1_score(y_pred, y_val), 4)\n",
    "f1_dt = round(f1_score(y_pred_2, y_val), 4)\n",
    "f1_rf = round(f1_score(y_pred_3, y_val), 4)\n",
    "f1_knn = round(f1_score(y_pred_4, y_val), 4)\n",
    "f1_svc = round(f1_score(y_pred_5, y_val), 4)"
   ]
  },
  {
   "cell_type": "code",
   "execution_count": 63,
   "id": "727666f4",
   "metadata": {
    "execution": {
     "iopub.execute_input": "2024-03-14T18:11:01.421459Z",
     "iopub.status.busy": "2024-03-14T18:11:01.420981Z",
     "iopub.status.idle": "2024-03-14T18:11:01.434077Z",
     "shell.execute_reply": "2024-03-14T18:11:01.433297Z"
    },
    "papermill": {
     "duration": 0.04394,
     "end_time": "2024-03-14T18:11:01.435970",
     "exception": false,
     "start_time": "2024-03-14T18:11:01.392030",
     "status": "completed"
    },
    "tags": []
   },
   "outputs": [
    {
     "data": {
      "text/html": [
       "<div>\n",
       "<style scoped>\n",
       "    .dataframe tbody tr th:only-of-type {\n",
       "        vertical-align: middle;\n",
       "    }\n",
       "\n",
       "    .dataframe tbody tr th {\n",
       "        vertical-align: top;\n",
       "    }\n",
       "\n",
       "    .dataframe thead th {\n",
       "        text-align: right;\n",
       "    }\n",
       "</style>\n",
       "<table border=\"1\" class=\"dataframe\">\n",
       "  <thead>\n",
       "    <tr style=\"text-align: right;\">\n",
       "      <th></th>\n",
       "      <th>Model</th>\n",
       "      <th>Score</th>\n",
       "      <th>f1_score</th>\n",
       "    </tr>\n",
       "  </thead>\n",
       "  <tbody>\n",
       "    <tr>\n",
       "      <th>3</th>\n",
       "      <td>Random Forest</td>\n",
       "      <td>0.8101</td>\n",
       "      <td>0.7385</td>\n",
       "    </tr>\n",
       "    <tr>\n",
       "      <th>2</th>\n",
       "      <td>Logistic Regression</td>\n",
       "      <td>0.7989</td>\n",
       "      <td>0.7188</td>\n",
       "    </tr>\n",
       "    <tr>\n",
       "      <th>0</th>\n",
       "      <td>Support Vector Machines</td>\n",
       "      <td>0.7765</td>\n",
       "      <td>0.6923</td>\n",
       "    </tr>\n",
       "    <tr>\n",
       "      <th>4</th>\n",
       "      <td>Decision Tree</td>\n",
       "      <td>0.7654</td>\n",
       "      <td>0.6719</td>\n",
       "    </tr>\n",
       "    <tr>\n",
       "      <th>1</th>\n",
       "      <td>KNN</td>\n",
       "      <td>0.6983</td>\n",
       "      <td>0.5424</td>\n",
       "    </tr>\n",
       "  </tbody>\n",
       "</table>\n",
       "</div>"
      ],
      "text/plain": [
       "                     Model   Score  f1_score\n",
       "3            Random Forest  0.8101    0.7385\n",
       "2      Logistic Regression  0.7989    0.7188\n",
       "0  Support Vector Machines  0.7765    0.6923\n",
       "4            Decision Tree  0.7654    0.6719\n",
       "1                      KNN  0.6983    0.5424"
      ]
     },
     "execution_count": 63,
     "metadata": {},
     "output_type": "execute_result"
    }
   ],
   "source": [
    "models = pd.DataFrame({\n",
    "    'Model': ['Support Vector Machines', 'KNN', 'Logistic Regression',\n",
    "              'Random Forest', 'Decision Tree'],\n",
    "    'Score': [acc_svc, acc_knn, acc_logreg,\n",
    "              acc_rf, acc_dt],\n",
    "    'f1_score' : [f1_svc, f1_knn, f1_logreg, f1_rf, f1_dt]})\n",
    "models.sort_values(by='Score', ascending=False)"
   ]
  },
  {
   "cell_type": "markdown",
   "id": "5d85fa2d",
   "metadata": {
    "papermill": {
     "duration": 0.027091,
     "end_time": "2024-03-14T18:11:01.490409",
     "exception": false,
     "start_time": "2024-03-14T18:11:01.463318",
     "status": "completed"
    },
    "tags": []
   },
   "source": [
    "**I decided to use the Random Forest Clasifier model for the testing data.**"
   ]
  },
  {
   "cell_type": "markdown",
   "id": "66307272",
   "metadata": {
    "papermill": {
     "duration": 0.027176,
     "end_time": "2024-03-14T18:11:01.546622",
     "exception": false,
     "start_time": "2024-03-14T18:11:01.519446",
     "status": "completed"
    },
    "tags": []
   },
   "source": [
    "# Creating Submission File:\n",
    "\n",
    "It's time to create a submission.csv file to upload to the Kaggle competition!\n",
    "\n"
   ]
  },
  {
   "cell_type": "code",
   "execution_count": 64,
   "id": "873a79ed",
   "metadata": {
    "execution": {
     "iopub.execute_input": "2024-03-14T18:11:01.603506Z",
     "iopub.status.busy": "2024-03-14T18:11:01.603029Z",
     "iopub.status.idle": "2024-03-14T18:11:01.629370Z",
     "shell.execute_reply": "2024-03-14T18:11:01.628167Z"
    },
    "papermill": {
     "duration": 0.058178,
     "end_time": "2024-03-14T18:11:01.632135",
     "exception": false,
     "start_time": "2024-03-14T18:11:01.573957",
     "status": "completed"
    },
    "tags": []
   },
   "outputs": [],
   "source": [
    "#set ids as PassengerId and predict survival \n",
    "ids = test['PassengerId']\n",
    "predictions = rf.predict(test.drop('PassengerId', axis=1))\n",
    "\n",
    "#set the output as a dataframe and convert to csv file named submission.csv\n",
    "output = pd.DataFrame({ 'PassengerId' : ids, 'Survived': predictions })\n",
    "output.to_csv('submission_1.csv', index=False)"
   ]
  }
 ],
 "metadata": {
  "kaggle": {
   "accelerator": "none",
   "dataSources": [
    {
     "databundleVersionId": 26502,
     "sourceId": 3136,
     "sourceType": "competition"
    }
   ],
   "dockerImageVersionId": 30664,
   "isGpuEnabled": false,
   "isInternetEnabled": true,
   "language": "python",
   "sourceType": "notebook"
  },
  "kernelspec": {
   "display_name": "Python 3",
   "language": "python",
   "name": "python3"
  },
  "language_info": {
   "codemirror_mode": {
    "name": "ipython",
    "version": 3
   },
   "file_extension": ".py",
   "mimetype": "text/x-python",
   "name": "python",
   "nbconvert_exporter": "python",
   "pygments_lexer": "ipython3",
   "version": "3.10.13"
  },
  "papermill": {
   "default_parameters": {},
   "duration": 29.372248,
   "end_time": "2024-03-14T18:11:02.583321",
   "environment_variables": {},
   "exception": null,
   "input_path": "__notebook__.ipynb",
   "output_path": "__notebook__.ipynb",
   "parameters": {},
   "start_time": "2024-03-14T18:10:33.211073",
   "version": "2.5.0"
  }
 },
 "nbformat": 4,
 "nbformat_minor": 5
}
