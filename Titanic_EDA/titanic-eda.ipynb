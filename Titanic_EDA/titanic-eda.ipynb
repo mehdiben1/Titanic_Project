{
 "cells": [
  {
   "cell_type": "code",
   "execution_count": 1,
   "id": "fa11a8a6",
   "metadata": {
    "_cell_guid": "b1076dfc-b9ad-4769-8c92-a6c4dae69d19",
    "_uuid": "8f2839f25d086af736a60e9eeb907d3b93b6e0e5",
    "execution": {
     "iopub.execute_input": "2024-02-29T21:14:57.513458Z",
     "iopub.status.busy": "2024-02-29T21:14:57.513090Z",
     "iopub.status.idle": "2024-02-29T21:15:00.047199Z",
     "shell.execute_reply": "2024-02-29T21:15:00.045804Z"
    },
    "papermill": {
     "duration": 2.546376,
     "end_time": "2024-02-29T21:15:00.049671",
     "exception": false,
     "start_time": "2024-02-29T21:14:57.503295",
     "status": "completed"
    },
    "tags": []
   },
   "outputs": [
    {
     "name": "stdout",
     "output_type": "stream",
     "text": [
      "/kaggle/input/titanic/train.csv\n",
      "/kaggle/input/titanic/test.csv\n",
      "/kaggle/input/titanic/gender_submission.csv\n"
     ]
    }
   ],
   "source": [
    "# This Python 3 environment comes with many helpful analytics libraries installed\n",
    "# It is defined by the kaggle/python Docker image: https://github.com/kaggle/docker-python\n",
    "# For example, here's several helpful packages to load\n",
    "\n",
    "import numpy as np # linear algebra\n",
    "import pandas as pd # data processing, CSV file I/O (e.g. pd.read_csv)\n",
    "import matplotlib.pyplot as plt\n",
    "import seaborn as sns\n",
    "\n",
    "# Input data files are available in the read-only \"../input/\" directory\n",
    "# For example, running this (by clicking run or pressing Shift+Enter) will list all files under the input directory\n",
    "\n",
    "import os\n",
    "for dirname, _, filenames in os.walk('/kaggle/input'):\n",
    "    for filename in filenames:\n",
    "        print(os.path.join(dirname, filename))\n",
    "\n",
    "# You can write up to 20GB to the current directory (/kaggle/working/) that gets preserved as output when you create a version using \"Save & Run All\" \n",
    "# You can also write temporary files to /kaggle/temp/, but they won't be saved outside of the current session"
   ]
  },
  {
   "cell_type": "markdown",
   "id": "c0c43b9b",
   "metadata": {
    "papermill": {
     "duration": 0.008149,
     "end_time": "2024-02-29T21:15:00.066028",
     "exception": false,
     "start_time": "2024-02-29T21:15:00.057879",
     "status": "completed"
    },
    "tags": []
   },
   "source": [
    "# Lead and Check the dataset:"
   ]
  },
  {
   "cell_type": "code",
   "execution_count": 2,
   "id": "8a85494d",
   "metadata": {
    "execution": {
     "iopub.execute_input": "2024-02-29T21:15:00.083566Z",
     "iopub.status.busy": "2024-02-29T21:15:00.083086Z",
     "iopub.status.idle": "2024-02-29T21:15:00.123665Z",
     "shell.execute_reply": "2024-02-29T21:15:00.122732Z"
    },
    "papermill": {
     "duration": 0.051659,
     "end_time": "2024-02-29T21:15:00.125756",
     "exception": false,
     "start_time": "2024-02-29T21:15:00.074097",
     "status": "completed"
    },
    "tags": []
   },
   "outputs": [
    {
     "data": {
      "text/html": [
       "<div>\n",
       "<style scoped>\n",
       "    .dataframe tbody tr th:only-of-type {\n",
       "        vertical-align: middle;\n",
       "    }\n",
       "\n",
       "    .dataframe tbody tr th {\n",
       "        vertical-align: top;\n",
       "    }\n",
       "\n",
       "    .dataframe thead th {\n",
       "        text-align: right;\n",
       "    }\n",
       "</style>\n",
       "<table border=\"1\" class=\"dataframe\">\n",
       "  <thead>\n",
       "    <tr style=\"text-align: right;\">\n",
       "      <th></th>\n",
       "      <th>PassengerId</th>\n",
       "      <th>Survived</th>\n",
       "      <th>Pclass</th>\n",
       "      <th>Name</th>\n",
       "      <th>Sex</th>\n",
       "      <th>Age</th>\n",
       "      <th>SibSp</th>\n",
       "      <th>Parch</th>\n",
       "      <th>Ticket</th>\n",
       "      <th>Fare</th>\n",
       "      <th>Cabin</th>\n",
       "      <th>Embarked</th>\n",
       "    </tr>\n",
       "  </thead>\n",
       "  <tbody>\n",
       "    <tr>\n",
       "      <th>0</th>\n",
       "      <td>1</td>\n",
       "      <td>0</td>\n",
       "      <td>3</td>\n",
       "      <td>Braund, Mr. Owen Harris</td>\n",
       "      <td>male</td>\n",
       "      <td>22.0</td>\n",
       "      <td>1</td>\n",
       "      <td>0</td>\n",
       "      <td>A/5 21171</td>\n",
       "      <td>7.2500</td>\n",
       "      <td>NaN</td>\n",
       "      <td>S</td>\n",
       "    </tr>\n",
       "    <tr>\n",
       "      <th>1</th>\n",
       "      <td>2</td>\n",
       "      <td>1</td>\n",
       "      <td>1</td>\n",
       "      <td>Cumings, Mrs. John Bradley (Florence Briggs Th...</td>\n",
       "      <td>female</td>\n",
       "      <td>38.0</td>\n",
       "      <td>1</td>\n",
       "      <td>0</td>\n",
       "      <td>PC 17599</td>\n",
       "      <td>71.2833</td>\n",
       "      <td>C85</td>\n",
       "      <td>C</td>\n",
       "    </tr>\n",
       "    <tr>\n",
       "      <th>2</th>\n",
       "      <td>3</td>\n",
       "      <td>1</td>\n",
       "      <td>3</td>\n",
       "      <td>Heikkinen, Miss. Laina</td>\n",
       "      <td>female</td>\n",
       "      <td>26.0</td>\n",
       "      <td>0</td>\n",
       "      <td>0</td>\n",
       "      <td>STON/O2. 3101282</td>\n",
       "      <td>7.9250</td>\n",
       "      <td>NaN</td>\n",
       "      <td>S</td>\n",
       "    </tr>\n",
       "    <tr>\n",
       "      <th>3</th>\n",
       "      <td>4</td>\n",
       "      <td>1</td>\n",
       "      <td>1</td>\n",
       "      <td>Futrelle, Mrs. Jacques Heath (Lily May Peel)</td>\n",
       "      <td>female</td>\n",
       "      <td>35.0</td>\n",
       "      <td>1</td>\n",
       "      <td>0</td>\n",
       "      <td>113803</td>\n",
       "      <td>53.1000</td>\n",
       "      <td>C123</td>\n",
       "      <td>S</td>\n",
       "    </tr>\n",
       "    <tr>\n",
       "      <th>4</th>\n",
       "      <td>5</td>\n",
       "      <td>0</td>\n",
       "      <td>3</td>\n",
       "      <td>Allen, Mr. William Henry</td>\n",
       "      <td>male</td>\n",
       "      <td>35.0</td>\n",
       "      <td>0</td>\n",
       "      <td>0</td>\n",
       "      <td>373450</td>\n",
       "      <td>8.0500</td>\n",
       "      <td>NaN</td>\n",
       "      <td>S</td>\n",
       "    </tr>\n",
       "  </tbody>\n",
       "</table>\n",
       "</div>"
      ],
      "text/plain": [
       "   PassengerId  Survived  Pclass  \\\n",
       "0            1         0       3   \n",
       "1            2         1       1   \n",
       "2            3         1       3   \n",
       "3            4         1       1   \n",
       "4            5         0       3   \n",
       "\n",
       "                                                Name     Sex   Age  SibSp  \\\n",
       "0                            Braund, Mr. Owen Harris    male  22.0      1   \n",
       "1  Cumings, Mrs. John Bradley (Florence Briggs Th...  female  38.0      1   \n",
       "2                             Heikkinen, Miss. Laina  female  26.0      0   \n",
       "3       Futrelle, Mrs. Jacques Heath (Lily May Peel)  female  35.0      1   \n",
       "4                           Allen, Mr. William Henry    male  35.0      0   \n",
       "\n",
       "   Parch            Ticket     Fare Cabin Embarked  \n",
       "0      0         A/5 21171   7.2500   NaN        S  \n",
       "1      0          PC 17599  71.2833   C85        C  \n",
       "2      0  STON/O2. 3101282   7.9250   NaN        S  \n",
       "3      0            113803  53.1000  C123        S  \n",
       "4      0            373450   8.0500   NaN        S  "
      ]
     },
     "execution_count": 2,
     "metadata": {},
     "output_type": "execute_result"
    }
   ],
   "source": [
    "df = pd.read_csv(\"/kaggle/input/titanic/train.csv\")\n",
    "df.head()"
   ]
  },
  {
   "cell_type": "markdown",
   "id": "19edc2ff",
   "metadata": {
    "papermill": {
     "duration": 0.007908,
     "end_time": "2024-02-29T21:15:00.142074",
     "exception": false,
     "start_time": "2024-02-29T21:15:00.134166",
     "status": "completed"
    },
    "tags": []
   },
   "source": [
    "## Variable Description:\n",
    "\n",
    "\n",
    "1.   PassengerId: unique id number to each passenger\n",
    "2.   Survived: passenger survive(1) or died(0)\n",
    "3.   Pclass: passenger class (1 = 1st, 2 = 2nd, 3 = 3rd)\n",
    "4.   Name: name\n",
    "5.   Sex: gender of passenger\n",
    "6.   Age: age of passenger\n",
    "7.   SibSp: number of siblings / spouses aboard the Titanic\n",
    "8.   Parch: number of parents / children aboard the Titanic\n",
    "9.   Ticket: ticket number\n",
    "10.  Fare: Passenger fare \"amount of money spent on ticket\"\n",
    "11.  Cabin:Cabin number\n",
    "12.  Embarked: Port of Embarkation \"port where passenger embarked\" (C = Cherbourg, Q = Queenstown, S  = Southampton)"
   ]
  },
  {
   "cell_type": "markdown",
   "id": "c9bd0256",
   "metadata": {
    "papermill": {
     "duration": 0.00794,
     "end_time": "2024-02-29T21:15:00.158954",
     "exception": false,
     "start_time": "2024-02-29T21:15:00.151014",
     "status": "completed"
    },
    "tags": []
   },
   "source": [
    "# Exploratory data analysis:"
   ]
  },
  {
   "cell_type": "markdown",
   "id": "920ca414",
   "metadata": {
    "papermill": {
     "duration": 0.008148,
     "end_time": "2024-02-29T21:15:00.175610",
     "exception": false,
     "start_time": "2024-02-29T21:15:00.167462",
     "status": "completed"
    },
    "tags": []
   },
   "source": [
    "## **1)- A general look at the data:**\n"
   ]
  },
  {
   "cell_type": "code",
   "execution_count": 3,
   "id": "d2e31836",
   "metadata": {
    "execution": {
     "iopub.execute_input": "2024-02-29T21:15:00.194250Z",
     "iopub.status.busy": "2024-02-29T21:15:00.193067Z",
     "iopub.status.idle": "2024-02-29T21:15:00.199914Z",
     "shell.execute_reply": "2024-02-29T21:15:00.198881Z"
    },
    "papermill": {
     "duration": 0.018109,
     "end_time": "2024-02-29T21:15:00.201776",
     "exception": false,
     "start_time": "2024-02-29T21:15:00.183667",
     "status": "completed"
    },
    "tags": []
   },
   "outputs": [
    {
     "data": {
      "text/plain": [
       "Index(['PassengerId', 'Survived', 'Pclass', 'Name', 'Sex', 'Age', 'SibSp',\n",
       "       'Parch', 'Ticket', 'Fare', 'Cabin', 'Embarked'],\n",
       "      dtype='object')"
      ]
     },
     "execution_count": 3,
     "metadata": {},
     "output_type": "execute_result"
    }
   ],
   "source": [
    "# It returns a list of the DataFrame columns:\n",
    "df.columns"
   ]
  },
  {
   "cell_type": "code",
   "execution_count": 4,
   "id": "8e273f90",
   "metadata": {
    "execution": {
     "iopub.execute_input": "2024-02-29T21:15:00.220807Z",
     "iopub.status.busy": "2024-02-29T21:15:00.219564Z",
     "iopub.status.idle": "2024-02-29T21:15:00.227384Z",
     "shell.execute_reply": "2024-02-29T21:15:00.226084Z"
    },
    "papermill": {
     "duration": 0.019631,
     "end_time": "2024-02-29T21:15:00.229722",
     "exception": false,
     "start_time": "2024-02-29T21:15:00.210091",
     "status": "completed"
    },
    "tags": []
   },
   "outputs": [
    {
     "data": {
      "text/plain": [
       "(891, 12)"
      ]
     },
     "execution_count": 4,
     "metadata": {},
     "output_type": "execute_result"
    }
   ],
   "source": [
    "# To see the number of rows and number of columns:\n",
    "df.shape"
   ]
  },
  {
   "cell_type": "code",
   "execution_count": 5,
   "id": "8ee5ab5f",
   "metadata": {
    "execution": {
     "iopub.execute_input": "2024-02-29T21:15:00.248110Z",
     "iopub.status.busy": "2024-02-29T21:15:00.247783Z",
     "iopub.status.idle": "2024-02-29T21:15:00.255852Z",
     "shell.execute_reply": "2024-02-29T21:15:00.254672Z"
    },
    "papermill": {
     "duration": 0.019758,
     "end_time": "2024-02-29T21:15:00.257938",
     "exception": false,
     "start_time": "2024-02-29T21:15:00.238180",
     "status": "completed"
    },
    "tags": []
   },
   "outputs": [
    {
     "data": {
      "text/plain": [
       "PassengerId      int64\n",
       "Survived         int64\n",
       "Pclass           int64\n",
       "Name            object\n",
       "Sex             object\n",
       "Age            float64\n",
       "SibSp            int64\n",
       "Parch            int64\n",
       "Ticket          object\n",
       "Fare           float64\n",
       "Cabin           object\n",
       "Embarked        object\n",
       "dtype: object"
      ]
     },
     "execution_count": 5,
     "metadata": {},
     "output_type": "execute_result"
    }
   ],
   "source": [
    "# To see the variable type of each column:\n",
    "df.dtypes"
   ]
  },
  {
   "cell_type": "code",
   "execution_count": 6,
   "id": "3581ec08",
   "metadata": {
    "execution": {
     "iopub.execute_input": "2024-02-29T21:15:00.278398Z",
     "iopub.status.busy": "2024-02-29T21:15:00.277977Z",
     "iopub.status.idle": "2024-02-29T21:15:00.290993Z",
     "shell.execute_reply": "2024-02-29T21:15:00.289593Z"
    },
    "papermill": {
     "duration": 0.026013,
     "end_time": "2024-02-29T21:15:00.293118",
     "exception": false,
     "start_time": "2024-02-29T21:15:00.267105",
     "status": "completed"
    },
    "tags": []
   },
   "outputs": [
    {
     "data": {
      "text/plain": [
       "PassengerId      0\n",
       "Survived         0\n",
       "Pclass           0\n",
       "Name             0\n",
       "Sex              0\n",
       "Age            177\n",
       "SibSp            0\n",
       "Parch            0\n",
       "Ticket           0\n",
       "Fare             0\n",
       "Cabin          687\n",
       "Embarked         2\n",
       "dtype: int64"
      ]
     },
     "execution_count": 6,
     "metadata": {},
     "output_type": "execute_result"
    }
   ],
   "source": [
    "# To check for null values:\n",
    "df.isnull().sum()"
   ]
  },
  {
   "cell_type": "markdown",
   "id": "71ce4b7e",
   "metadata": {
    "papermill": {
     "duration": 0.009127,
     "end_time": "2024-02-29T21:15:00.310823",
     "exception": false,
     "start_time": "2024-02-29T21:15:00.301696",
     "status": "completed"
    },
    "tags": []
   },
   "source": [
    "##### **We can see all that by using \"df.info()\"**"
   ]
  },
  {
   "cell_type": "code",
   "execution_count": 7,
   "id": "ed357f5b",
   "metadata": {
    "execution": {
     "iopub.execute_input": "2024-02-29T21:15:00.330107Z",
     "iopub.status.busy": "2024-02-29T21:15:00.329753Z",
     "iopub.status.idle": "2024-02-29T21:15:00.357499Z",
     "shell.execute_reply": "2024-02-29T21:15:00.356125Z"
    },
    "papermill": {
     "duration": 0.040168,
     "end_time": "2024-02-29T21:15:00.359993",
     "exception": false,
     "start_time": "2024-02-29T21:15:00.319825",
     "status": "completed"
    },
    "tags": []
   },
   "outputs": [
    {
     "name": "stdout",
     "output_type": "stream",
     "text": [
      "<class 'pandas.core.frame.DataFrame'>\n",
      "RangeIndex: 891 entries, 0 to 890\n",
      "Data columns (total 12 columns):\n",
      " #   Column       Non-Null Count  Dtype  \n",
      "---  ------       --------------  -----  \n",
      " 0   PassengerId  891 non-null    int64  \n",
      " 1   Survived     891 non-null    int64  \n",
      " 2   Pclass       891 non-null    int64  \n",
      " 3   Name         891 non-null    object \n",
      " 4   Sex          891 non-null    object \n",
      " 5   Age          714 non-null    float64\n",
      " 6   SibSp        891 non-null    int64  \n",
      " 7   Parch        891 non-null    int64  \n",
      " 8   Ticket       891 non-null    object \n",
      " 9   Fare         891 non-null    float64\n",
      " 10  Cabin        204 non-null    object \n",
      " 11  Embarked     889 non-null    object \n",
      "dtypes: float64(2), int64(5), object(5)\n",
      "memory usage: 83.7+ KB\n"
     ]
    }
   ],
   "source": [
    "# It returns information regarding all of the columns, including the number of missing or null values for each:\n",
    "df.info()"
   ]
  },
  {
   "cell_type": "code",
   "execution_count": 8,
   "id": "cb6714c2",
   "metadata": {
    "execution": {
     "iopub.execute_input": "2024-02-29T21:15:00.379251Z",
     "iopub.status.busy": "2024-02-29T21:15:00.378895Z",
     "iopub.status.idle": "2024-02-29T21:15:00.388056Z",
     "shell.execute_reply": "2024-02-29T21:15:00.387193Z"
    },
    "papermill": {
     "duration": 0.021444,
     "end_time": "2024-02-29T21:15:00.390408",
     "exception": false,
     "start_time": "2024-02-29T21:15:00.368964",
     "status": "completed"
    },
    "tags": []
   },
   "outputs": [
    {
     "data": {
      "text/plain": [
       "0"
      ]
     },
     "execution_count": 8,
     "metadata": {},
     "output_type": "execute_result"
    }
   ],
   "source": [
    "# Let's check for duplicate records:\n",
    "df.duplicated().sum()"
   ]
  },
  {
   "cell_type": "markdown",
   "id": "4df6b77c",
   "metadata": {
    "papermill": {
     "duration": 0.008441,
     "end_time": "2024-02-29T21:15:00.407744",
     "exception": false,
     "start_time": "2024-02-29T21:15:00.399303",
     "status": "completed"
    },
    "tags": []
   },
   "source": [
    "#### Take away:\n",
    "* The dataset contains 891 rows and  12 columns\n",
    "* There are no duplicate records in the dataset\n",
    "* For \"Age\", \"and\" \"Embarked\", we detect the existence of missing values"
   ]
  },
  {
   "cell_type": "markdown",
   "id": "f7473d94",
   "metadata": {
    "papermill": {
     "duration": 0.008197,
     "end_time": "2024-02-29T21:15:00.424533",
     "exception": false,
     "start_time": "2024-02-29T21:15:00.416336",
     "status": "completed"
    },
    "tags": []
   },
   "source": [
    "## **2)- Explore columns with quantitative (numerical) data:**\n",
    "\n",
    "**The only numerical variables in the dataset are:**\n",
    "\n",
    "**1.   Variable \"Age\"**\n",
    "\n",
    "**2.   Variable \"Fare\"**\n"
   ]
  },
  {
   "cell_type": "code",
   "execution_count": 9,
   "id": "774d0ad2",
   "metadata": {
    "execution": {
     "iopub.execute_input": "2024-02-29T21:15:00.444059Z",
     "iopub.status.busy": "2024-02-29T21:15:00.443722Z",
     "iopub.status.idle": "2024-02-29T21:15:00.464448Z",
     "shell.execute_reply": "2024-02-29T21:15:00.463316Z"
    },
    "papermill": {
     "duration": 0.03347,
     "end_time": "2024-02-29T21:15:00.466794",
     "exception": false,
     "start_time": "2024-02-29T21:15:00.433324",
     "status": "completed"
    },
    "tags": []
   },
   "outputs": [
    {
     "data": {
      "text/html": [
       "<div>\n",
       "<style scoped>\n",
       "    .dataframe tbody tr th:only-of-type {\n",
       "        vertical-align: middle;\n",
       "    }\n",
       "\n",
       "    .dataframe tbody tr th {\n",
       "        vertical-align: top;\n",
       "    }\n",
       "\n",
       "    .dataframe thead th {\n",
       "        text-align: right;\n",
       "    }\n",
       "</style>\n",
       "<table border=\"1\" class=\"dataframe\">\n",
       "  <thead>\n",
       "    <tr style=\"text-align: right;\">\n",
       "      <th></th>\n",
       "      <th>Age</th>\n",
       "      <th>Fare</th>\n",
       "    </tr>\n",
       "  </thead>\n",
       "  <tbody>\n",
       "    <tr>\n",
       "      <th>count</th>\n",
       "      <td>714.000000</td>\n",
       "      <td>891.000000</td>\n",
       "    </tr>\n",
       "    <tr>\n",
       "      <th>mean</th>\n",
       "      <td>29.699118</td>\n",
       "      <td>32.204208</td>\n",
       "    </tr>\n",
       "    <tr>\n",
       "      <th>std</th>\n",
       "      <td>14.526497</td>\n",
       "      <td>49.693429</td>\n",
       "    </tr>\n",
       "    <tr>\n",
       "      <th>min</th>\n",
       "      <td>0.420000</td>\n",
       "      <td>0.000000</td>\n",
       "    </tr>\n",
       "    <tr>\n",
       "      <th>25%</th>\n",
       "      <td>20.125000</td>\n",
       "      <td>7.910400</td>\n",
       "    </tr>\n",
       "    <tr>\n",
       "      <th>50%</th>\n",
       "      <td>28.000000</td>\n",
       "      <td>14.454200</td>\n",
       "    </tr>\n",
       "    <tr>\n",
       "      <th>75%</th>\n",
       "      <td>38.000000</td>\n",
       "      <td>31.000000</td>\n",
       "    </tr>\n",
       "    <tr>\n",
       "      <th>max</th>\n",
       "      <td>80.000000</td>\n",
       "      <td>512.329200</td>\n",
       "    </tr>\n",
       "  </tbody>\n",
       "</table>\n",
       "</div>"
      ],
      "text/plain": [
       "              Age        Fare\n",
       "count  714.000000  891.000000\n",
       "mean    29.699118   32.204208\n",
       "std     14.526497   49.693429\n",
       "min      0.420000    0.000000\n",
       "25%     20.125000    7.910400\n",
       "50%     28.000000   14.454200\n",
       "75%     38.000000   31.000000\n",
       "max     80.000000  512.329200"
      ]
     },
     "execution_count": 9,
     "metadata": {},
     "output_type": "execute_result"
    }
   ],
   "source": [
    "# It Generates descriptive statistics for numerical values:\n",
    "df[[\"Age\", \"Fare\"]].describe()"
   ]
  },
  {
   "cell_type": "markdown",
   "id": "8d90c40c",
   "metadata": {
    "papermill": {
     "duration": 0.008297,
     "end_time": "2024-02-29T21:15:00.484134",
     "exception": false,
     "start_time": "2024-02-29T21:15:00.475837",
     "status": "completed"
    },
    "tags": []
   },
   "source": [
    "* Based on the descriptive statistics, we can see that for both variables, the mean is greater than the median, which means that we have **Right-skewed distribution**. So let's check by examining the distribution using the **histogram.**"
   ]
  },
  {
   "cell_type": "code",
   "execution_count": 10,
   "id": "7cbd9f82",
   "metadata": {
    "execution": {
     "iopub.execute_input": "2024-02-29T21:15:00.504397Z",
     "iopub.status.busy": "2024-02-29T21:15:00.503768Z",
     "iopub.status.idle": "2024-02-29T21:15:01.108000Z",
     "shell.execute_reply": "2024-02-29T21:15:01.106814Z"
    },
    "papermill": {
     "duration": 0.618105,
     "end_time": "2024-02-29T21:15:01.110803",
     "exception": false,
     "start_time": "2024-02-29T21:15:00.492698",
     "status": "completed"
    },
    "tags": []
   },
   "outputs": [
    {
     "name": "stderr",
     "output_type": "stream",
     "text": [
      "/opt/conda/lib/python3.10/site-packages/seaborn/_oldcore.py:1119: FutureWarning: use_inf_as_na option is deprecated and will be removed in a future version. Convert inf values to NaN before operating instead.\n",
      "  with pd.option_context('mode.use_inf_as_na', True):\n",
      "/opt/conda/lib/python3.10/site-packages/seaborn/_oldcore.py:1119: FutureWarning: use_inf_as_na option is deprecated and will be removed in a future version. Convert inf values to NaN before operating instead.\n",
      "  with pd.option_context('mode.use_inf_as_na', True):\n"
     ]
    },
    {
     "data": {
      "image/png": "[encoded data removed]",
      "text/plain": [
       "<Figure size 1600x600 with 2 Axes>"
      ]
     },
     "metadata": {},
     "output_type": "display_data"
    }
   ],
   "source": [
    "#Histogram:\n",
    "fig, axs = plt.subplots(1,2,figsize=(16,6), gridspec_kw={'wspace': 0.2})\n",
    "sns.histplot(df['Age'], ax = axs[0])\n",
    "sns.histplot(df['Fare'], ax = axs[1])\n",
    "plt.show()"
   ]
  },
  {
   "cell_type": "markdown",
   "id": "b0c54296",
   "metadata": {
    "papermill": {
     "duration": 0.00882,
     "end_time": "2024-02-29T21:15:01.129140",
     "exception": false,
     "start_time": "2024-02-29T21:15:01.120320",
     "status": "completed"
    },
    "tags": []
   },
   "source": [
    "* For the variables **\"Age\"** and **\"Fare\"**, the histograms showed shapes that lean to the left, with a higher concentration of bars on the left side and tails extending towards the right. which confirm the observation of **right-skewed distributions**."
   ]
  },
  {
   "cell_type": "markdown",
   "id": "5da04290",
   "metadata": {
    "papermill": {
     "duration": 0.009212,
     "end_time": "2024-02-29T21:15:01.148150",
     "exception": false,
     "start_time": "2024-02-29T21:15:01.138938",
     "status": "completed"
    },
    "tags": []
   },
   "source": [
    "**Let's check whether outliers exist or not, using the Boxplot:**"
   ]
  },
  {
   "cell_type": "code",
   "execution_count": 11,
   "id": "6d28a57b",
   "metadata": {
    "execution": {
     "iopub.execute_input": "2024-02-29T21:15:01.169837Z",
     "iopub.status.busy": "2024-02-29T21:15:01.168903Z",
     "iopub.status.idle": "2024-02-29T21:15:01.403011Z",
     "shell.execute_reply": "2024-02-29T21:15:01.402025Z"
    },
    "papermill": {
     "duration": 0.246797,
     "end_time": "2024-02-29T21:15:01.404998",
     "exception": false,
     "start_time": "2024-02-29T21:15:01.158201",
     "status": "completed"
    },
    "tags": []
   },
   "outputs": [
    {
     "data": {
      "image/png": "[encoded data removed]",
      "text/plain": [
       "<Figure size 1600x600 with 2 Axes>"
      ]
     },
     "metadata": {},
     "output_type": "display_data"
    }
   ],
   "source": [
    "fig, axs = plt.subplots(1,2,figsize=(16,6), gridspec_kw={'wspace': 0.1})\n",
    "sns.boxplot(x = df['Age'], ax = axs[0])\n",
    "sns.boxplot(x = df['Fare'], ax = axs[1])\n",
    "plt.show()"
   ]
  },
  {
   "cell_type": "markdown",
   "id": "55735d7a",
   "metadata": {
    "papermill": {
     "duration": 0.009863,
     "end_time": "2024-02-29T21:15:01.424719",
     "exception": false,
     "start_time": "2024-02-29T21:15:01.414856",
     "status": "completed"
    },
    "tags": []
   },
   "source": [
    "* Based on the Boxplot, we can see that the variables, \"Age\" & \"Fare\", contain outliers"
   ]
  },
  {
   "cell_type": "markdown",
   "id": "02dbd31a",
   "metadata": {
    "papermill": {
     "duration": 0.010547,
     "end_time": "2024-02-29T21:15:01.445148",
     "exception": false,
     "start_time": "2024-02-29T21:15:01.434601",
     "status": "completed"
    },
    "tags": []
   },
   "source": [
    "**Let's dive deeper and see the rows that contain outliers using the interquartile range (IQR) method.**"
   ]
  },
  {
   "cell_type": "code",
   "execution_count": 12,
   "id": "311e8c72",
   "metadata": {
    "execution": {
     "iopub.execute_input": "2024-02-29T21:15:01.467137Z",
     "iopub.status.busy": "2024-02-29T21:15:01.466600Z",
     "iopub.status.idle": "2024-02-29T21:15:01.474257Z",
     "shell.execute_reply": "2024-02-29T21:15:01.472582Z"
    },
    "papermill": {
     "duration": 0.021459,
     "end_time": "2024-02-29T21:15:01.477299",
     "exception": false,
     "start_time": "2024-02-29T21:15:01.455840",
     "status": "completed"
    },
    "tags": []
   },
   "outputs": [],
   "source": [
    "# Age:\n",
    "Q1 = df.Age.quantile(0.25)\n",
    "Q3 = df.Age.quantile(0.75)\n",
    "IQR = Q3 - Q1\n",
    "lower_extreme = Q1 - 1.5*IQR\n",
    "upper_extreme = Q3 + 1.5*IQR"
   ]
  },
  {
   "cell_type": "code",
   "execution_count": 13,
   "id": "8f0badd3",
   "metadata": {
    "execution": {
     "iopub.execute_input": "2024-02-29T21:15:01.500159Z",
     "iopub.status.busy": "2024-02-29T21:15:01.499792Z",
     "iopub.status.idle": "2024-02-29T21:15:01.520411Z",
     "shell.execute_reply": "2024-02-29T21:15:01.519445Z"
    },
    "papermill": {
     "duration": 0.035377,
     "end_time": "2024-02-29T21:15:01.522931",
     "exception": false,
     "start_time": "2024-02-29T21:15:01.487554",
     "status": "completed"
    },
    "tags": []
   },
   "outputs": [
    {
     "name": "stdout",
     "output_type": "stream",
     "text": [
      "the shape is: (11, 12)\n",
      "--------------------\n"
     ]
    },
    {
     "data": {
      "text/html": [
       "<div>\n",
       "<style scoped>\n",
       "    .dataframe tbody tr th:only-of-type {\n",
       "        vertical-align: middle;\n",
       "    }\n",
       "\n",
       "    .dataframe tbody tr th {\n",
       "        vertical-align: top;\n",
       "    }\n",
       "\n",
       "    .dataframe thead th {\n",
       "        text-align: right;\n",
       "    }\n",
       "</style>\n",
       "<table border=\"1\" class=\"dataframe\">\n",
       "  <thead>\n",
       "    <tr style=\"text-align: right;\">\n",
       "      <th></th>\n",
       "      <th>PassengerId</th>\n",
       "      <th>Survived</th>\n",
       "      <th>Pclass</th>\n",
       "      <th>Name</th>\n",
       "      <th>Sex</th>\n",
       "      <th>Age</th>\n",
       "      <th>SibSp</th>\n",
       "      <th>Parch</th>\n",
       "      <th>Ticket</th>\n",
       "      <th>Fare</th>\n",
       "      <th>Cabin</th>\n",
       "      <th>Embarked</th>\n",
       "    </tr>\n",
       "  </thead>\n",
       "  <tbody>\n",
       "    <tr>\n",
       "      <th>33</th>\n",
       "      <td>34</td>\n",
       "      <td>0</td>\n",
       "      <td>2</td>\n",
       "      <td>Wheadon, Mr. Edward H</td>\n",
       "      <td>male</td>\n",
       "      <td>66.0</td>\n",
       "      <td>0</td>\n",
       "      <td>0</td>\n",
       "      <td>C.A. 24579</td>\n",
       "      <td>10.5000</td>\n",
       "      <td>NaN</td>\n",
       "      <td>S</td>\n",
       "    </tr>\n",
       "    <tr>\n",
       "      <th>54</th>\n",
       "      <td>55</td>\n",
       "      <td>0</td>\n",
       "      <td>1</td>\n",
       "      <td>Ostby, Mr. Engelhart Cornelius</td>\n",
       "      <td>male</td>\n",
       "      <td>65.0</td>\n",
       "      <td>0</td>\n",
       "      <td>1</td>\n",
       "      <td>113509</td>\n",
       "      <td>61.9792</td>\n",
       "      <td>B30</td>\n",
       "      <td>C</td>\n",
       "    </tr>\n",
       "    <tr>\n",
       "      <th>96</th>\n",
       "      <td>97</td>\n",
       "      <td>0</td>\n",
       "      <td>1</td>\n",
       "      <td>Goldschmidt, Mr. George B</td>\n",
       "      <td>male</td>\n",
       "      <td>71.0</td>\n",
       "      <td>0</td>\n",
       "      <td>0</td>\n",
       "      <td>PC 17754</td>\n",
       "      <td>34.6542</td>\n",
       "      <td>A5</td>\n",
       "      <td>C</td>\n",
       "    </tr>\n",
       "    <tr>\n",
       "      <th>116</th>\n",
       "      <td>117</td>\n",
       "      <td>0</td>\n",
       "      <td>3</td>\n",
       "      <td>Connors, Mr. Patrick</td>\n",
       "      <td>male</td>\n",
       "      <td>70.5</td>\n",
       "      <td>0</td>\n",
       "      <td>0</td>\n",
       "      <td>370369</td>\n",
       "      <td>7.7500</td>\n",
       "      <td>NaN</td>\n",
       "      <td>Q</td>\n",
       "    </tr>\n",
       "    <tr>\n",
       "      <th>280</th>\n",
       "      <td>281</td>\n",
       "      <td>0</td>\n",
       "      <td>3</td>\n",
       "      <td>Duane, Mr. Frank</td>\n",
       "      <td>male</td>\n",
       "      <td>65.0</td>\n",
       "      <td>0</td>\n",
       "      <td>0</td>\n",
       "      <td>336439</td>\n",
       "      <td>7.7500</td>\n",
       "      <td>NaN</td>\n",
       "      <td>Q</td>\n",
       "    </tr>\n",
       "    <tr>\n",
       "      <th>456</th>\n",
       "      <td>457</td>\n",
       "      <td>0</td>\n",
       "      <td>1</td>\n",
       "      <td>Millet, Mr. Francis Davis</td>\n",
       "      <td>male</td>\n",
       "      <td>65.0</td>\n",
       "      <td>0</td>\n",
       "      <td>0</td>\n",
       "      <td>13509</td>\n",
       "      <td>26.5500</td>\n",
       "      <td>E38</td>\n",
       "      <td>S</td>\n",
       "    </tr>\n",
       "    <tr>\n",
       "      <th>493</th>\n",
       "      <td>494</td>\n",
       "      <td>0</td>\n",
       "      <td>1</td>\n",
       "      <td>Artagaveytia, Mr. Ramon</td>\n",
       "      <td>male</td>\n",
       "      <td>71.0</td>\n",
       "      <td>0</td>\n",
       "      <td>0</td>\n",
       "      <td>PC 17609</td>\n",
       "      <td>49.5042</td>\n",
       "      <td>NaN</td>\n",
       "      <td>C</td>\n",
       "    </tr>\n",
       "    <tr>\n",
       "      <th>630</th>\n",
       "      <td>631</td>\n",
       "      <td>1</td>\n",
       "      <td>1</td>\n",
       "      <td>Barkworth, Mr. Algernon Henry Wilson</td>\n",
       "      <td>male</td>\n",
       "      <td>80.0</td>\n",
       "      <td>0</td>\n",
       "      <td>0</td>\n",
       "      <td>27042</td>\n",
       "      <td>30.0000</td>\n",
       "      <td>A23</td>\n",
       "      <td>S</td>\n",
       "    </tr>\n",
       "    <tr>\n",
       "      <th>672</th>\n",
       "      <td>673</td>\n",
       "      <td>0</td>\n",
       "      <td>2</td>\n",
       "      <td>Mitchell, Mr. Henry Michael</td>\n",
       "      <td>male</td>\n",
       "      <td>70.0</td>\n",
       "      <td>0</td>\n",
       "      <td>0</td>\n",
       "      <td>C.A. 24580</td>\n",
       "      <td>10.5000</td>\n",
       "      <td>NaN</td>\n",
       "      <td>S</td>\n",
       "    </tr>\n",
       "    <tr>\n",
       "      <th>745</th>\n",
       "      <td>746</td>\n",
       "      <td>0</td>\n",
       "      <td>1</td>\n",
       "      <td>Crosby, Capt. Edward Gifford</td>\n",
       "      <td>male</td>\n",
       "      <td>70.0</td>\n",
       "      <td>1</td>\n",
       "      <td>1</td>\n",
       "      <td>WE/P 5735</td>\n",
       "      <td>71.0000</td>\n",
       "      <td>B22</td>\n",
       "      <td>S</td>\n",
       "    </tr>\n",
       "    <tr>\n",
       "      <th>851</th>\n",
       "      <td>852</td>\n",
       "      <td>0</td>\n",
       "      <td>3</td>\n",
       "      <td>Svensson, Mr. Johan</td>\n",
       "      <td>male</td>\n",
       "      <td>74.0</td>\n",
       "      <td>0</td>\n",
       "      <td>0</td>\n",
       "      <td>347060</td>\n",
       "      <td>7.7750</td>\n",
       "      <td>NaN</td>\n",
       "      <td>S</td>\n",
       "    </tr>\n",
       "  </tbody>\n",
       "</table>\n",
       "</div>"
      ],
      "text/plain": [
       "     PassengerId  Survived  Pclass                                  Name  \\\n",
       "33            34         0       2                 Wheadon, Mr. Edward H   \n",
       "54            55         0       1        Ostby, Mr. Engelhart Cornelius   \n",
       "96            97         0       1             Goldschmidt, Mr. George B   \n",
       "116          117         0       3                  Connors, Mr. Patrick   \n",
       "280          281         0       3                      Duane, Mr. Frank   \n",
       "456          457         0       1             Millet, Mr. Francis Davis   \n",
       "493          494         0       1               Artagaveytia, Mr. Ramon   \n",
       "630          631         1       1  Barkworth, Mr. Algernon Henry Wilson   \n",
       "672          673         0       2           Mitchell, Mr. Henry Michael   \n",
       "745          746         0       1          Crosby, Capt. Edward Gifford   \n",
       "851          852         0       3                   Svensson, Mr. Johan   \n",
       "\n",
       "      Sex   Age  SibSp  Parch      Ticket     Fare Cabin Embarked  \n",
       "33   male  66.0      0      0  C.A. 24579  10.5000   NaN        S  \n",
       "54   male  65.0      0      1      113509  61.9792   B30        C  \n",
       "96   male  71.0      0      0    PC 17754  34.6542    A5        C  \n",
       "116  male  70.5      0      0      370369   7.7500   NaN        Q  \n",
       "280  male  65.0      0      0      336439   7.7500   NaN        Q  \n",
       "456  male  65.0      0      0       13509  26.5500   E38        S  \n",
       "493  male  71.0      0      0    PC 17609  49.5042   NaN        C  \n",
       "630  male  80.0      0      0       27042  30.0000   A23        S  \n",
       "672  male  70.0      0      0  C.A. 24580  10.5000   NaN        S  \n",
       "745  male  70.0      1      1   WE/P 5735  71.0000   B22        S  \n",
       "851  male  74.0      0      0      347060   7.7750   NaN        S  "
      ]
     },
     "execution_count": 13,
     "metadata": {},
     "output_type": "execute_result"
    }
   ],
   "source": [
    "#To see rows that contain outliers uing the interquartile range (IQR) method:\n",
    "outlier_age = df[(df.Age<lower_extreme)|(df.Age>upper_extreme)]\n",
    "print(\"the shape is:\" ,outlier_age.shape)\n",
    "print(\"-\" * 20)\n",
    "outlier_age.head(11)"
   ]
  },
  {
   "cell_type": "code",
   "execution_count": 14,
   "id": "ac42f6dc",
   "metadata": {
    "execution": {
     "iopub.execute_input": "2024-02-29T21:15:01.546241Z",
     "iopub.status.busy": "2024-02-29T21:15:01.545642Z",
     "iopub.status.idle": "2024-02-29T21:15:01.553619Z",
     "shell.execute_reply": "2024-02-29T21:15:01.552642Z"
    },
    "papermill": {
     "duration": 0.022215,
     "end_time": "2024-02-29T21:15:01.556025",
     "exception": false,
     "start_time": "2024-02-29T21:15:01.533810",
     "status": "completed"
    },
    "tags": []
   },
   "outputs": [],
   "source": [
    "# Fare:\n",
    "Q1 = df.Fare.quantile(0.25)\n",
    "Q3 = df.Fare.quantile(0.75)\n",
    "IQR = Q3 - Q1\n",
    "lower_extreme = Q1 - 1.5*IQR\n",
    "upper_extreme = Q3 + 1.5*IQR"
   ]
  },
  {
   "cell_type": "code",
   "execution_count": 15,
   "id": "09a82a72",
   "metadata": {
    "execution": {
     "iopub.execute_input": "2024-02-29T21:15:01.578803Z",
     "iopub.status.busy": "2024-02-29T21:15:01.578400Z",
     "iopub.status.idle": "2024-02-29T21:15:01.597621Z",
     "shell.execute_reply": "2024-02-29T21:15:01.595600Z"
    },
    "papermill": {
     "duration": 0.033196,
     "end_time": "2024-02-29T21:15:01.599947",
     "exception": false,
     "start_time": "2024-02-29T21:15:01.566751",
     "status": "completed"
    },
    "tags": []
   },
   "outputs": [
    {
     "name": "stdout",
     "output_type": "stream",
     "text": [
      "the shape is: (116, 12)\n",
      "--------------------\n"
     ]
    },
    {
     "data": {
      "text/html": [
       "<div>\n",
       "<style scoped>\n",
       "    .dataframe tbody tr th:only-of-type {\n",
       "        vertical-align: middle;\n",
       "    }\n",
       "\n",
       "    .dataframe tbody tr th {\n",
       "        vertical-align: top;\n",
       "    }\n",
       "\n",
       "    .dataframe thead th {\n",
       "        text-align: right;\n",
       "    }\n",
       "</style>\n",
       "<table border=\"1\" class=\"dataframe\">\n",
       "  <thead>\n",
       "    <tr style=\"text-align: right;\">\n",
       "      <th></th>\n",
       "      <th>PassengerId</th>\n",
       "      <th>Survived</th>\n",
       "      <th>Pclass</th>\n",
       "      <th>Name</th>\n",
       "      <th>Sex</th>\n",
       "      <th>Age</th>\n",
       "      <th>SibSp</th>\n",
       "      <th>Parch</th>\n",
       "      <th>Ticket</th>\n",
       "      <th>Fare</th>\n",
       "      <th>Cabin</th>\n",
       "      <th>Embarked</th>\n",
       "    </tr>\n",
       "  </thead>\n",
       "  <tbody>\n",
       "    <tr>\n",
       "      <th>1</th>\n",
       "      <td>2</td>\n",
       "      <td>1</td>\n",
       "      <td>1</td>\n",
       "      <td>Cumings, Mrs. John Bradley (Florence Briggs Th...</td>\n",
       "      <td>female</td>\n",
       "      <td>38.0</td>\n",
       "      <td>1</td>\n",
       "      <td>0</td>\n",
       "      <td>PC 17599</td>\n",
       "      <td>71.2833</td>\n",
       "      <td>C85</td>\n",
       "      <td>C</td>\n",
       "    </tr>\n",
       "    <tr>\n",
       "      <th>27</th>\n",
       "      <td>28</td>\n",
       "      <td>0</td>\n",
       "      <td>1</td>\n",
       "      <td>Fortune, Mr. Charles Alexander</td>\n",
       "      <td>male</td>\n",
       "      <td>19.0</td>\n",
       "      <td>3</td>\n",
       "      <td>2</td>\n",
       "      <td>19950</td>\n",
       "      <td>263.0000</td>\n",
       "      <td>C23 C25 C27</td>\n",
       "      <td>S</td>\n",
       "    </tr>\n",
       "    <tr>\n",
       "      <th>31</th>\n",
       "      <td>32</td>\n",
       "      <td>1</td>\n",
       "      <td>1</td>\n",
       "      <td>Spencer, Mrs. William Augustus (Marie Eugenie)</td>\n",
       "      <td>female</td>\n",
       "      <td>NaN</td>\n",
       "      <td>1</td>\n",
       "      <td>0</td>\n",
       "      <td>PC 17569</td>\n",
       "      <td>146.5208</td>\n",
       "      <td>B78</td>\n",
       "      <td>C</td>\n",
       "    </tr>\n",
       "    <tr>\n",
       "      <th>34</th>\n",
       "      <td>35</td>\n",
       "      <td>0</td>\n",
       "      <td>1</td>\n",
       "      <td>Meyer, Mr. Edgar Joseph</td>\n",
       "      <td>male</td>\n",
       "      <td>28.0</td>\n",
       "      <td>1</td>\n",
       "      <td>0</td>\n",
       "      <td>PC 17604</td>\n",
       "      <td>82.1708</td>\n",
       "      <td>NaN</td>\n",
       "      <td>C</td>\n",
       "    </tr>\n",
       "    <tr>\n",
       "      <th>52</th>\n",
       "      <td>53</td>\n",
       "      <td>1</td>\n",
       "      <td>1</td>\n",
       "      <td>Harper, Mrs. Henry Sleeper (Myna Haxtun)</td>\n",
       "      <td>female</td>\n",
       "      <td>49.0</td>\n",
       "      <td>1</td>\n",
       "      <td>0</td>\n",
       "      <td>PC 17572</td>\n",
       "      <td>76.7292</td>\n",
       "      <td>D33</td>\n",
       "      <td>C</td>\n",
       "    </tr>\n",
       "  </tbody>\n",
       "</table>\n",
       "</div>"
      ],
      "text/plain": [
       "    PassengerId  Survived  Pclass  \\\n",
       "1             2         1       1   \n",
       "27           28         0       1   \n",
       "31           32         1       1   \n",
       "34           35         0       1   \n",
       "52           53         1       1   \n",
       "\n",
       "                                                 Name     Sex   Age  SibSp  \\\n",
       "1   Cumings, Mrs. John Bradley (Florence Briggs Th...  female  38.0      1   \n",
       "27                     Fortune, Mr. Charles Alexander    male  19.0      3   \n",
       "31     Spencer, Mrs. William Augustus (Marie Eugenie)  female   NaN      1   \n",
       "34                            Meyer, Mr. Edgar Joseph    male  28.0      1   \n",
       "52           Harper, Mrs. Henry Sleeper (Myna Haxtun)  female  49.0      1   \n",
       "\n",
       "    Parch    Ticket      Fare        Cabin Embarked  \n",
       "1       0  PC 17599   71.2833          C85        C  \n",
       "27      2     19950  263.0000  C23 C25 C27        S  \n",
       "31      0  PC 17569  146.5208          B78        C  \n",
       "34      0  PC 17604   82.1708          NaN        C  \n",
       "52      0  PC 17572   76.7292          D33        C  "
      ]
     },
     "execution_count": 15,
     "metadata": {},
     "output_type": "execute_result"
    }
   ],
   "source": [
    "#To see rows that contain outliers uing the interquartile range (IQR) method:\n",
    "outlier_Fare = df[(df.Fare<lower_extreme)|(df.Fare>upper_extreme)]\n",
    "print(\"the shape is:\",outlier_Fare.shape)\n",
    "print(\"-\" * 20)\n",
    "(outlier_Fare.head())"
   ]
  },
  {
   "cell_type": "markdown",
   "id": "781b9868",
   "metadata": {
    "papermill": {
     "duration": 0.009755,
     "end_time": "2024-02-29T21:15:01.619730",
     "exception": false,
     "start_time": "2024-02-29T21:15:01.609975",
     "status": "completed"
    },
    "tags": []
   },
   "source": [
    "#### Take away:\n",
    "* For the variables \"Age\" and \"Fare\", the descriptive statistics & the histograms showed that we have Right-skewed distribution\n",
    "* The box plot and the interquartile range (IQR) method. detect the existence of outliers for both variables (Age & Fare)\n",
    "\n",
    "Based on that, when we'll try to deal with missing values ,filling the NA values with **the mean** will be not a good choice."
   ]
  },
  {
   "cell_type": "markdown",
   "id": "ea52d62b",
   "metadata": {
    "papermill": {
     "duration": 0.009833,
     "end_time": "2024-02-29T21:15:01.640471",
     "exception": false,
     "start_time": "2024-02-29T21:15:01.630638",
     "status": "completed"
    },
    "tags": []
   },
   "source": [
    "## **3)- Explore columns with qualitative (categorical) data:**\n",
    "\n",
    "**The  categorical variables in the dataset are:**\n",
    "\n",
    "**1.    \"Survived\"**\n",
    "\n",
    "**2.    \"Sex\"**\n",
    "\n",
    "**3.    \"Pclass\"**\n",
    "\n",
    "**4.    \"Embarked\"**\n",
    "\n",
    "**5.    \"SibSp\"**\n",
    "\n",
    "**6.    \"Parch\"**"
   ]
  },
  {
   "cell_type": "code",
   "execution_count": 16,
   "id": "bc2bb058",
   "metadata": {
    "execution": {
     "iopub.execute_input": "2024-02-29T21:15:01.662770Z",
     "iopub.status.busy": "2024-02-29T21:15:01.662369Z",
     "iopub.status.idle": "2024-02-29T21:15:01.884880Z",
     "shell.execute_reply": "2024-02-29T21:15:01.883466Z"
    },
    "papermill": {
     "duration": 0.23597,
     "end_time": "2024-02-29T21:15:01.886925",
     "exception": false,
     "start_time": "2024-02-29T21:15:01.650955",
     "status": "completed"
    },
    "tags": []
   },
   "outputs": [
    {
     "data": {
      "image/png": "[encoded data removed]",
      "text/plain": [
       "<Figure size 1000x500 with 2 Axes>"
      ]
     },
     "metadata": {},
     "output_type": "display_data"
    }
   ],
   "source": [
    "#  \"Survived\" and \"Sex\"\n",
    "fig, axs = plt.subplots(1,2,figsize=(10,5), gridspec_kw={'wspace': 0.3})\n",
    "sns.countplot(x='Survived', data = df, palette = 'tab10', ax = axs[0])\n",
    "sns.countplot(x='Sex', data = df, palette = 'tab10', ax = axs[1])\n",
    "plt.show()"
   ]
  },
  {
   "cell_type": "code",
   "execution_count": 17,
   "id": "d7583e07",
   "metadata": {
    "execution": {
     "iopub.execute_input": "2024-02-29T21:15:01.910129Z",
     "iopub.status.busy": "2024-02-29T21:15:01.909778Z",
     "iopub.status.idle": "2024-02-29T21:15:02.434870Z",
     "shell.execute_reply": "2024-02-29T21:15:02.432904Z"
    },
    "papermill": {
     "duration": 0.539669,
     "end_time": "2024-02-29T21:15:02.437723",
     "exception": false,
     "start_time": "2024-02-29T21:15:01.898054",
     "status": "completed"
    },
    "tags": []
   },
   "outputs": [
    {
     "data": {
      "image/png": "[encoded data removed]",
      "text/plain": [
       "<Figure size 1600x800 with 4 Axes>"
      ]
     },
     "metadata": {},
     "output_type": "display_data"
    }
   ],
   "source": [
    "# \"SibSp\", \"Embarked\", \"Pclass\" and \"Parch\"\n",
    "fig, axs = plt.subplots(2,2,figsize=(16,8), gridspec_kw={'wspace': 0.3})\n",
    "sns.countplot(x= 'SibSp',data = df,  ax = axs[0,0])\n",
    "sns.countplot(x='Embarked', data=df, ax = axs[0,1])\n",
    "sns.countplot(x='Pclass', data=df, ax=axs[1, 0])  \n",
    "sns.countplot(x='Parch', data = df, ax=axs[1, 1])\n",
    "plt.show() "
   ]
  },
  {
   "cell_type": "markdown",
   "id": "a16ad8bd",
   "metadata": {
    "papermill": {
     "duration": 0.010422,
     "end_time": "2024-02-29T21:15:02.459096",
     "exception": false,
     "start_time": "2024-02-29T21:15:02.448674",
     "status": "completed"
    },
    "tags": []
   },
   "source": [
    "## **4. More Exploration !**"
   ]
  },
  {
   "cell_type": "markdown",
   "id": "b20ef0d8",
   "metadata": {
    "papermill": {
     "duration": 0.010534,
     "end_time": "2024-02-29T21:15:02.480348",
     "exception": false,
     "start_time": "2024-02-29T21:15:02.469814",
     "status": "completed"
    },
    "tags": []
   },
   "source": [
    "#### **1. Survived vs Sex:**"
   ]
  },
  {
   "cell_type": "code",
   "execution_count": 18,
   "id": "71243892",
   "metadata": {
    "execution": {
     "iopub.execute_input": "2024-02-29T21:15:02.560559Z",
     "iopub.status.busy": "2024-02-29T21:15:02.560193Z",
     "iopub.status.idle": "2024-02-29T21:15:02.572759Z",
     "shell.execute_reply": "2024-02-29T21:15:02.571686Z"
    },
    "papermill": {
     "duration": 0.02896,
     "end_time": "2024-02-29T21:15:02.575298",
     "exception": false,
     "start_time": "2024-02-29T21:15:02.546338",
     "status": "completed"
    },
    "tags": []
   },
   "outputs": [
    {
     "data": {
      "text/html": [
       "<div>\n",
       "<style scoped>\n",
       "    .dataframe tbody tr th:only-of-type {\n",
       "        vertical-align: middle;\n",
       "    }\n",
       "\n",
       "    .dataframe tbody tr th {\n",
       "        vertical-align: top;\n",
       "    }\n",
       "\n",
       "    .dataframe thead th {\n",
       "        text-align: right;\n",
       "    }\n",
       "</style>\n",
       "<table border=\"1\" class=\"dataframe\">\n",
       "  <thead>\n",
       "    <tr style=\"text-align: right;\">\n",
       "      <th></th>\n",
       "      <th></th>\n",
       "      <th>Survived</th>\n",
       "    </tr>\n",
       "    <tr>\n",
       "      <th>Sex</th>\n",
       "      <th>Survived</th>\n",
       "      <th></th>\n",
       "    </tr>\n",
       "  </thead>\n",
       "  <tbody>\n",
       "    <tr>\n",
       "      <th rowspan=\"2\" valign=\"top\">female</th>\n",
       "      <th>0</th>\n",
       "      <td>81</td>\n",
       "    </tr>\n",
       "    <tr>\n",
       "      <th>1</th>\n",
       "      <td>233</td>\n",
       "    </tr>\n",
       "    <tr>\n",
       "      <th rowspan=\"2\" valign=\"top\">male</th>\n",
       "      <th>0</th>\n",
       "      <td>468</td>\n",
       "    </tr>\n",
       "    <tr>\n",
       "      <th>1</th>\n",
       "      <td>109</td>\n",
       "    </tr>\n",
       "  </tbody>\n",
       "</table>\n",
       "</div>"
      ],
      "text/plain": [
       "                 Survived\n",
       "Sex    Survived          \n",
       "female 0               81\n",
       "       1              233\n",
       "male   0              468\n",
       "       1              109"
      ]
     },
     "execution_count": 18,
     "metadata": {},
     "output_type": "execute_result"
    }
   ],
   "source": [
    "pd.DataFrame(df.groupby(['Sex','Survived'])['Survived'].count())"
   ]
  },
  {
   "cell_type": "code",
   "execution_count": 19,
   "id": "64576039",
   "metadata": {
    "execution": {
     "iopub.execute_input": "2024-02-29T21:15:02.601996Z",
     "iopub.status.busy": "2024-02-29T21:15:02.600891Z",
     "iopub.status.idle": "2024-02-29T21:15:02.753205Z",
     "shell.execute_reply": "2024-02-29T21:15:02.752492Z"
    },
    "papermill": {
     "duration": 0.167211,
     "end_time": "2024-02-29T21:15:02.755172",
     "exception": false,
     "start_time": "2024-02-29T21:15:02.587961",
     "status": "completed"
    },
    "tags": []
   },
   "outputs": [
    {
     "data": {
      "image/png": "[encoded data removed]",
      "text/plain": [
       "<Figure size 640x480 with 1 Axes>"
      ]
     },
     "metadata": {},
     "output_type": "display_data"
    }
   ],
   "source": [
    "sns.countplot(x = \"Survived\", hue = \"Sex\", data = df)\n",
    "plt.show()"
   ]
  },
  {
   "cell_type": "markdown",
   "id": "7c4d9832",
   "metadata": {
    "papermill": {
     "duration": 0.011312,
     "end_time": "2024-02-29T21:15:02.778605",
     "exception": false,
     "start_time": "2024-02-29T21:15:02.767293",
     "status": "completed"
    },
    "tags": []
   },
   "source": [
    "#### **2. Survived vs Pclass:**"
   ]
  },
  {
   "cell_type": "code",
   "execution_count": 20,
   "id": "a39d48e8",
   "metadata": {
    "execution": {
     "iopub.execute_input": "2024-02-29T21:15:02.804137Z",
     "iopub.status.busy": "2024-02-29T21:15:02.803511Z",
     "iopub.status.idle": "2024-02-29T21:15:02.813765Z",
     "shell.execute_reply": "2024-02-29T21:15:02.812686Z"
    },
    "papermill": {
     "duration": 0.025444,
     "end_time": "2024-02-29T21:15:02.815581",
     "exception": false,
     "start_time": "2024-02-29T21:15:02.790137",
     "status": "completed"
    },
    "tags": []
   },
   "outputs": [
    {
     "data": {
      "text/html": [
       "<div>\n",
       "<style scoped>\n",
       "    .dataframe tbody tr th:only-of-type {\n",
       "        vertical-align: middle;\n",
       "    }\n",
       "\n",
       "    .dataframe tbody tr th {\n",
       "        vertical-align: top;\n",
       "    }\n",
       "\n",
       "    .dataframe thead th {\n",
       "        text-align: right;\n",
       "    }\n",
       "</style>\n",
       "<table border=\"1\" class=\"dataframe\">\n",
       "  <thead>\n",
       "    <tr style=\"text-align: right;\">\n",
       "      <th></th>\n",
       "      <th></th>\n",
       "      <th>Survived</th>\n",
       "    </tr>\n",
       "    <tr>\n",
       "      <th>Pclass</th>\n",
       "      <th>Survived</th>\n",
       "      <th></th>\n",
       "    </tr>\n",
       "  </thead>\n",
       "  <tbody>\n",
       "    <tr>\n",
       "      <th rowspan=\"2\" valign=\"top\">1</th>\n",
       "      <th>0</th>\n",
       "      <td>80</td>\n",
       "    </tr>\n",
       "    <tr>\n",
       "      <th>1</th>\n",
       "      <td>136</td>\n",
       "    </tr>\n",
       "    <tr>\n",
       "      <th rowspan=\"2\" valign=\"top\">2</th>\n",
       "      <th>0</th>\n",
       "      <td>97</td>\n",
       "    </tr>\n",
       "    <tr>\n",
       "      <th>1</th>\n",
       "      <td>87</td>\n",
       "    </tr>\n",
       "    <tr>\n",
       "      <th rowspan=\"2\" valign=\"top\">3</th>\n",
       "      <th>0</th>\n",
       "      <td>372</td>\n",
       "    </tr>\n",
       "    <tr>\n",
       "      <th>1</th>\n",
       "      <td>119</td>\n",
       "    </tr>\n",
       "  </tbody>\n",
       "</table>\n",
       "</div>"
      ],
      "text/plain": [
       "                 Survived\n",
       "Pclass Survived          \n",
       "1      0               80\n",
       "       1              136\n",
       "2      0               97\n",
       "       1               87\n",
       "3      0              372\n",
       "       1              119"
      ]
     },
     "execution_count": 20,
     "metadata": {},
     "output_type": "execute_result"
    }
   ],
   "source": [
    "pd.DataFrame(df.groupby(['Pclass','Survived'])['Survived'].count())"
   ]
  },
  {
   "cell_type": "code",
   "execution_count": 21,
   "id": "3b4ddf3a",
   "metadata": {
    "execution": {
     "iopub.execute_input": "2024-02-29T21:15:02.841382Z",
     "iopub.status.busy": "2024-02-29T21:15:02.840665Z",
     "iopub.status.idle": "2024-02-29T21:15:03.057092Z",
     "shell.execute_reply": "2024-02-29T21:15:03.055514Z"
    },
    "papermill": {
     "duration": 0.232374,
     "end_time": "2024-02-29T21:15:03.059480",
     "exception": false,
     "start_time": "2024-02-29T21:15:02.827106",
     "status": "completed"
    },
    "tags": []
   },
   "outputs": [
    {
     "data": {
      "text/plain": [
       "<Axes: xlabel='Pclass', ylabel='count'>"
      ]
     },
     "execution_count": 21,
     "metadata": {},
     "output_type": "execute_result"
    },
    {
     "data": {
      "image/png": "[encoded data removed]",
      "text/plain": [
       "<Figure size 640x480 with 1 Axes>"
      ]
     },
     "metadata": {},
     "output_type": "display_data"
    }
   ],
   "source": [
    "sns.countplot(x='Pclass', hue = \"Survived\",data=df)"
   ]
  },
  {
   "cell_type": "markdown",
   "id": "e9cdaba1",
   "metadata": {
    "papermill": {
     "duration": 0.011932,
     "end_time": "2024-02-29T21:15:03.084277",
     "exception": false,
     "start_time": "2024-02-29T21:15:03.072345",
     "status": "completed"
    },
    "tags": []
   },
   "source": [
    "#### **3. Survived vs Embarked:**"
   ]
  },
  {
   "cell_type": "code",
   "execution_count": 22,
   "id": "58517f6f",
   "metadata": {
    "execution": {
     "iopub.execute_input": "2024-02-29T21:15:03.110288Z",
     "iopub.status.busy": "2024-02-29T21:15:03.109885Z",
     "iopub.status.idle": "2024-02-29T21:15:03.123772Z",
     "shell.execute_reply": "2024-02-29T21:15:03.122570Z"
    },
    "papermill": {
     "duration": 0.029608,
     "end_time": "2024-02-29T21:15:03.126011",
     "exception": false,
     "start_time": "2024-02-29T21:15:03.096403",
     "status": "completed"
    },
    "tags": []
   },
   "outputs": [
    {
     "data": {
      "text/html": [
       "<div>\n",
       "<style scoped>\n",
       "    .dataframe tbody tr th:only-of-type {\n",
       "        vertical-align: middle;\n",
       "    }\n",
       "\n",
       "    .dataframe tbody tr th {\n",
       "        vertical-align: top;\n",
       "    }\n",
       "\n",
       "    .dataframe thead th {\n",
       "        text-align: right;\n",
       "    }\n",
       "</style>\n",
       "<table border=\"1\" class=\"dataframe\">\n",
       "  <thead>\n",
       "    <tr style=\"text-align: right;\">\n",
       "      <th></th>\n",
       "      <th></th>\n",
       "      <th>Survived</th>\n",
       "    </tr>\n",
       "    <tr>\n",
       "      <th>Embarked</th>\n",
       "      <th>Survived</th>\n",
       "      <th></th>\n",
       "    </tr>\n",
       "  </thead>\n",
       "  <tbody>\n",
       "    <tr>\n",
       "      <th rowspan=\"2\" valign=\"top\">C</th>\n",
       "      <th>0</th>\n",
       "      <td>75</td>\n",
       "    </tr>\n",
       "    <tr>\n",
       "      <th>1</th>\n",
       "      <td>93</td>\n",
       "    </tr>\n",
       "    <tr>\n",
       "      <th rowspan=\"2\" valign=\"top\">Q</th>\n",
       "      <th>0</th>\n",
       "      <td>47</td>\n",
       "    </tr>\n",
       "    <tr>\n",
       "      <th>1</th>\n",
       "      <td>30</td>\n",
       "    </tr>\n",
       "    <tr>\n",
       "      <th rowspan=\"2\" valign=\"top\">S</th>\n",
       "      <th>0</th>\n",
       "      <td>427</td>\n",
       "    </tr>\n",
       "    <tr>\n",
       "      <th>1</th>\n",
       "      <td>217</td>\n",
       "    </tr>\n",
       "  </tbody>\n",
       "</table>\n",
       "</div>"
      ],
      "text/plain": [
       "                   Survived\n",
       "Embarked Survived          \n",
       "C        0               75\n",
       "         1               93\n",
       "Q        0               47\n",
       "         1               30\n",
       "S        0              427\n",
       "         1              217"
      ]
     },
     "execution_count": 22,
     "metadata": {},
     "output_type": "execute_result"
    }
   ],
   "source": [
    "pd.DataFrame(df.groupby(['Embarked','Survived'])['Survived'].count())"
   ]
  },
  {
   "cell_type": "code",
   "execution_count": 23,
   "id": "111f702c",
   "metadata": {
    "execution": {
     "iopub.execute_input": "2024-02-29T21:15:03.152711Z",
     "iopub.status.busy": "2024-02-29T21:15:03.152347Z",
     "iopub.status.idle": "2024-02-29T21:15:03.366369Z",
     "shell.execute_reply": "2024-02-29T21:15:03.364932Z"
    },
    "papermill": {
     "duration": 0.230607,
     "end_time": "2024-02-29T21:15:03.369061",
     "exception": false,
     "start_time": "2024-02-29T21:15:03.138454",
     "status": "completed"
    },
    "tags": []
   },
   "outputs": [
    {
     "data": {
      "text/plain": [
       "<Axes: xlabel='Embarked', ylabel='count'>"
      ]
     },
     "execution_count": 23,
     "metadata": {},
     "output_type": "execute_result"
    },
    {
     "data": {
      "image/png": "[encoded data removed]",
      "text/plain": [
       "<Figure size 640x480 with 1 Axes>"
      ]
     },
     "metadata": {},
     "output_type": "display_data"
    }
   ],
   "source": [
    "sns.countplot(x='Embarked', hue = \"Survived\",data=df)"
   ]
  },
  {
   "cell_type": "markdown",
   "id": "7b0c1ec4",
   "metadata": {
    "papermill": {
     "duration": 0.012254,
     "end_time": "2024-02-29T21:15:03.394161",
     "exception": false,
     "start_time": "2024-02-29T21:15:03.381907",
     "status": "completed"
    },
    "tags": []
   },
   "source": [
    "#### **Take-away:**\n",
    "\n",
    "* Women were more likely to survive than men.\n",
    "* Passengers that travelled in first class were more likely to survive. On the other hand, passengers travelling in third class were more unlikely to survive.\n",
    "* Passengers that embarked in Southampton were less likely to survive."
   ]
  },
  {
   "cell_type": "markdown",
   "id": "e7047f48",
   "metadata": {
    "papermill": {
     "duration": 0.013046,
     "end_time": "2024-02-29T21:15:03.419970",
     "exception": false,
     "start_time": "2024-02-29T21:15:03.406924",
     "status": "completed"
    },
    "tags": []
   },
   "source": [
    "#### **4. Survived vs Pclass ,Sex:**"
   ]
  },
  {
   "cell_type": "code",
   "execution_count": 24,
   "id": "d12f85f6",
   "metadata": {
    "execution": {
     "iopub.execute_input": "2024-02-29T21:15:03.447481Z",
     "iopub.status.busy": "2024-02-29T21:15:03.447044Z",
     "iopub.status.idle": "2024-02-29T21:15:03.458484Z",
     "shell.execute_reply": "2024-02-29T21:15:03.457608Z"
    },
    "papermill": {
     "duration": 0.02863,
     "end_time": "2024-02-29T21:15:03.461331",
     "exception": false,
     "start_time": "2024-02-29T21:15:03.432701",
     "status": "completed"
    },
    "tags": []
   },
   "outputs": [
    {
     "data": {
      "text/html": [
       "<div>\n",
       "<style scoped>\n",
       "    .dataframe tbody tr th:only-of-type {\n",
       "        vertical-align: middle;\n",
       "    }\n",
       "\n",
       "    .dataframe tbody tr th {\n",
       "        vertical-align: top;\n",
       "    }\n",
       "\n",
       "    .dataframe thead th {\n",
       "        text-align: right;\n",
       "    }\n",
       "</style>\n",
       "<table border=\"1\" class=\"dataframe\">\n",
       "  <thead>\n",
       "    <tr style=\"text-align: right;\">\n",
       "      <th></th>\n",
       "      <th></th>\n",
       "      <th></th>\n",
       "      <th>Survived</th>\n",
       "    </tr>\n",
       "    <tr>\n",
       "      <th>Pclass</th>\n",
       "      <th>Sex</th>\n",
       "      <th>Survived</th>\n",
       "      <th></th>\n",
       "    </tr>\n",
       "  </thead>\n",
       "  <tbody>\n",
       "    <tr>\n",
       "      <th rowspan=\"4\" valign=\"top\">1</th>\n",
       "      <th rowspan=\"2\" valign=\"top\">female</th>\n",
       "      <th>0</th>\n",
       "      <td>3</td>\n",
       "    </tr>\n",
       "    <tr>\n",
       "      <th>1</th>\n",
       "      <td>91</td>\n",
       "    </tr>\n",
       "    <tr>\n",
       "      <th rowspan=\"2\" valign=\"top\">male</th>\n",
       "      <th>0</th>\n",
       "      <td>77</td>\n",
       "    </tr>\n",
       "    <tr>\n",
       "      <th>1</th>\n",
       "      <td>45</td>\n",
       "    </tr>\n",
       "    <tr>\n",
       "      <th rowspan=\"4\" valign=\"top\">2</th>\n",
       "      <th rowspan=\"2\" valign=\"top\">female</th>\n",
       "      <th>0</th>\n",
       "      <td>6</td>\n",
       "    </tr>\n",
       "    <tr>\n",
       "      <th>1</th>\n",
       "      <td>70</td>\n",
       "    </tr>\n",
       "    <tr>\n",
       "      <th rowspan=\"2\" valign=\"top\">male</th>\n",
       "      <th>0</th>\n",
       "      <td>91</td>\n",
       "    </tr>\n",
       "    <tr>\n",
       "      <th>1</th>\n",
       "      <td>17</td>\n",
       "    </tr>\n",
       "    <tr>\n",
       "      <th rowspan=\"4\" valign=\"top\">3</th>\n",
       "      <th rowspan=\"2\" valign=\"top\">female</th>\n",
       "      <th>0</th>\n",
       "      <td>72</td>\n",
       "    </tr>\n",
       "    <tr>\n",
       "      <th>1</th>\n",
       "      <td>72</td>\n",
       "    </tr>\n",
       "    <tr>\n",
       "      <th rowspan=\"2\" valign=\"top\">male</th>\n",
       "      <th>0</th>\n",
       "      <td>300</td>\n",
       "    </tr>\n",
       "    <tr>\n",
       "      <th>1</th>\n",
       "      <td>47</td>\n",
       "    </tr>\n",
       "  </tbody>\n",
       "</table>\n",
       "</div>"
      ],
      "text/plain": [
       "                        Survived\n",
       "Pclass Sex    Survived          \n",
       "1      female 0                3\n",
       "              1               91\n",
       "       male   0               77\n",
       "              1               45\n",
       "2      female 0                6\n",
       "              1               70\n",
       "       male   0               91\n",
       "              1               17\n",
       "3      female 0               72\n",
       "              1               72\n",
       "       male   0              300\n",
       "              1               47"
      ]
     },
     "execution_count": 24,
     "metadata": {},
     "output_type": "execute_result"
    }
   ],
   "source": [
    " pd.DataFrame(df.groupby(['Pclass','Sex', 'Survived'])['Survived'].count())"
   ]
  }
 ],
 "metadata": {
  "kaggle": {
   "accelerator": "none",
   "dataSources": [
    {
     "databundleVersionId": 26502,
     "sourceId": 3136,
     "sourceType": "competition"
    }
   ],
   "dockerImageVersionId": 30664,
   "isGpuEnabled": false,
   "isInternetEnabled": true,
   "language": "python",
   "sourceType": "notebook"
  },
  "kernelspec": {
   "display_name": "Python 3",
   "language": "python",
   "name": "python3"
  },
  "language_info": {
   "codemirror_mode": {
    "name": "ipython",
    "version": 3
   },
   "file_extension": ".py",
   "mimetype": "text/x-python",
   "name": "python",
   "nbconvert_exporter": "python",
   "pygments_lexer": "ipython3",
   "version": "3.10.13"
  },
  "papermill": {
   "default_parameters": {},
   "duration": 9.199895,
   "end_time": "2024-02-29T21:15:04.095269",
   "environment_variables": {},
   "exception": null,
   "input_path": "__notebook__.ipynb",
   "output_path": "__notebook__.ipynb",
   "parameters": {},
   "start_time": "2024-02-29T21:14:54.895374",
   "version": "2.5.0"
  }
 },
 "nbformat": 4,
 "nbformat_minor": 5
}
